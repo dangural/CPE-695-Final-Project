{
 "cells": [
  {
   "cell_type": "code",
   "execution_count": 30,
   "metadata": {},
   "outputs": [],
   "source": [
    "import warnings \n",
    "warnings.filterwarnings('ignore') # feel free to comment this out if you want to see warnings \n",
    "\n",
    "import csv \n",
    "import pandas as pd\n",
    "import datetime\n",
    "import matplotlib.pyplot as plt\n",
    "from sklearn.model_selection import train_test_split\n",
    "from sklearn.preprocessing import MinMaxScaler\n",
    "from keras.preprocessing.sequence import TimeseriesGenerator\n",
    "\n",
    "from keras.models import Sequential\n",
    "from keras.layers import Dense, LSTM, Input, Flatten\n",
    "\n",
    "\n",
    "from statsmodels.tools.eval_measures import rmse\n",
    "\n",
    "import numpy as np"
   ]
  },
  {
   "cell_type": "code",
   "execution_count": 31,
   "metadata": {},
   "outputs": [],
   "source": [
    "ebola = pd.read_csv('../data/ebola-cases/ebola.csv')"
   ]
  },
  {
   "cell_type": "code",
   "execution_count": 32,
   "metadata": {},
   "outputs": [
    {
     "data": {
      "text/html": [
       "<div>\n",
       "<style scoped>\n",
       "    .dataframe tbody tr th:only-of-type {\n",
       "        vertical-align: middle;\n",
       "    }\n",
       "\n",
       "    .dataframe tbody tr th {\n",
       "        vertical-align: top;\n",
       "    }\n",
       "\n",
       "    .dataframe thead th {\n",
       "        text-align: right;\n",
       "    }\n",
       "</style>\n",
       "<table border=\"1\" class=\"dataframe\">\n",
       "  <thead>\n",
       "    <tr style=\"text-align: right;\">\n",
       "      <th></th>\n",
       "      <th>Indicator</th>\n",
       "      <th>Country</th>\n",
       "      <th>Date</th>\n",
       "      <th>value</th>\n",
       "    </tr>\n",
       "  </thead>\n",
       "  <tbody>\n",
       "    <tr>\n",
       "      <th>0</th>\n",
       "      <td>Cumulative number of confirmed, probable and s...</td>\n",
       "      <td>Guinea</td>\n",
       "      <td>2015-03-10</td>\n",
       "      <td>3285.0</td>\n",
       "    </tr>\n",
       "    <tr>\n",
       "      <th>1</th>\n",
       "      <td>Cumulative number of confirmed Ebola cases</td>\n",
       "      <td>Guinea</td>\n",
       "      <td>2015-03-10</td>\n",
       "      <td>2871.0</td>\n",
       "    </tr>\n",
       "    <tr>\n",
       "      <th>2</th>\n",
       "      <td>Cumulative number of probable Ebola cases</td>\n",
       "      <td>Guinea</td>\n",
       "      <td>2015-03-10</td>\n",
       "      <td>392.0</td>\n",
       "    </tr>\n",
       "    <tr>\n",
       "      <th>3</th>\n",
       "      <td>Cumulative number of suspected Ebola cases</td>\n",
       "      <td>Guinea</td>\n",
       "      <td>2015-03-10</td>\n",
       "      <td>22.0</td>\n",
       "    </tr>\n",
       "    <tr>\n",
       "      <th>4</th>\n",
       "      <td>Cumulative number of confirmed, probable and s...</td>\n",
       "      <td>Guinea</td>\n",
       "      <td>2015-03-10</td>\n",
       "      <td>2170.0</td>\n",
       "    </tr>\n",
       "    <tr>\n",
       "      <th>5</th>\n",
       "      <td>Cumulative number of confirmed Ebola deaths</td>\n",
       "      <td>Guinea</td>\n",
       "      <td>2015-03-10</td>\n",
       "      <td>1778.0</td>\n",
       "    </tr>\n",
       "    <tr>\n",
       "      <th>6</th>\n",
       "      <td>Cumulative number of probable Ebola deaths</td>\n",
       "      <td>Guinea</td>\n",
       "      <td>2015-03-10</td>\n",
       "      <td>392.0</td>\n",
       "    </tr>\n",
       "    <tr>\n",
       "      <th>7</th>\n",
       "      <td>Cumulative number of confirmed, probable and s...</td>\n",
       "      <td>Liberia</td>\n",
       "      <td>2015-03-10</td>\n",
       "      <td>9343.0</td>\n",
       "    </tr>\n",
       "    <tr>\n",
       "      <th>8</th>\n",
       "      <td>Cumulative number of confirmed Ebola cases</td>\n",
       "      <td>Liberia</td>\n",
       "      <td>2015-03-10</td>\n",
       "      <td>3150.0</td>\n",
       "    </tr>\n",
       "    <tr>\n",
       "      <th>9</th>\n",
       "      <td>Cumulative number of probable Ebola cases</td>\n",
       "      <td>Liberia</td>\n",
       "      <td>2015-03-10</td>\n",
       "      <td>1879.0</td>\n",
       "    </tr>\n",
       "    <tr>\n",
       "      <th>10</th>\n",
       "      <td>Cumulative number of suspected Ebola cases</td>\n",
       "      <td>Liberia</td>\n",
       "      <td>2015-03-10</td>\n",
       "      <td>4314.0</td>\n",
       "    </tr>\n",
       "    <tr>\n",
       "      <th>11</th>\n",
       "      <td>Cumulative number of confirmed, probable and s...</td>\n",
       "      <td>Liberia</td>\n",
       "      <td>2015-03-10</td>\n",
       "      <td>4162.0</td>\n",
       "    </tr>\n",
       "    <tr>\n",
       "      <th>12</th>\n",
       "      <td>Cumulative number of confirmed, probable and s...</td>\n",
       "      <td>Sierra Leone</td>\n",
       "      <td>2015-03-10</td>\n",
       "      <td>11619.0</td>\n",
       "    </tr>\n",
       "    <tr>\n",
       "      <th>13</th>\n",
       "      <td>Cumulative number of confirmed Ebola cases</td>\n",
       "      <td>Sierra Leone</td>\n",
       "      <td>2015-03-10</td>\n",
       "      <td>8428.0</td>\n",
       "    </tr>\n",
       "    <tr>\n",
       "      <th>14</th>\n",
       "      <td>Cumulative number of probable Ebola cases</td>\n",
       "      <td>Sierra Leone</td>\n",
       "      <td>2015-03-10</td>\n",
       "      <td>287.0</td>\n",
       "    </tr>\n",
       "  </tbody>\n",
       "</table>\n",
       "</div>"
      ],
      "text/plain": [
       "                                            Indicator       Country  \\\n",
       "0   Cumulative number of confirmed, probable and s...        Guinea   \n",
       "1          Cumulative number of confirmed Ebola cases        Guinea   \n",
       "2           Cumulative number of probable Ebola cases        Guinea   \n",
       "3          Cumulative number of suspected Ebola cases        Guinea   \n",
       "4   Cumulative number of confirmed, probable and s...        Guinea   \n",
       "5         Cumulative number of confirmed Ebola deaths        Guinea   \n",
       "6          Cumulative number of probable Ebola deaths        Guinea   \n",
       "7   Cumulative number of confirmed, probable and s...       Liberia   \n",
       "8          Cumulative number of confirmed Ebola cases       Liberia   \n",
       "9           Cumulative number of probable Ebola cases       Liberia   \n",
       "10         Cumulative number of suspected Ebola cases       Liberia   \n",
       "11  Cumulative number of confirmed, probable and s...       Liberia   \n",
       "12  Cumulative number of confirmed, probable and s...  Sierra Leone   \n",
       "13         Cumulative number of confirmed Ebola cases  Sierra Leone   \n",
       "14          Cumulative number of probable Ebola cases  Sierra Leone   \n",
       "\n",
       "          Date    value  \n",
       "0   2015-03-10   3285.0  \n",
       "1   2015-03-10   2871.0  \n",
       "2   2015-03-10    392.0  \n",
       "3   2015-03-10     22.0  \n",
       "4   2015-03-10   2170.0  \n",
       "5   2015-03-10   1778.0  \n",
       "6   2015-03-10    392.0  \n",
       "7   2015-03-10   9343.0  \n",
       "8   2015-03-10   3150.0  \n",
       "9   2015-03-10   1879.0  \n",
       "10  2015-03-10   4314.0  \n",
       "11  2015-03-10   4162.0  \n",
       "12  2015-03-10  11619.0  \n",
       "13  2015-03-10   8428.0  \n",
       "14  2015-03-10    287.0  "
      ]
     },
     "execution_count": 32,
     "metadata": {},
     "output_type": "execute_result"
    }
   ],
   "source": [
    "ebola.head(15)"
   ]
  },
  {
   "cell_type": "code",
   "execution_count": 33,
   "metadata": {},
   "outputs": [],
   "source": [
    "ebola = ebola[[\"Country\", \"Date\", \"value\"]]"
   ]
  },
  {
   "cell_type": "code",
   "execution_count": 34,
   "metadata": {},
   "outputs": [
    {
     "data": {
      "text/plain": [
       "['Guinea',\n",
       " 'Liberia',\n",
       " 'Sierra Leone',\n",
       " 'United Kingdom',\n",
       " 'Mali',\n",
       " 'Nigeria',\n",
       " 'Senegal',\n",
       " 'Spain',\n",
       " 'United States of America',\n",
       " 'Italy',\n",
       " 'Liberia 2',\n",
       " 'Guinea 2']"
      ]
     },
     "execution_count": 34,
     "metadata": {},
     "output_type": "execute_result"
    }
   ],
   "source": [
    "countries = list(ebola[\"Country\"].unique())\n",
    "countries"
   ]
  },
  {
   "cell_type": "markdown",
   "metadata": {},
   "source": [
    "West African Countries suffered the worst for the outbreak, so let's take a look at that. \n",
    "\n",
    "Let's also sum up values for each date "
   ]
  },
  {
   "cell_type": "code",
   "execution_count": 35,
   "metadata": {},
   "outputs": [],
   "source": [
    "cols = [\"Country\", \"Date\"]\n",
    "\n",
    "nigeria = ebola.loc[ebola[\"Country\"] == \"Nigeria\"]\n",
    "nigeria = nigeria.groupby(cols, as_index=False).value.sum()\n",
    "nigeria = nigeria.reset_index(drop=True)\n",
    "\n",
    "guinea = ebola.loc[ebola[\"Country\"] == \"Guinea\"]\n",
    "guinea = guinea.groupby(cols, as_index=False).value.sum()\n",
    "guinea = guinea.reset_index(drop=True)\n",
    "\n",
    "liberia = ebola.loc[ebola[\"Country\"] == \"Liberia\"]\n",
    "liberia = liberia.groupby(cols, as_index=False).value.sum()\n",
    "liberia = liberia.reset_index(drop=True)"
   ]
  },
  {
   "cell_type": "code",
   "execution_count": 36,
   "metadata": {},
   "outputs": [
    {
     "data": {
      "image/png": "[encoded data removed]",
      "text/plain": [
       "<Figure size 432x288 with 1 Axes>"
      ]
     },
     "metadata": {
      "needs_background": "light"
     },
     "output_type": "display_data"
    }
   ],
   "source": [
    "china_line = plt.plot(liberia.index, liberia['value'], 'g', linewidth = 2, label=\"Liberia\")\n",
    "us_line = plt.plot(nigeria.index, nigeria['value'],'b',linewidth = 2, label=\"Nigeria\")\n",
    "italy_line = plt.plot(guinea.index, guinea['value'],'r',linewidth = 2, label=\"Guinea\")\n",
    "plt.title(\"Ebola Virus: Liberia, Nigeria, Guinea Edition\")\n",
    "plt.xlabel(\"Days after the 10th confirmed case\")\n",
    "plt.ylabel(\"Confirmed Cases\")\n",
    "plt.legend()\n",
    "plt.show()"
   ]
  },
  {
   "cell_type": "code",
   "execution_count": 37,
   "metadata": {},
   "outputs": [],
   "source": [
    "liberia = liberia.drop([\"Country\"],axis=1)\n",
    "nigeria = nigeria.drop([\"Country\"],axis=1)\n",
    "guinea = guinea.drop([\"Country\"],axis=1)\n",
    "\n",
    "\n",
    "liberia.Date = pd.to_datetime(liberia.Date)\n",
    "nigeria.Date = pd.to_datetime(nigeria.Date)\n",
    "guinea.Date = pd.to_datetime(guinea.Date)\n",
    "\n",
    "liberia = liberia.set_index(\"Date\")\n",
    "nigeria = nigeria.set_index(\"Date\")\n",
    "guinea = guinea.set_index(\"Date\")\n",
    "\n",
    "train_data_liberia = liberia[:len(liberia)-51]\n",
    "test_data_liberia = liberia[len(liberia)-51:]\n",
    "train_data_nigeria = nigeria[:len(nigeria)-51]\n",
    "test_data_nigeria = nigeria[len(nigeria)-51:]\n",
    "train_data_guinea = guinea[:len(guinea)-51]\n",
    "test_data_guinea = guinea[len(guinea)-51:]"
   ]
  },
  {
   "cell_type": "code",
   "execution_count": 38,
   "metadata": {},
   "outputs": [],
   "source": [
    "scaler = MinMaxScaler()\n",
    "scaler.fit(train_data_liberia)\n",
    "scaled_train_data = scaler.transform(train_data_liberia)\n",
    "scaled_test_data = scaler.transform(test_data_liberia)"
   ]
  },
  {
   "cell_type": "code",
   "execution_count": 39,
   "metadata": {},
   "outputs": [],
   "source": [
    "n_input = 7\n",
    "n_features= 1\n",
    "generator = TimeseriesGenerator(scaled_train_data, scaled_train_data, length=n_input, batch_size=1)"
   ]
  },
  {
   "cell_type": "code",
   "execution_count": 40,
   "metadata": {},
   "outputs": [],
   "source": [
    "lstm_model = Sequential()\n",
    "lstm_model.add(LSTM(200, activation='relu', input_shape=(n_input, n_features)))\n",
    "lstm_model.add(Dense(1))\n",
    "lstm_model.compile(optimizer='adam', loss='mse')"
   ]
  },
  {
   "cell_type": "code",
   "execution_count": 41,
   "metadata": {},
   "outputs": [
    {
     "name": "stdout",
     "output_type": "stream",
     "text": [
      "Model: \"sequential_4\"\n",
      "_________________________________________________________________\n",
      "Layer (type)                 Output Shape              Param #   \n",
      "=================================================================\n",
      "lstm_4 (LSTM)                (None, 200)               161600    \n",
      "_________________________________________________________________\n",
      "dense_4 (Dense)              (None, 1)                 201       \n",
      "=================================================================\n",
      "Total params: 161,801\n",
      "Trainable params: 161,801\n",
      "Non-trainable params: 0\n",
      "_________________________________________________________________\n",
      "Epoch 1/20\n",
      "201/201 [==============================] - 2s 11ms/step - loss: 0.0347\n",
      "Epoch 2/20\n",
      "201/201 [==============================] - 2s 11ms/step - loss: 0.0028\n",
      "Epoch 3/20\n",
      "201/201 [==============================] - 2s 12ms/step - loss: 0.0028\n",
      "Epoch 4/20\n",
      "201/201 [==============================] - 3s 13ms/step - loss: 0.0029: 0s - l\n",
      "Epoch 5/20\n",
      "201/201 [==============================] - 3s 13ms/step - loss: 0.0030\n",
      "Epoch 6/20\n",
      "201/201 [==============================] - 3s 13ms/step - loss: 0.0030\n",
      "Epoch 7/20\n",
      "201/201 [==============================] - 2s 10ms/step - loss: 0.0028\n",
      "Epoch 8/20\n",
      "201/201 [==============================] - 3s 15ms/step - loss: 0.0027\n",
      "Epoch 9/20\n",
      "201/201 [==============================] - 2s 9ms/step - loss: 0.0031\n",
      "Epoch 10/20\n",
      "201/201 [==============================] - 2s 11ms/step - loss: 0.0029\n",
      "Epoch 11/20\n",
      "201/201 [==============================] - 2s 10ms/step - loss: 0.0028\n",
      "Epoch 12/20\n",
      "201/201 [==============================] - 2s 10ms/step - loss: 0.0029\n",
      "Epoch 13/20\n",
      "201/201 [==============================] - 2s 10ms/step - loss: 0.0026\n",
      "Epoch 14/20\n",
      "201/201 [==============================] - 2s 10ms/step - loss: 0.0027\n",
      "Epoch 15/20\n",
      "201/201 [==============================] - 2s 12ms/step - loss: 0.0028\n",
      "Epoch 16/20\n",
      "201/201 [==============================] - 2s 10ms/step - loss: 0.0026\n",
      "Epoch 17/20\n",
      "201/201 [==============================] - 2s 10ms/step - loss: 0.0028\n",
      "Epoch 18/20\n",
      "201/201 [==============================] - 2s 9ms/step - loss: 0.0025\n",
      "Epoch 19/20\n",
      "201/201 [==============================] - 2s 9ms/step - loss: 0.0027\n",
      "Epoch 20/20\n",
      "201/201 [==============================] - 2s 9ms/step - loss: 0.0027\n"
     ]
    },
    {
     "data": {
      "text/plain": [
       "<keras.callbacks.callbacks.History at 0x12f805208>"
      ]
     },
     "execution_count": 41,
     "metadata": {},
     "output_type": "execute_result"
    }
   ],
   "source": [
    "lstm_model.summary()\n",
    "\n",
    "lstm_model.fit_generator(generator,epochs=20)"
   ]
  },
  {
   "cell_type": "code",
   "execution_count": 42,
   "metadata": {},
   "outputs": [
    {
     "data": {
      "image/png": "[encoded data removed]",
      "text/plain": [
       "<Figure size 864x288 with 1 Axes>"
      ]
     },
     "metadata": {
      "needs_background": "light"
     },
     "output_type": "display_data"
    }
   ],
   "source": [
    "losses_lstm = lstm_model.history.history['loss']\n",
    "plt.figure(figsize=(12,4))\n",
    "plt.xlabel(\"Epochs\")\n",
    "plt.ylabel(\"Loss\")\n",
    "plt.xticks(np.arange(0,21,1))\n",
    "plt.plot(range(len(losses_lstm)),losses_lstm);\n"
   ]
  },
  {
   "cell_type": "code",
   "execution_count": 43,
   "metadata": {},
   "outputs": [
    {
     "data": {
      "text/plain": [
       "array([[26292.90320396],\n",
       "       [26328.28895736],\n",
       "       [26361.94491768],\n",
       "       [26397.9283638 ],\n",
       "       [26436.30023694],\n",
       "       [26477.19882679],\n",
       "       [26521.90624285],\n",
       "       [26570.30294657],\n",
       "       [26610.08349943],\n",
       "       [26649.71638703],\n",
       "       [26689.64929295],\n",
       "       [26729.74158359],\n",
       "       [26769.8432498 ],\n",
       "       [26809.79021907],\n",
       "       [26849.21918797],\n",
       "       [26887.77154088],\n",
       "       [26926.05434608],\n",
       "       [26964.09338641],\n",
       "       [27001.84412789],\n",
       "       [27039.27609992],\n",
       "       [27076.36117578],\n",
       "       [27113.08997989],\n",
       "       [27149.46485615],\n",
       "       [27185.5397141 ],\n",
       "       [27221.31220984],\n",
       "       [27256.77999949],\n",
       "       [27291.94073915],\n",
       "       [27326.8014605 ],\n",
       "       [27361.36919522],\n",
       "       [27395.64159942],\n",
       "       [27429.63508034],\n",
       "       [27463.34729409],\n",
       "       [27496.78761625],\n",
       "       [27529.95135903],\n",
       "       [27562.84789801],\n",
       "       [27595.48426485],\n",
       "       [27627.86045957],\n",
       "       [27659.98116994],\n",
       "       [27691.84873986],\n",
       "       [27723.47020102],\n",
       "       [27754.84789729],\n",
       "       [27785.98651648],\n",
       "       [27816.89074636],\n",
       "       [27847.56293082],\n",
       "       [27878.00541377],\n",
       "       [27908.22288299],\n",
       "       [27938.22237015],\n",
       "       [27967.99918747],\n",
       "       [27997.56271052],\n",
       "       [28026.91293931],\n",
       "       [28056.05456161]])"
      ]
     },
     "execution_count": 43,
     "metadata": {},
     "output_type": "execute_result"
    }
   ],
   "source": [
    "lstm_predictions_scaled = list()\n",
    "\n",
    "batch = scaled_train_data[-n_input:]\n",
    "current_batch = batch.reshape((1, n_input, n_features))\n",
    "\n",
    "for i in range(len(test_data_liberia)):   \n",
    "    lstm_pred = lstm_model.predict(current_batch)[0]\n",
    "    lstm_predictions_scaled.append(lstm_pred) \n",
    "    current_batch = np.append(current_batch[:,1:,:],[[lstm_pred]],axis=1)\n",
    "\n",
    "lstm_predictions_scaled\n",
    "\n",
    "lstm_predictions = scaler.inverse_transform(lstm_predictions_scaled)\n",
    "\n",
    "lstm_predictions"
   ]
  },
  {
   "cell_type": "code",
   "execution_count": 44,
   "metadata": {},
   "outputs": [
    {
     "data": {
      "image/png": "[encoded data removed]",
      "text/plain": [
       "<Figure size 1152x360 with 1 Axes>"
      ]
     },
     "metadata": {
      "needs_background": "light"
     },
     "output_type": "display_data"
    }
   ],
   "source": [
    "test_data_liberia['LSTM_Predictions'] = lstm_predictions\n",
    "test_data_liberia\n",
    "\n",
    "\n",
    "test_data_liberia['value'].plot(figsize = (16,5), legend=True)\n",
    "test_data_liberia['LSTM_Predictions'].plot(legend = True);\n",
    "\n",
    "\n",
    "\n",
    "lstm_rmse_error_liberia = rmse(test_data_liberia['value'], test_data_liberia[\"LSTM_Predictions\"])\n",
    "lstm_mse_error_liberia = lstm_rmse_error_liberia**2\n",
    "mean_value = liberia['value'].mean()\n"
   ]
  },
  {
   "cell_type": "code",
   "execution_count": 45,
   "metadata": {},
   "outputs": [],
   "source": [
    "scaler = MinMaxScaler()\n",
    "scaler.fit(train_data_nigeria)\n",
    "scaled_train_data = scaler.transform(train_data_nigeria)\n",
    "scaled_test_data = scaler.transform(test_data_nigeria)\n"
   ]
  },
  {
   "cell_type": "code",
   "execution_count": 46,
   "metadata": {},
   "outputs": [
    {
     "name": "stdout",
     "output_type": "stream",
     "text": [
      "Model: \"sequential_5\"\n",
      "_________________________________________________________________\n",
      "Layer (type)                 Output Shape              Param #   \n",
      "=================================================================\n",
      "lstm_5 (LSTM)                (None, 200)               161600    \n",
      "_________________________________________________________________\n",
      "dense_5 (Dense)              (None, 1)                 201       \n",
      "=================================================================\n",
      "Total params: 161,801\n",
      "Trainable params: 161,801\n",
      "Non-trainable params: 0\n",
      "_________________________________________________________________\n",
      "Epoch 1/20\n",
      "197/197 [==============================] - 3s 15ms/step - loss: 4.8760e-05\n",
      "Epoch 2/20\n",
      "197/197 [==============================] - 3s 16ms/step - loss: 9.3654e-07\n",
      "Epoch 3/20\n",
      "197/197 [==============================] - 3s 14ms/step - loss: 1.3420e-07\n",
      "Epoch 4/20\n",
      "197/197 [==============================] - 4s 21ms/step - loss: 2.2005e-08\n",
      "Epoch 5/20\n",
      "197/197 [==============================] - 5s 27ms/step - loss: 1.9886e-07\n",
      "Epoch 6/20\n",
      "197/197 [==============================] - 4s 20ms/step - loss: 3.5561e-07\n",
      "Epoch 7/20\n",
      "197/197 [==============================] - 3s 17ms/step - loss: 9.4092e-08\n",
      "Epoch 8/20\n",
      "197/197 [==============================] - 3s 18ms/step - loss: 1.3059e-07\n",
      "Epoch 9/20\n",
      "197/197 [==============================] - 3s 17ms/step - loss: 2.1709e-09\n",
      "Epoch 10/20\n",
      "197/197 [==============================] - 3s 17ms/step - loss: 5.1544e-09\n",
      "Epoch 11/20\n",
      "197/197 [==============================] - 2s 13ms/step - loss: 8.0717e-10\n",
      "Epoch 12/20\n",
      "197/197 [==============================] - 2s 13ms/step - loss: 8.0422e-09\n",
      "Epoch 13/20\n",
      "197/197 [==============================] - 3s 15ms/step - loss: 4.4038e-09\n",
      "Epoch 14/20\n",
      "197/197 [==============================] - 3s 17ms/step - loss: 1.0949e-07\n",
      "Epoch 15/20\n",
      "197/197 [==============================] - 4s 18ms/step - loss: 2.8485e-07\n",
      "Epoch 16/20\n",
      "197/197 [==============================] - 3s 16ms/step - loss: 2.4229e-06\n",
      "Epoch 17/20\n",
      "197/197 [==============================] - 4s 22ms/step - loss: 6.4339e-06\n",
      "Epoch 18/20\n",
      "197/197 [==============================] - 3s 17ms/step - loss: 3.3822e-07\n",
      "Epoch 19/20\n",
      "197/197 [==============================] - 4s 19ms/step - loss: 4.8856e-08\n",
      "Epoch 20/20\n",
      "197/197 [==============================] - 4s 22ms/step - loss: 3.5436e-09\n"
     ]
    },
    {
     "data": {
      "text/plain": [
       "<keras.callbacks.callbacks.History at 0x12f3c9710>"
      ]
     },
     "execution_count": 46,
     "metadata": {},
     "output_type": "execute_result"
    }
   ],
   "source": [
    "n_input = 7\n",
    "n_features= 1\n",
    "generator = TimeseriesGenerator(scaled_train_data, scaled_train_data, length=n_input, batch_size=1)\n",
    "\n",
    "\n",
    "lstm_model = Sequential()\n",
    "lstm_model.add(LSTM(200, activation='relu', input_shape=(n_input, n_features)))\n",
    "lstm_model.add(Dense(1))\n",
    "lstm_model.compile(optimizer='adam', loss='mse')\n",
    "\n",
    "lstm_model.summary()\n",
    "\n",
    "lstm_model.fit_generator(generator,epochs=20)"
   ]
  },
  {
   "cell_type": "code",
   "execution_count": 50,
   "metadata": {},
   "outputs": [
    {
     "data": {
      "text/plain": [
       "array([[56.04036096],\n",
       "       [56.040496  ],\n",
       "       [56.04059133],\n",
       "       [56.04065895],\n",
       "       [56.04070716],\n",
       "       [56.04074133],\n",
       "       [56.04076572],\n",
       "       [56.04078299],\n",
       "       [56.04078349],\n",
       "       [56.04078371],\n",
       "       [56.04078385],\n",
       "       [56.04078399],\n",
       "       [56.04078392],\n",
       "       [56.04078392],\n",
       "       [56.04078392],\n",
       "       [56.04078392],\n",
       "       [56.04078392],\n",
       "       [56.04078392],\n",
       "       [56.04078392],\n",
       "       [56.04078392],\n",
       "       [56.04078392],\n",
       "       [56.04078392],\n",
       "       [56.04078392],\n",
       "       [56.04078392],\n",
       "       [56.04078392],\n",
       "       [56.04078392],\n",
       "       [56.04078392],\n",
       "       [56.04078392],\n",
       "       [56.04078392],\n",
       "       [56.04078392],\n",
       "       [56.04078392],\n",
       "       [56.04078392],\n",
       "       [56.04078392],\n",
       "       [56.04078392],\n",
       "       [56.04078392],\n",
       "       [56.04078392],\n",
       "       [56.04078392],\n",
       "       [56.04078392],\n",
       "       [56.04078392],\n",
       "       [56.04078392],\n",
       "       [56.04078392],\n",
       "       [56.04078392],\n",
       "       [56.04078392],\n",
       "       [56.04078392],\n",
       "       [56.04078392],\n",
       "       [56.04078392],\n",
       "       [56.04078392],\n",
       "       [56.04078392],\n",
       "       [56.04078392],\n",
       "       [56.04078392],\n",
       "       [56.04078392]])"
      ]
     },
     "execution_count": 50,
     "metadata": {},
     "output_type": "execute_result"
    },
    {
     "data": {
      "image/png": "[encoded data removed]",
      "text/plain": [
       "<Figure size 864x288 with 1 Axes>"
      ]
     },
     "metadata": {
      "needs_background": "light"
     },
     "output_type": "display_data"
    }
   ],
   "source": [
    "losses_lstm = lstm_model.history.history['loss']\n",
    "plt.figure(figsize=(12,4))\n",
    "plt.xlabel(\"Epochs\")\n",
    "plt.ylabel(\"Loss\")\n",
    "plt.xticks(np.arange(0,21,1))\n",
    "plt.plot(range(len(losses_lstm)),losses_lstm);\n",
    "\n",
    "\n",
    "lstm_predictions_scaled = list()\n",
    "\n",
    "batch = scaled_train_data[-n_input:]\n",
    "current_batch = batch.reshape((1, n_input, n_features))\n",
    "\n",
    "for i in range(len(test_data_nigeria)):   \n",
    "    lstm_pred = lstm_model.predict(current_batch)[0]\n",
    "    lstm_predictions_scaled.append(lstm_pred) \n",
    "    current_batch = np.append(current_batch[:,1:,:],[[lstm_pred]],axis=1)\n",
    "\n",
    "lstm_predictions_scaled\n",
    "\n",
    "lstm_predictions = scaler.inverse_transform(lstm_predictions_scaled)\n",
    "\n",
    "lstm_predictions\n"
   ]
  },
  {
   "cell_type": "code",
   "execution_count": 51,
   "metadata": {},
   "outputs": [
    {
     "data": {
      "image/png": "[encoded data removed]",
      "text/plain": [
       "<Figure size 1152x360 with 1 Axes>"
      ]
     },
     "metadata": {
      "needs_background": "light"
     },
     "output_type": "display_data"
    }
   ],
   "source": [
    "test_data_nigeria['LSTM_Predictions'] = lstm_predictions\n",
    "test_data_nigeria\n",
    "\n",
    "\n",
    "test_data_nigeria['value'].plot(figsize = (16,5), legend=True)\n",
    "test_data_nigeria['LSTM_Predictions'].plot(legend = True);"
   ]
  },
  {
   "cell_type": "code",
   "execution_count": 52,
   "metadata": {},
   "outputs": [],
   "source": [
    "lstm_rmse_error_nigeria = rmse(test_data_nigeria['value'], test_data_nigeria[\"LSTM_Predictions\"])\n",
    "lstm_mse_error_nigeria = lstm_rmse_error_nigeria**2\n",
    "mean_value = nigeria['value'].mean()"
   ]
  },
  {
   "cell_type": "code",
   "execution_count": 53,
   "metadata": {},
   "outputs": [],
   "source": [
    "scaler = MinMaxScaler()\n",
    "scaler.fit(train_data_guinea)\n",
    "scaled_train_data = scaler.transform(train_data_guinea)\n",
    "scaled_test_data = scaler.transform(test_data_guinea)\n"
   ]
  },
  {
   "cell_type": "code",
   "execution_count": 54,
   "metadata": {},
   "outputs": [],
   "source": [
    "n_input = 7\n",
    "n_features= 1\n",
    "generator = TimeseriesGenerator(scaled_train_data, scaled_train_data, length=n_input, batch_size=1)\n"
   ]
  },
  {
   "cell_type": "code",
   "execution_count": 55,
   "metadata": {},
   "outputs": [
    {
     "name": "stdout",
     "output_type": "stream",
     "text": [
      "Model: \"sequential_6\"\n",
      "_________________________________________________________________\n",
      "Layer (type)                 Output Shape              Param #   \n",
      "=================================================================\n",
      "lstm_6 (LSTM)                (None, 200)               161600    \n",
      "_________________________________________________________________\n",
      "dense_6 (Dense)              (None, 1)                 201       \n",
      "=================================================================\n",
      "Total params: 161,801\n",
      "Trainable params: 161,801\n",
      "Non-trainable params: 0\n",
      "_________________________________________________________________\n",
      "Epoch 1/20\n",
      "201/201 [==============================] - 4s 19ms/step - loss: 0.0455\n",
      "Epoch 2/20\n",
      "201/201 [==============================] - 3s 17ms/step - loss: 8.4911e-04\n",
      "Epoch 3/20\n",
      "201/201 [==============================] - 3s 13ms/step - loss: 9.9795e-04\n",
      "Epoch 4/20\n",
      "201/201 [==============================] - 3s 14ms/step - loss: 7.6588e-04\n",
      "Epoch 5/20\n",
      "201/201 [==============================] - 3s 15ms/step - loss: 7.7169e-04\n",
      "Epoch 6/20\n",
      "201/201 [==============================] - 2s 12ms/step - loss: 9.0385e-04\n",
      "Epoch 7/20\n",
      "201/201 [==============================] - 3s 14ms/step - loss: 0.0011\n",
      "Epoch 8/20\n",
      "201/201 [==============================] - 2s 12ms/step - loss: 0.0011\n",
      "Epoch 9/20\n",
      "201/201 [==============================] - 3s 14ms/step - loss: 8.3964e-04\n",
      "Epoch 10/20\n",
      "201/201 [==============================] - 3s 15ms/step - loss: 0.0012\n",
      "Epoch 11/20\n",
      "201/201 [==============================] - 3s 16ms/step - loss: 0.0014\n",
      "Epoch 12/20\n",
      "201/201 [==============================] - 3s 13ms/step - loss: 0.0011\n",
      "Epoch 13/20\n",
      "201/201 [==============================] - 3s 14ms/step - loss: 0.0011\n",
      "Epoch 14/20\n",
      "201/201 [==============================] - 4s 17ms/step - loss: 8.1964e-04\n",
      "Epoch 15/20\n",
      "201/201 [==============================] - 2s 9ms/step - loss: 7.0474e-04\n",
      "Epoch 16/20\n",
      "201/201 [==============================] - 3s 15ms/step - loss: 9.5572e-04\n",
      "Epoch 17/20\n",
      "201/201 [==============================] - 4s 18ms/step - loss: 8.5137e-04\n",
      "Epoch 18/20\n",
      "201/201 [==============================] - 3s 14ms/step - loss: 0.0011\n",
      "Epoch 19/20\n",
      "201/201 [==============================] - 4s 18ms/step - loss: 8.5336e-04\n",
      "Epoch 20/20\n",
      "201/201 [==============================] - 4s 20ms/step - loss: 8.4310e-04\n"
     ]
    },
    {
     "data": {
      "text/plain": [
       "<keras.callbacks.callbacks.History at 0x131c557b8>"
      ]
     },
     "execution_count": 55,
     "metadata": {},
     "output_type": "execute_result"
    }
   ],
   "source": [
    "lstm_model = Sequential()\n",
    "lstm_model.add(LSTM(200, activation='relu', input_shape=(n_input, n_features)))\n",
    "lstm_model.add(Dense(1))\n",
    "lstm_model.compile(optimizer='adam', loss='mse')\n",
    "\n",
    "lstm_model.summary()\n",
    "\n",
    "lstm_model.fit_generator(generator,epochs=20)"
   ]
  },
  {
   "cell_type": "code",
   "execution_count": 56,
   "metadata": {},
   "outputs": [
    {
     "data": {
      "image/png": "[encoded data removed]",
      "text/plain": [
       "<Figure size 864x288 with 1 Axes>"
      ]
     },
     "metadata": {
      "needs_background": "light"
     },
     "output_type": "display_data"
    }
   ],
   "source": [
    "losses_lstm = lstm_model.history.history['loss']\n",
    "plt.figure(figsize=(12,4))\n",
    "plt.xlabel(\"Epochs\")\n",
    "plt.ylabel(\"Loss\")\n",
    "plt.xticks(np.arange(0,21,1))\n",
    "plt.plot(range(len(losses_lstm)),losses_lstm);"
   ]
  },
  {
   "cell_type": "code",
   "execution_count": 57,
   "metadata": {},
   "outputs": [
    {
     "data": {
      "image/png": "[encoded data removed]",
      "text/plain": [
       "<Figure size 1152x360 with 1 Axes>"
      ]
     },
     "metadata": {
      "needs_background": "light"
     },
     "output_type": "display_data"
    }
   ],
   "source": [
    "lstm_predictions_scaled = list()\n",
    "\n",
    "batch = scaled_train_data[-n_input:]\n",
    "current_batch = batch.reshape((1, n_input, n_features))\n",
    "\n",
    "for i in range(len(test_data_guinea)):   \n",
    "    lstm_pred = lstm_model.predict(current_batch)[0]\n",
    "    lstm_predictions_scaled.append(lstm_pred) \n",
    "    current_batch = np.append(current_batch[:,1:,:],[[lstm_pred]],axis=1)\n",
    "\n",
    "\n",
    "lstm_predictions = scaler.inverse_transform(lstm_predictions_scaled)\n",
    "\n",
    "\n",
    "test_data_guinea['LSTM_Predictions'] = lstm_predictions\n",
    "\n",
    "test_data_guinea['value'].plot(figsize = (16,5), legend=True)\n",
    "test_data_guinea['LSTM_Predictions'].plot(legend = True);"
   ]
  },
  {
   "cell_type": "code",
   "execution_count": 58,
   "metadata": {},
   "outputs": [],
   "source": [
    "lstm_rmse_error_guinea = rmse(test_data_guinea['value'], test_data_guinea[\"LSTM_Predictions\"])\n",
    "lstm_mse_error_guinea = lstm_rmse_error_guinea**2\n",
    "mean_value = guinea['value'].mean()"
   ]
  },
  {
   "cell_type": "code",
   "execution_count": 59,
   "metadata": {},
   "outputs": [
    {
     "name": "stdout",
     "output_type": "stream",
     "text": [
      "Model                                  MSE          RMSE\n",
      "--------------------------  --------------  ------------\n",
      "Liberia LSTM Errors            1.45472e+06  1206.12\n",
      "Nigeria Arabia LSTM Errors     0.00166147      0.0407611\n",
      "Guinea LSTM Errors          2005.42           44.7819\n"
     ]
    }
   ],
   "source": [
    "from tabulate import tabulate\n",
    "\n",
    "print(tabulate([\n",
    "    ['Liberia LSTM Errors', lstm_mse_error_liberia, lstm_rmse_error_liberia], \n",
    "    ['Nigeria Arabia LSTM Errors', lstm_mse_error_nigeria, lstm_rmse_error_nigeria],\n",
    "    ['Guinea LSTM Errors', lstm_mse_error_guinea, lstm_rmse_error_guinea]], \n",
    "    \n",
    "    headers=['Model', 'MSE', \"RMSE\", \"Mean\"]))\n",
    "\n",
    "\n"
   ]
  },
  {
   "cell_type": "code",
   "execution_count": null,
   "metadata": {},
   "outputs": [],
   "source": []
  }
 ],
 "metadata": {
  "kernelspec": {
   "display_name": "Python 3",
   "language": "python",
   "name": "python3"
  },
  "language_info": {
   "codemirror_mode": {
    "name": "ipython",
    "version": 3
   },
   "file_extension": ".py",
   "mimetype": "text/x-python",
   "name": "python",
   "nbconvert_exporter": "python",
   "pygments_lexer": "ipython3",
   "version": "3.6.5"
  }
 },
 "nbformat": 4,
 "nbformat_minor": 2
}
