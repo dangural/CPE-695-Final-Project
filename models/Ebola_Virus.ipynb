{
 "cells": [
  {
   "cell_type": "code",
   "execution_count": 2,
   "metadata": {},
   "outputs": [],
   "source": [
    "import warnings \n",
    "warnings.filterwarnings('ignore') # feel free to comment this out if you want to see warnings \n",
    "\n",
    "import csv \n",
    "import pandas as pd\n",
    "import datetime\n",
    "import matplotlib.pyplot as plt\n",
    "from sklearn.model_selection import train_test_split\n",
    "from sklearn.preprocessing import MinMaxScaler\n",
    "from keras.preprocessing.sequence import TimeseriesGenerator\n",
    "\n",
    "from keras.models import Sequential\n",
    "from keras.layers import Dense, LSTM, Input, Flatten\n",
    "\n",
    "\n",
    "from statsmodels.tools.eval_measures import rmse\n",
    "\n",
    "import numpy as np"
   ]
  },
  {
   "cell_type": "code",
   "execution_count": 4,
   "metadata": {},
   "outputs": [],
   "source": [
    "ebola = pd.read_csv('../data/ebola-cases/ebola.csv')"
   ]
  },
  {
   "cell_type": "code",
   "execution_count": 5,
   "metadata": {},
   "outputs": [
    {
     "data": {
      "text/html": [
       "<div>\n",
       "<style scoped>\n",
       "    .dataframe tbody tr th:only-of-type {\n",
       "        vertical-align: middle;\n",
       "    }\n",
       "\n",
       "    .dataframe tbody tr th {\n",
       "        vertical-align: top;\n",
       "    }\n",
       "\n",
       "    .dataframe thead th {\n",
       "        text-align: right;\n",
       "    }\n",
       "</style>\n",
       "<table border=\"1\" class=\"dataframe\">\n",
       "  <thead>\n",
       "    <tr style=\"text-align: right;\">\n",
       "      <th></th>\n",
       "      <th>Indicator</th>\n",
       "      <th>Country</th>\n",
       "      <th>Date</th>\n",
       "      <th>value</th>\n",
       "    </tr>\n",
       "  </thead>\n",
       "  <tbody>\n",
       "    <tr>\n",
       "      <th>0</th>\n",
       "      <td>Cumulative number of confirmed, probable and s...</td>\n",
       "      <td>Guinea</td>\n",
       "      <td>2015-03-10</td>\n",
       "      <td>3285.0</td>\n",
       "    </tr>\n",
       "    <tr>\n",
       "      <th>1</th>\n",
       "      <td>Cumulative number of confirmed Ebola cases</td>\n",
       "      <td>Guinea</td>\n",
       "      <td>2015-03-10</td>\n",
       "      <td>2871.0</td>\n",
       "    </tr>\n",
       "    <tr>\n",
       "      <th>2</th>\n",
       "      <td>Cumulative number of probable Ebola cases</td>\n",
       "      <td>Guinea</td>\n",
       "      <td>2015-03-10</td>\n",
       "      <td>392.0</td>\n",
       "    </tr>\n",
       "    <tr>\n",
       "      <th>3</th>\n",
       "      <td>Cumulative number of suspected Ebola cases</td>\n",
       "      <td>Guinea</td>\n",
       "      <td>2015-03-10</td>\n",
       "      <td>22.0</td>\n",
       "    </tr>\n",
       "    <tr>\n",
       "      <th>4</th>\n",
       "      <td>Cumulative number of confirmed, probable and s...</td>\n",
       "      <td>Guinea</td>\n",
       "      <td>2015-03-10</td>\n",
       "      <td>2170.0</td>\n",
       "    </tr>\n",
       "    <tr>\n",
       "      <th>5</th>\n",
       "      <td>Cumulative number of confirmed Ebola deaths</td>\n",
       "      <td>Guinea</td>\n",
       "      <td>2015-03-10</td>\n",
       "      <td>1778.0</td>\n",
       "    </tr>\n",
       "    <tr>\n",
       "      <th>6</th>\n",
       "      <td>Cumulative number of probable Ebola deaths</td>\n",
       "      <td>Guinea</td>\n",
       "      <td>2015-03-10</td>\n",
       "      <td>392.0</td>\n",
       "    </tr>\n",
       "    <tr>\n",
       "      <th>7</th>\n",
       "      <td>Cumulative number of confirmed, probable and s...</td>\n",
       "      <td>Liberia</td>\n",
       "      <td>2015-03-10</td>\n",
       "      <td>9343.0</td>\n",
       "    </tr>\n",
       "    <tr>\n",
       "      <th>8</th>\n",
       "      <td>Cumulative number of confirmed Ebola cases</td>\n",
       "      <td>Liberia</td>\n",
       "      <td>2015-03-10</td>\n",
       "      <td>3150.0</td>\n",
       "    </tr>\n",
       "    <tr>\n",
       "      <th>9</th>\n",
       "      <td>Cumulative number of probable Ebola cases</td>\n",
       "      <td>Liberia</td>\n",
       "      <td>2015-03-10</td>\n",
       "      <td>1879.0</td>\n",
       "    </tr>\n",
       "    <tr>\n",
       "      <th>10</th>\n",
       "      <td>Cumulative number of suspected Ebola cases</td>\n",
       "      <td>Liberia</td>\n",
       "      <td>2015-03-10</td>\n",
       "      <td>4314.0</td>\n",
       "    </tr>\n",
       "    <tr>\n",
       "      <th>11</th>\n",
       "      <td>Cumulative number of confirmed, probable and s...</td>\n",
       "      <td>Liberia</td>\n",
       "      <td>2015-03-10</td>\n",
       "      <td>4162.0</td>\n",
       "    </tr>\n",
       "    <tr>\n",
       "      <th>12</th>\n",
       "      <td>Cumulative number of confirmed, probable and s...</td>\n",
       "      <td>Sierra Leone</td>\n",
       "      <td>2015-03-10</td>\n",
       "      <td>11619.0</td>\n",
       "    </tr>\n",
       "    <tr>\n",
       "      <th>13</th>\n",
       "      <td>Cumulative number of confirmed Ebola cases</td>\n",
       "      <td>Sierra Leone</td>\n",
       "      <td>2015-03-10</td>\n",
       "      <td>8428.0</td>\n",
       "    </tr>\n",
       "    <tr>\n",
       "      <th>14</th>\n",
       "      <td>Cumulative number of probable Ebola cases</td>\n",
       "      <td>Sierra Leone</td>\n",
       "      <td>2015-03-10</td>\n",
       "      <td>287.0</td>\n",
       "    </tr>\n",
       "  </tbody>\n",
       "</table>\n",
       "</div>"
      ],
      "text/plain": [
       "                                            Indicator       Country  \\\n",
       "0   Cumulative number of confirmed, probable and s...        Guinea   \n",
       "1          Cumulative number of confirmed Ebola cases        Guinea   \n",
       "2           Cumulative number of probable Ebola cases        Guinea   \n",
       "3          Cumulative number of suspected Ebola cases        Guinea   \n",
       "4   Cumulative number of confirmed, probable and s...        Guinea   \n",
       "5         Cumulative number of confirmed Ebola deaths        Guinea   \n",
       "6          Cumulative number of probable Ebola deaths        Guinea   \n",
       "7   Cumulative number of confirmed, probable and s...       Liberia   \n",
       "8          Cumulative number of confirmed Ebola cases       Liberia   \n",
       "9           Cumulative number of probable Ebola cases       Liberia   \n",
       "10         Cumulative number of suspected Ebola cases       Liberia   \n",
       "11  Cumulative number of confirmed, probable and s...       Liberia   \n",
       "12  Cumulative number of confirmed, probable and s...  Sierra Leone   \n",
       "13         Cumulative number of confirmed Ebola cases  Sierra Leone   \n",
       "14          Cumulative number of probable Ebola cases  Sierra Leone   \n",
       "\n",
       "          Date    value  \n",
       "0   2015-03-10   3285.0  \n",
       "1   2015-03-10   2871.0  \n",
       "2   2015-03-10    392.0  \n",
       "3   2015-03-10     22.0  \n",
       "4   2015-03-10   2170.0  \n",
       "5   2015-03-10   1778.0  \n",
       "6   2015-03-10    392.0  \n",
       "7   2015-03-10   9343.0  \n",
       "8   2015-03-10   3150.0  \n",
       "9   2015-03-10   1879.0  \n",
       "10  2015-03-10   4314.0  \n",
       "11  2015-03-10   4162.0  \n",
       "12  2015-03-10  11619.0  \n",
       "13  2015-03-10   8428.0  \n",
       "14  2015-03-10    287.0  "
      ]
     },
     "execution_count": 5,
     "metadata": {},
     "output_type": "execute_result"
    }
   ],
   "source": [
    "ebola.head(15)"
   ]
  },
  {
   "cell_type": "code",
   "execution_count": 6,
   "metadata": {},
   "outputs": [],
   "source": [
    "ebola = ebola[[\"Country\", \"Date\", \"value\"]]"
   ]
  },
  {
   "cell_type": "code",
   "execution_count": 7,
   "metadata": {},
   "outputs": [
    {
     "data": {
      "text/plain": [
       "['Guinea',\n",
       " 'Liberia',\n",
       " 'Sierra Leone',\n",
       " 'United Kingdom',\n",
       " 'Mali',\n",
       " 'Nigeria',\n",
       " 'Senegal',\n",
       " 'Spain',\n",
       " 'United States of America',\n",
       " 'Italy',\n",
       " 'Liberia 2',\n",
       " 'Guinea 2']"
      ]
     },
     "execution_count": 7,
     "metadata": {},
     "output_type": "execute_result"
    }
   ],
   "source": [
    "countries = list(ebola[\"Country\"].unique())\n",
    "countries"
   ]
  },
  {
   "cell_type": "markdown",
   "metadata": {},
   "source": [
    "West African Countries suffered the worst for the outbreak, so let's take a look at that. \n",
    "\n",
    "Let's also sum up values for each date "
   ]
  },
  {
   "cell_type": "code",
   "execution_count": 8,
   "metadata": {},
   "outputs": [],
   "source": [
    "cols = [\"Country\", \"Date\"]\n",
    "\n",
    "nigeria = ebola.loc[ebola[\"Country\"] == \"Nigeria\"]\n",
    "nigeria = nigeria.groupby(cols, as_index=False).value.sum()\n",
    "nigeria = nigeria.reset_index(drop=True)\n",
    "\n",
    "guinea = ebola.loc[ebola[\"Country\"] == \"Guinea\"]\n",
    "guinea = guinea.groupby(cols, as_index=False).value.sum()\n",
    "guinea = guinea.reset_index(drop=True)\n",
    "\n",
    "liberia = ebola.loc[ebola[\"Country\"] == \"Liberia\"]\n",
    "liberia = liberia.groupby(cols, as_index=False).value.sum()\n",
    "liberia = liberia.reset_index(drop=True)"
   ]
  },
  {
   "cell_type": "code",
   "execution_count": 9,
   "metadata": {},
   "outputs": [
    {
     "data": {
      "image/png": "[encoded data removed]",
      "text/plain": [
       "<Figure size 432x288 with 1 Axes>"
      ]
     },
     "metadata": {
      "needs_background": "light"
     },
     "output_type": "display_data"
    }
   ],
   "source": [
    "china_line = plt.plot(liberia.index, liberia['value'], 'g', linewidth = 2, label=\"Liberia\")\n",
    "us_line = plt.plot(nigeria.index, nigeria['value'],'b',linewidth = 2, label=\"Nigeria\")\n",
    "italy_line = plt.plot(guinea.index, guinea['value'],'r',linewidth = 2, label=\"Guinea\")\n",
    "plt.title(\"Ebola Virus: Liberia, Nigeria, Guinea Edition\")\n",
    "plt.xlabel(\"Days after the 10th confirmed case\")\n",
    "plt.ylabel(\"Confirmed Cases\")\n",
    "plt.legend()\n",
    "plt.show()"
   ]
  },
  {
   "cell_type": "code",
   "execution_count": 10,
   "metadata": {},
   "outputs": [],
   "source": [
    "liberia = liberia.drop([\"Country\"],axis=1)\n",
    "nigeria = nigeria.drop([\"Country\"],axis=1)\n",
    "guinea = guinea.drop([\"Country\"],axis=1)\n",
    "\n",
    "\n",
    "liberia.Date = pd.to_datetime(liberia.Date)\n",
    "nigeria.Date = pd.to_datetime(nigeria.Date)\n",
    "guinea.Date = pd.to_datetime(guinea.Date)\n",
    "\n",
    "liberia = liberia.set_index(\"Date\")\n",
    "nigeria = nigeria.set_index(\"Date\")\n",
    "guinea = guinea.set_index(\"Date\")\n",
    "\n",
    "train_data_liberia = liberia[:len(liberia)-51]\n",
    "test_data_liberia = liberia[len(liberia)-51:]\n",
    "train_data_nigeria = nigeria[:len(nigeria)-51]\n",
    "test_data_nigeria = nigeria[len(nigeria)-51:]\n",
    "train_data_guinea = guinea[:len(guinea)-51]\n",
    "test_data_guinea = guinea[len(guinea)-51:]"
   ]
  },
  {
   "cell_type": "code",
   "execution_count": 11,
   "metadata": {},
   "outputs": [],
   "source": [
    "scaler = MinMaxScaler()\n",
    "scaler.fit(train_data_liberia)\n",
    "scaled_train_data = scaler.transform(train_data_liberia)\n",
    "scaled_test_data = scaler.transform(test_data_liberia)"
   ]
  },
  {
   "cell_type": "code",
   "execution_count": 12,
   "metadata": {},
   "outputs": [],
   "source": [
    "n_input = 7\n",
    "n_features= 1\n",
    "generator = TimeseriesGenerator(scaled_train_data, scaled_train_data, length=n_input, batch_size=1)"
   ]
  },
  {
   "cell_type": "code",
   "execution_count": 13,
   "metadata": {},
   "outputs": [
    {
     "name": "stdout",
     "output_type": "stream",
     "text": [
      "WARNING:tensorflow:From /Library/Frameworks/Python.framework/Versions/3.6/lib/python3.6/site-packages/tensorflow/python/ops/resource_variable_ops.py:435: colocate_with (from tensorflow.python.framework.ops) is deprecated and will be removed in a future version.\n",
      "Instructions for updating:\n",
      "Colocations handled automatically by placer.\n"
     ]
    }
   ],
   "source": [
    "lstm_model = Sequential()\n",
    "lstm_model.add(LSTM(200, activation='relu', input_shape=(n_input, n_features)))\n",
    "lstm_model.add(Dense(1))\n",
    "lstm_model.compile(optimizer='adam', loss='mse')"
   ]
  },
  {
   "cell_type": "code",
   "execution_count": 14,
   "metadata": {},
   "outputs": [
    {
     "name": "stdout",
     "output_type": "stream",
     "text": [
      "Model: \"sequential_1\"\n",
      "_________________________________________________________________\n",
      "Layer (type)                 Output Shape              Param #   \n",
      "=================================================================\n",
      "lstm_1 (LSTM)                (None, 200)               161600    \n",
      "_________________________________________________________________\n",
      "dense_1 (Dense)              (None, 1)                 201       \n",
      "=================================================================\n",
      "Total params: 161,801\n",
      "Trainable params: 161,801\n",
      "Non-trainable params: 0\n",
      "_________________________________________________________________\n",
      "WARNING:tensorflow:From /Library/Frameworks/Python.framework/Versions/3.6/lib/python3.6/site-packages/tensorflow/python/ops/math_ops.py:3066: to_int32 (from tensorflow.python.ops.math_ops) is deprecated and will be removed in a future version.\n",
      "Instructions for updating:\n",
      "Use tf.cast instead.\n",
      "Epoch 1/20\n",
      "201/201 [==============================] - 3s 14ms/step - loss: 0.0265\n",
      "Epoch 2/20\n",
      "201/201 [==============================] - 2s 12ms/step - loss: 0.0028\n",
      "Epoch 3/20\n",
      "201/201 [==============================] - 3s 12ms/step - loss: 0.0032: 0s \n",
      "Epoch 4/20\n",
      "201/201 [==============================] - 2s 12ms/step - loss: 0.0028\n",
      "Epoch 5/20\n",
      "201/201 [==============================] - 2s 12ms/step - loss: 0.0027\n",
      "Epoch 6/20\n",
      "201/201 [==============================] - 2s 12ms/step - loss: 0.0029\n",
      "Epoch 7/20\n",
      "201/201 [==============================] - 3s 16ms/step - loss: 0.0036\n",
      "Epoch 8/20\n",
      "201/201 [==============================] - 3s 13ms/step - loss: 0.0029\n",
      "Epoch 9/20\n",
      "201/201 [==============================] - 2s 11ms/step - loss: 0.0032\n",
      "Epoch 10/20\n",
      "201/201 [==============================] - 2s 11ms/step - loss: 0.0027\n",
      "Epoch 11/20\n",
      "201/201 [==============================] - 2s 11ms/step - loss: 0.0026\n",
      "Epoch 12/20\n",
      "201/201 [==============================] - 2s 12ms/step - loss: 0.0026\n",
      "Epoch 13/20\n",
      "201/201 [==============================] - 2s 11ms/step - loss: 0.0028\n",
      "Epoch 14/20\n",
      "201/201 [==============================] - 2s 11ms/step - loss: 0.0026\n",
      "Epoch 15/20\n",
      "201/201 [==============================] - 2s 12ms/step - loss: 0.0026\n",
      "Epoch 16/20\n",
      "201/201 [==============================] - 3s 15ms/step - loss: 0.0026\n",
      "Epoch 17/20\n",
      "201/201 [==============================] - 2s 12ms/step - loss: 0.0032\n",
      "Epoch 18/20\n",
      "201/201 [==============================] - 2s 11ms/step - loss: 0.0028\n",
      "Epoch 19/20\n",
      "201/201 [==============================] - 2s 11ms/step - loss: 0.0026\n",
      "Epoch 20/20\n",
      "201/201 [==============================] - 2s 12ms/step - loss: 0.0026\n"
     ]
    },
    {
     "data": {
      "text/plain": [
       "<keras.callbacks.callbacks.History at 0x129f5c9b0>"
      ]
     },
     "execution_count": 14,
     "metadata": {},
     "output_type": "execute_result"
    }
   ],
   "source": [
    "lstm_model.summary()\n",
    "\n",
    "lstm_model.fit_generator(generator,epochs=20)"
   ]
  },
  {
   "cell_type": "code",
   "execution_count": 15,
   "metadata": {},
   "outputs": [
    {
     "data": {
      "image/png": "[encoded data removed]",
      "text/plain": [
       "<Figure size 864x288 with 1 Axes>"
      ]
     },
     "metadata": {
      "needs_background": "light"
     },
     "output_type": "display_data"
    }
   ],
   "source": [
    "losses_lstm = lstm_model.history.history['loss']\n",
    "plt.figure(figsize=(12,4))\n",
    "plt.xlabel(\"Epochs\")\n",
    "plt.ylabel(\"Loss\")\n",
    "plt.xticks(np.arange(0,21,1))\n",
    "plt.plot(range(len(losses_lstm)),losses_lstm);\n"
   ]
  },
  {
   "cell_type": "code",
   "execution_count": 16,
   "metadata": {},
   "outputs": [
    {
     "data": {
      "text/plain": [
       "array([[25921.05511892],\n",
       "       [25872.56700337],\n",
       "       [25828.45610809],\n",
       "       [25782.44314361],\n",
       "       [25734.6160059 ],\n",
       "       [25685.00868142],\n",
       "       [25633.15473545],\n",
       "       [25577.95488214],\n",
       "       [25534.11001873],\n",
       "       [25491.7886858 ],\n",
       "       [25450.38967478],\n",
       "       [25410.06768262],\n",
       "       [25370.9656868 ],\n",
       "       [25333.23252451],\n",
       "       [25297.05805111],\n",
       "       [25262.79619443],\n",
       "       [25229.80941558],\n",
       "       [25198.03794527],\n",
       "       [25167.47123599],\n",
       "       [25138.09522438],\n",
       "       [25109.8888154 ],\n",
       "       [25082.81567872],\n",
       "       [25056.83128035],\n",
       "       [25031.86413157],\n",
       "       [25007.87438619],\n",
       "       [24984.83040166],\n",
       "       [24962.69701958],\n",
       "       [24941.4402535 ],\n",
       "       [24921.02494502],\n",
       "       [24901.4171077 ],\n",
       "       [24882.58509898],\n",
       "       [24864.49493241],\n",
       "       [24847.11848128],\n",
       "       [24830.43230665],\n",
       "       [24814.40476596],\n",
       "       [24799.0100764 ],\n",
       "       [24784.22479904],\n",
       "       [24770.02315104],\n",
       "       [24756.38403738],\n",
       "       [24743.28519106],\n",
       "       [24730.70317316],\n",
       "       [24718.62040448],\n",
       "       [24707.01578999],\n",
       "       [24695.86823463],\n",
       "       [24685.16133118],\n",
       "       [24674.87984431],\n",
       "       [24665.00502288],\n",
       "       [24655.52045965],\n",
       "       [24646.41091931],\n",
       "       [24637.6623385 ],\n",
       "       [24629.26065385]])"
      ]
     },
     "execution_count": 16,
     "metadata": {},
     "output_type": "execute_result"
    }
   ],
   "source": [
    "lstm_predictions_scaled = list()\n",
    "\n",
    "batch = scaled_train_data[-n_input:]\n",
    "current_batch = batch.reshape((1, n_input, n_features))\n",
    "\n",
    "for i in range(len(test_data_liberia)):   \n",
    "    lstm_pred = lstm_model.predict(current_batch)[0]\n",
    "    lstm_predictions_scaled.append(lstm_pred) \n",
    "    current_batch = np.append(current_batch[:,1:,:],[[lstm_pred]],axis=1)\n",
    "\n",
    "lstm_predictions_scaled\n",
    "\n",
    "lstm_predictions = scaler.inverse_transform(lstm_predictions_scaled)\n",
    "\n",
    "lstm_predictions"
   ]
  },
  {
   "cell_type": "code",
   "execution_count": 17,
   "metadata": {},
   "outputs": [
    {
     "data": {
      "image/png": "[encoded data removed]",
      "text/plain": [
       "<Figure size 1152x360 with 1 Axes>"
      ]
     },
     "metadata": {
      "needs_background": "light"
     },
     "output_type": "display_data"
    }
   ],
   "source": [
    "test_data_liberia['LSTM_Predictions'] = lstm_predictions\n",
    "test_data_liberia\n",
    "\n",
    "\n",
    "test_data_liberia['value'].plot(figsize = (16,5), legend=True)\n",
    "test_data_liberia['LSTM_Predictions'].plot(legend = True);\n",
    "\n",
    "\n",
    "\n",
    "lstm_rmse_error_liberia = rmse(test_data_liberia['value'], test_data_liberia[\"LSTM_Predictions\"])\n",
    "lstm_mse_error_liberia = lstm_rmse_error_liberia**2\n",
    "mean_value = liberia['value'].mean()\n"
   ]
  },
  {
   "cell_type": "code",
   "execution_count": 18,
   "metadata": {},
   "outputs": [],
   "source": [
    "scaler = MinMaxScaler()\n",
    "scaler.fit(train_data_nigeria)\n",
    "scaled_train_data = scaler.transform(train_data_nigeria)\n",
    "scaled_test_data = scaler.transform(test_data_nigeria)\n"
   ]
  },
  {
   "cell_type": "code",
   "execution_count": 19,
   "metadata": {},
   "outputs": [
    {
     "name": "stdout",
     "output_type": "stream",
     "text": [
      "Model: \"sequential_2\"\n",
      "_________________________________________________________________\n",
      "Layer (type)                 Output Shape              Param #   \n",
      "=================================================================\n",
      "lstm_2 (LSTM)                (None, 200)               161600    \n",
      "_________________________________________________________________\n",
      "dense_2 (Dense)              (None, 1)                 201       \n",
      "=================================================================\n",
      "Total params: 161,801\n",
      "Trainable params: 161,801\n",
      "Non-trainable params: 0\n",
      "_________________________________________________________________\n",
      "Epoch 1/20\n",
      "197/197 [==============================] - 3s 17ms/step - loss: 1.6578e-05\n",
      "Epoch 2/20\n",
      "197/197 [==============================] - 2s 12ms/step - loss: 2.9409e-07\n",
      "Epoch 3/20\n",
      "197/197 [==============================] - 3s 14ms/step - loss: 1.1416e-07\n",
      "Epoch 4/20\n",
      "197/197 [==============================] - 3s 16ms/step - loss: 5.0081e-07\n",
      "Epoch 5/20\n",
      "197/197 [==============================] - 2s 13ms/step - loss: 2.6823e-06\n",
      "Epoch 6/20\n",
      "197/197 [==============================] - 3s 13ms/step - loss: 1.2096e-06\n",
      "Epoch 7/20\n",
      "197/197 [==============================] - 2s 12ms/step - loss: 6.8989e-08\n",
      "Epoch 8/20\n",
      "197/197 [==============================] - 2s 11ms/step - loss: 8.7746e-08\n",
      "Epoch 9/20\n",
      "197/197 [==============================] - 2s 11ms/step - loss: 7.8973e-08\n",
      "Epoch 10/20\n",
      "197/197 [==============================] - 3s 14ms/step - loss: 3.7903e-08\n",
      "Epoch 11/20\n",
      "197/197 [==============================] - 3s 15ms/step - loss: 9.0954e-08\n",
      "Epoch 12/20\n",
      "197/197 [==============================] - 3s 17ms/step - loss: 2.8053e-08\n",
      "Epoch 13/20\n",
      "197/197 [==============================] - 3s 16ms/step - loss: 4.8940e-09\n",
      "Epoch 14/20\n",
      "197/197 [==============================] - 3s 14ms/step - loss: 2.5901e-09\n",
      "Epoch 15/20\n",
      "197/197 [==============================] - 3s 15ms/step - loss: 2.5401e-09\n",
      "Epoch 16/20\n",
      "197/197 [==============================] - 2s 11ms/step - loss: 3.0499e-09\n",
      "Epoch 17/20\n",
      "197/197 [==============================] - 2s 9ms/step - loss: 3.9597e-09\n",
      "Epoch 18/20\n",
      "197/197 [==============================] - 2s 9ms/step - loss: 4.2038e-07\n",
      "Epoch 19/20\n",
      "197/197 [==============================] - 2s 10ms/step - loss: 3.1126e-07\n",
      "Epoch 20/20\n",
      "197/197 [==============================] - 2s 11ms/step - loss: 5.1438e-07\n"
     ]
    },
    {
     "data": {
      "text/plain": [
       "<keras.callbacks.callbacks.History at 0x12d7ac198>"
      ]
     },
     "execution_count": 19,
     "metadata": {},
     "output_type": "execute_result"
    }
   ],
   "source": [
    "n_input = 7\n",
    "n_features= 1\n",
    "generator = TimeseriesGenerator(scaled_train_data, scaled_train_data, length=n_input, batch_size=1)\n",
    "\n",
    "\n",
    "lstm_model = Sequential()\n",
    "lstm_model.add(LSTM(200, activation='relu', input_shape=(n_input, n_features)))\n",
    "lstm_model.add(Dense(1))\n",
    "lstm_model.compile(optimizer='adam', loss='mse')\n",
    "\n",
    "lstm_model.summary()\n",
    "\n",
    "lstm_model.fit_generator(generator,epochs=20)"
   ]
  },
  {
   "cell_type": "code",
   "execution_count": 21,
   "metadata": {},
   "outputs": [
    {
     "data": {
      "text/plain": [
       "array([[55.85433766],\n",
       "       [55.85397506],\n",
       "       [55.85377447],\n",
       "       [55.85367778],\n",
       "       [55.85363433],\n",
       "       [55.85361994],\n",
       "       [55.85361764],\n",
       "       [55.85361533],\n",
       "       [55.85361505],\n",
       "       [55.85361533],\n",
       "       [55.85361533],\n",
       "       [55.85361533],\n",
       "       [55.85361533],\n",
       "       [55.85361533],\n",
       "       [55.85361533],\n",
       "       [55.85361533],\n",
       "       [55.85361533],\n",
       "       [55.85361533],\n",
       "       [55.85361533],\n",
       "       [55.85361533],\n",
       "       [55.85361533],\n",
       "       [55.85361533],\n",
       "       [55.85361533],\n",
       "       [55.85361533],\n",
       "       [55.85361533],\n",
       "       [55.85361533],\n",
       "       [55.85361533],\n",
       "       [55.85361533],\n",
       "       [55.85361533],\n",
       "       [55.85361533],\n",
       "       [55.85361533],\n",
       "       [55.85361533],\n",
       "       [55.85361533],\n",
       "       [55.85361533],\n",
       "       [55.85361533],\n",
       "       [55.85361533],\n",
       "       [55.85361533],\n",
       "       [55.85361533],\n",
       "       [55.85361533],\n",
       "       [55.85361533],\n",
       "       [55.85361533],\n",
       "       [55.85361533],\n",
       "       [55.85361533],\n",
       "       [55.85361533],\n",
       "       [55.85361533],\n",
       "       [55.85361533],\n",
       "       [55.85361533],\n",
       "       [55.85361533],\n",
       "       [55.85361533],\n",
       "       [55.85361533],\n",
       "       [55.85361533]])"
      ]
     },
     "execution_count": 21,
     "metadata": {},
     "output_type": "execute_result"
    },
    {
     "data": {
      "image/png": "[encoded data removed]",
      "text/plain": [
       "<Figure size 864x288 with 1 Axes>"
      ]
     },
     "metadata": {
      "needs_background": "light"
     },
     "output_type": "display_data"
    }
   ],
   "source": [
    "losses_lstm = lstm_model.history.history['loss']\n",
    "plt.figure(figsize=(12,4))\n",
    "plt.xlabel(\"Epochs\")\n",
    "plt.ylabel(\"Loss\")\n",
    "plt.xticks(np.arange(0,21,1))\n",
    "plt.plot(range(len(losses_lstm)),losses_lstm);\n",
    "\n",
    "\n",
    "lstm_predictions_scaled = list()\n",
    "\n",
    "batch = scaled_train_data[-n_input:]\n",
    "current_batch = batch.reshape((1, n_input, n_features))\n",
    "\n",
    "for i in range(len(test_data_nigeria)):   \n",
    "    lstm_pred = lstm_model.predict(current_batch)[0]\n",
    "    lstm_predictions_scaled.append(lstm_pred) \n",
    "    current_batch = np.append(current_batch[:,1:,:],[[lstm_pred]],axis=1)\n",
    "\n",
    "lstm_predictions_scaled\n",
    "\n",
    "lstm_predictions = scaler.inverse_transform(lstm_predictions_scaled)\n",
    "\n",
    "lstm_predictions\n"
   ]
  },
  {
   "cell_type": "code",
   "execution_count": 22,
   "metadata": {},
   "outputs": [
    {
     "data": {
      "image/png": "[encoded data removed]",
      "text/plain": [
       "<Figure size 1152x360 with 1 Axes>"
      ]
     },
     "metadata": {
      "needs_background": "light"
     },
     "output_type": "display_data"
    }
   ],
   "source": [
    "test_data_nigeria['LSTM_Predictions'] = lstm_predictions\n",
    "test_data_nigeria\n",
    "\n",
    "\n",
    "test_data_nigeria['value'].plot(figsize = (16,5), legend=True)\n",
    "test_data_nigeria['LSTM_Predictions'].plot(legend = True);"
   ]
  },
  {
   "cell_type": "code",
   "execution_count": 23,
   "metadata": {},
   "outputs": [],
   "source": [
    "lstm_rmse_error_nigeria = rmse(test_data_nigeria['value'], test_data_nigeria[\"LSTM_Predictions\"])\n",
    "lstm_mse_error_nigeria = lstm_rmse_error_nigeria**2\n",
    "mean_value = nigeria['value'].mean()"
   ]
  },
  {
   "cell_type": "code",
   "execution_count": 24,
   "metadata": {},
   "outputs": [],
   "source": [
    "scaler = MinMaxScaler()\n",
    "scaler.fit(train_data_guinea)\n",
    "scaled_train_data = scaler.transform(train_data_guinea)\n",
    "scaled_test_data = scaler.transform(test_data_guinea)\n"
   ]
  },
  {
   "cell_type": "code",
   "execution_count": 25,
   "metadata": {},
   "outputs": [],
   "source": [
    "n_input = 7\n",
    "n_features= 1\n",
    "generator = TimeseriesGenerator(scaled_train_data, scaled_train_data, length=n_input, batch_size=1)\n"
   ]
  },
  {
   "cell_type": "code",
   "execution_count": null,
   "metadata": {},
   "outputs": [
    {
     "name": "stdout",
     "output_type": "stream",
     "text": [
      "Model: \"sequential_3\"\n",
      "_________________________________________________________________\n",
      "Layer (type)                 Output Shape              Param #   \n",
      "=================================================================\n",
      "lstm_3 (LSTM)                (None, 200)               161600    \n",
      "_________________________________________________________________\n",
      "dense_3 (Dense)              (None, 1)                 201       \n",
      "=================================================================\n",
      "Total params: 161,801\n",
      "Trainable params: 161,801\n",
      "Non-trainable params: 0\n",
      "_________________________________________________________________\n",
      "Epoch 1/20\n",
      "201/201 [==============================] - 2s 12ms/step - loss: 0.0428\n",
      "Epoch 2/20\n",
      "201/201 [==============================] - 2s 8ms/step - loss: 0.0010\n",
      "Epoch 3/20\n",
      "201/201 [==============================] - 2s 8ms/step - loss: 9.2223e-04\n",
      "Epoch 4/20\n",
      "201/201 [==============================] - 2s 8ms/step - loss: 9.2514e-04\n",
      "Epoch 5/20\n",
      "201/201 [==============================] - 2s 9ms/step - loss: 9.2121e-04\n",
      "Epoch 6/20\n",
      "201/201 [==============================] - 2s 9ms/step - loss: 0.0011\n",
      "Epoch 7/20\n",
      "201/201 [==============================] - 2s 11ms/step - loss: 9.8005e-04\n",
      "Epoch 8/20\n",
      "201/201 [==============================] - 2s 8ms/step - loss: 9.3288e-04\n",
      "Epoch 9/20\n",
      "201/201 [==============================] - 2s 9ms/step - loss: 0.0010\n",
      "Epoch 10/20\n",
      "201/201 [==============================] - 2s 9ms/step - loss: 8.4396e-04\n",
      "Epoch 11/20\n",
      "201/201 [==============================] - 3s 14ms/step - loss: 9.4030e-04\n",
      "Epoch 12/20\n",
      "201/201 [==============================] - 2s 9ms/step - loss: 8.6960e-04\n",
      "Epoch 13/20\n",
      "201/201 [==============================] - 2s 9ms/step - loss: 8.9135e-04\n",
      "Epoch 14/20\n",
      "201/201 [==============================] - 2s 9ms/step - loss: 8.6075e-04\n",
      "Epoch 15/20\n",
      "201/201 [==============================] - 2s 9ms/step - loss: 8.9684e-04\n",
      "Epoch 16/20\n",
      " 18/201 [=>............................] - ETA: 2s - loss: 2.4832e-04"
     ]
    }
   ],
   "source": [
    "lstm_model = Sequential()\n",
    "lstm_model.add(LSTM(200, activation='relu', input_shape=(n_input, n_features)))\n",
    "lstm_model.add(Dense(1))\n",
    "lstm_model.compile(optimizer='adam', loss='mse')\n",
    "\n",
    "lstm_model.summary()\n",
    "\n",
    "lstm_model.fit_generator(generator,epochs=20)"
   ]
  },
  {
   "cell_type": "code",
   "execution_count": null,
   "metadata": {},
   "outputs": [],
   "source": [
    "losses_lstm = lstm_model.history.history['loss']\n",
    "plt.figure(figsize=(12,4))\n",
    "plt.xlabel(\"Epochs\")\n",
    "plt.ylabel(\"Loss\")\n",
    "plt.xticks(np.arange(0,21,1))\n",
    "plt.plot(range(len(losses_lstm)),losses_lstm);"
   ]
  },
  {
   "cell_type": "code",
   "execution_count": null,
   "metadata": {},
   "outputs": [],
   "source": [
    "lstm_predictions_scaled = list()\n",
    "\n",
    "batch = scaled_train_data[-n_input:]\n",
    "current_batch = batch.reshape((1, n_input, n_features))\n",
    "\n",
    "for i in range(len(test_data_guinea)):   \n",
    "    lstm_pred = lstm_model.predict(current_batch)[0]\n",
    "    lstm_predictions_scaled.append(lstm_pred) \n",
    "    current_batch = np.append(current_batch[:,1:,:],[[lstm_pred]],axis=1)\n",
    "\n",
    "\n",
    "lstm_predictions = scaler.inverse_transform(lstm_predictions_scaled)\n",
    "\n",
    "\n",
    "test_data_guinea['LSTM_Predictions'] = lstm_predictions\n",
    "\n",
    "test_data_guinea['value'].plot(figsize = (16,5), legend=True)\n",
    "test_data_guinea['LSTM_Predictions'].plot(legend = True);"
   ]
  },
  {
   "cell_type": "code",
   "execution_count": null,
   "metadata": {},
   "outputs": [],
   "source": [
    "lstm_rmse_error_guinea = rmse(test_data_guinea['value'], test_data_guinea[\"LSTM_Predictions\"])\n",
    "lstm_mse_error_guinea = lstm_rmse_error_guinea**2\n",
    "mean_value = guinea['value'].mean()"
   ]
  }
 ],
 "metadata": {
  "kernelspec": {
   "display_name": "Python 3",
   "language": "python",
   "name": "python3"
  },
  "language_info": {
   "codemirror_mode": {
    "name": "ipython",
    "version": 3
   },
   "file_extension": ".py",
   "mimetype": "text/x-python",
   "name": "python",
   "nbconvert_exporter": "python",
   "pygments_lexer": "ipython3",
   "version": "3.6.5"
  }
 },
 "nbformat": 4,
 "nbformat_minor": 2
}
