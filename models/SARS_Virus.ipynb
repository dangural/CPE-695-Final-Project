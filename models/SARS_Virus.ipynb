{
 "cells": [
  {
   "cell_type": "code",
   "execution_count": 1,
   "metadata": {},
   "outputs": [
    {
     "name": "stderr",
     "output_type": "stream",
     "text": [
      "Using TensorFlow backend.\n"
     ]
    }
   ],
   "source": [
    "import warnings \n",
    "warnings.filterwarnings('ignore') # feel free to comment this out if you want to see warnings \n",
    "\n",
    "import csv \n",
    "import pandas as pd\n",
    "import datetime\n",
    "import matplotlib.pyplot as plt\n",
    "from sklearn.model_selection import train_test_split\n",
    "from sklearn.preprocessing import MinMaxScaler\n",
    "from keras.preprocessing.sequence import TimeseriesGenerator\n",
    "\n",
    "from keras.models import Sequential\n",
    "from keras.layers import Dense, LSTM, Input, Flatten\n",
    "\n",
    "\n",
    "from statsmodels.tools.eval_measures import rmse\n",
    "\n",
    "import numpy as np\n",
    "from tabulate import tabulate"
   ]
  },
  {
   "cell_type": "code",
   "execution_count": 2,
   "metadata": {},
   "outputs": [],
   "source": [
    "sars = pd.read_csv('../data/sars_2003_complete_dataset_clean.csv')"
   ]
  },
  {
   "cell_type": "code",
   "execution_count": 3,
   "metadata": {},
   "outputs": [
    {
     "data": {
      "text/html": [
       "<div>\n",
       "<style scoped>\n",
       "    .dataframe tbody tr th:only-of-type {\n",
       "        vertical-align: middle;\n",
       "    }\n",
       "\n",
       "    .dataframe tbody tr th {\n",
       "        vertical-align: top;\n",
       "    }\n",
       "\n",
       "    .dataframe thead th {\n",
       "        text-align: right;\n",
       "    }\n",
       "</style>\n",
       "<table border=\"1\" class=\"dataframe\">\n",
       "  <thead>\n",
       "    <tr style=\"text-align: right;\">\n",
       "      <th></th>\n",
       "      <th>Date</th>\n",
       "      <th>Country</th>\n",
       "      <th>Cumulative number of case(s)</th>\n",
       "      <th>Number of deaths</th>\n",
       "      <th>Number recovered</th>\n",
       "    </tr>\n",
       "  </thead>\n",
       "  <tbody>\n",
       "    <tr>\n",
       "      <th>0</th>\n",
       "      <td>2003-03-17</td>\n",
       "      <td>Germany</td>\n",
       "      <td>1</td>\n",
       "      <td>0</td>\n",
       "      <td>0</td>\n",
       "    </tr>\n",
       "    <tr>\n",
       "      <th>1</th>\n",
       "      <td>2003-03-17</td>\n",
       "      <td>Canada</td>\n",
       "      <td>8</td>\n",
       "      <td>2</td>\n",
       "      <td>0</td>\n",
       "    </tr>\n",
       "    <tr>\n",
       "      <th>2</th>\n",
       "      <td>2003-03-17</td>\n",
       "      <td>Singapore</td>\n",
       "      <td>20</td>\n",
       "      <td>0</td>\n",
       "      <td>0</td>\n",
       "    </tr>\n",
       "    <tr>\n",
       "      <th>3</th>\n",
       "      <td>2003-03-17</td>\n",
       "      <td>Hong Kong SAR, China</td>\n",
       "      <td>95</td>\n",
       "      <td>1</td>\n",
       "      <td>0</td>\n",
       "    </tr>\n",
       "    <tr>\n",
       "      <th>4</th>\n",
       "      <td>2003-03-17</td>\n",
       "      <td>Switzerland</td>\n",
       "      <td>2</td>\n",
       "      <td>0</td>\n",
       "      <td>0</td>\n",
       "    </tr>\n",
       "    <tr>\n",
       "      <th>5</th>\n",
       "      <td>2003-03-17</td>\n",
       "      <td>Thailand</td>\n",
       "      <td>1</td>\n",
       "      <td>0</td>\n",
       "      <td>0</td>\n",
       "    </tr>\n",
       "    <tr>\n",
       "      <th>6</th>\n",
       "      <td>2003-03-17</td>\n",
       "      <td>Viet Nam</td>\n",
       "      <td>40</td>\n",
       "      <td>1</td>\n",
       "      <td>0</td>\n",
       "    </tr>\n",
       "    <tr>\n",
       "      <th>7</th>\n",
       "      <td>2003-03-18</td>\n",
       "      <td>Germany</td>\n",
       "      <td>2</td>\n",
       "      <td>0</td>\n",
       "      <td>0</td>\n",
       "    </tr>\n",
       "    <tr>\n",
       "      <th>8</th>\n",
       "      <td>2003-03-18</td>\n",
       "      <td>Canada</td>\n",
       "      <td>8</td>\n",
       "      <td>2</td>\n",
       "      <td>0</td>\n",
       "    </tr>\n",
       "    <tr>\n",
       "      <th>9</th>\n",
       "      <td>2003-03-18</td>\n",
       "      <td>China</td>\n",
       "      <td>0</td>\n",
       "      <td>0</td>\n",
       "      <td>0</td>\n",
       "    </tr>\n",
       "    <tr>\n",
       "      <th>10</th>\n",
       "      <td>2003-03-18</td>\n",
       "      <td>Singapore</td>\n",
       "      <td>23</td>\n",
       "      <td>0</td>\n",
       "      <td>0</td>\n",
       "    </tr>\n",
       "    <tr>\n",
       "      <th>11</th>\n",
       "      <td>2003-03-18</td>\n",
       "      <td>Hong Kong SAR, China</td>\n",
       "      <td>123</td>\n",
       "      <td>1</td>\n",
       "      <td>0</td>\n",
       "    </tr>\n",
       "    <tr>\n",
       "      <th>12</th>\n",
       "      <td>2003-03-18</td>\n",
       "      <td>Taiwan, China</td>\n",
       "      <td>3</td>\n",
       "      <td>0</td>\n",
       "      <td>0</td>\n",
       "    </tr>\n",
       "    <tr>\n",
       "      <th>13</th>\n",
       "      <td>2003-03-18</td>\n",
       "      <td>Thailand</td>\n",
       "      <td>1</td>\n",
       "      <td>0</td>\n",
       "      <td>0</td>\n",
       "    </tr>\n",
       "    <tr>\n",
       "      <th>14</th>\n",
       "      <td>2003-03-18</td>\n",
       "      <td>Viet Nam</td>\n",
       "      <td>57</td>\n",
       "      <td>1</td>\n",
       "      <td>0</td>\n",
       "    </tr>\n",
       "  </tbody>\n",
       "</table>\n",
       "</div>"
      ],
      "text/plain": [
       "          Date               Country  Cumulative number of case(s)  \\\n",
       "0   2003-03-17               Germany                             1   \n",
       "1   2003-03-17                Canada                             8   \n",
       "2   2003-03-17             Singapore                            20   \n",
       "3   2003-03-17  Hong Kong SAR, China                            95   \n",
       "4   2003-03-17           Switzerland                             2   \n",
       "5   2003-03-17              Thailand                             1   \n",
       "6   2003-03-17              Viet Nam                            40   \n",
       "7   2003-03-18               Germany                             2   \n",
       "8   2003-03-18                Canada                             8   \n",
       "9   2003-03-18                 China                             0   \n",
       "10  2003-03-18             Singapore                            23   \n",
       "11  2003-03-18  Hong Kong SAR, China                           123   \n",
       "12  2003-03-18         Taiwan, China                             3   \n",
       "13  2003-03-18              Thailand                             1   \n",
       "14  2003-03-18              Viet Nam                            57   \n",
       "\n",
       "    Number of deaths  Number recovered  \n",
       "0                  0                 0  \n",
       "1                  2                 0  \n",
       "2                  0                 0  \n",
       "3                  1                 0  \n",
       "4                  0                 0  \n",
       "5                  0                 0  \n",
       "6                  1                 0  \n",
       "7                  0                 0  \n",
       "8                  2                 0  \n",
       "9                  0                 0  \n",
       "10                 0                 0  \n",
       "11                 1                 0  \n",
       "12                 0                 0  \n",
       "13                 0                 0  \n",
       "14                 1                 0  "
      ]
     },
     "execution_count": 3,
     "metadata": {},
     "output_type": "execute_result"
    }
   ],
   "source": [
    "sars.head(15)"
   ]
  },
  {
   "cell_type": "markdown",
   "metadata": {},
   "source": [
    "### Pre-processing\n",
    "We want to isolate our data to find: Country, Date, Confirmed Cases"
   ]
  },
  {
   "cell_type": "code",
   "execution_count": 4,
   "metadata": {},
   "outputs": [],
   "source": [
    "sars = sars[[\"Date\", \"Country\", \"Cumulative number of case(s)\"]]"
   ]
  },
  {
   "cell_type": "markdown",
   "metadata": {},
   "source": [
    "Here we want to start looking at data after the 2nd confirmed case. The reason why it's so low is because Italy has a faily low confirmed case"
   ]
  },
  {
   "cell_type": "code",
   "execution_count": 5,
   "metadata": {},
   "outputs": [],
   "source": [
    "US = sars.loc[sars[\"Country\"] == \"United States\"]\n",
    "US = US.loc[US[\"Cumulative number of case(s)\"] > 2] \n",
    "US = US.reset_index(drop=True)\n",
    "US = US.rename(columns={\"Cumulative number of case(s)\":\"Confirmed\"})\n",
    "\n",
    "china = sars.loc[sars[\"Country\"] == \"China\"]\n",
    "china = china.loc[china[\"Cumulative number of case(s)\"] > 2] \n",
    "china = china.reset_index(drop=True)\n",
    "china = china.rename(columns={\"Cumulative number of case(s)\":\"Confirmed\"})\n",
    "\n",
    "italy = sars.loc[sars[\"Country\"] == \"Italy\"]\n",
    "italy = italy.loc[italy[\"Cumulative number of case(s)\"] > 2] \n",
    "italy = italy.reset_index(drop=True)\n",
    "italy = italy.rename(columns={\"Cumulative number of case(s)\":\"Confirmed\"})"
   ]
  },
  {
   "cell_type": "code",
   "execution_count": 6,
   "metadata": {},
   "outputs": [
    {
     "data": {
      "text/html": [
       "<div>\n",
       "<style scoped>\n",
       "    .dataframe tbody tr th:only-of-type {\n",
       "        vertical-align: middle;\n",
       "    }\n",
       "\n",
       "    .dataframe tbody tr th {\n",
       "        vertical-align: top;\n",
       "    }\n",
       "\n",
       "    .dataframe thead th {\n",
       "        text-align: right;\n",
       "    }\n",
       "</style>\n",
       "<table border=\"1\" class=\"dataframe\">\n",
       "  <thead>\n",
       "    <tr style=\"text-align: right;\">\n",
       "      <th></th>\n",
       "      <th>Date</th>\n",
       "      <th>Country</th>\n",
       "      <th>Confirmed</th>\n",
       "    </tr>\n",
       "  </thead>\n",
       "  <tbody>\n",
       "    <tr>\n",
       "      <th>0</th>\n",
       "      <td>2003-03-19</td>\n",
       "      <td>United States</td>\n",
       "      <td>11</td>\n",
       "    </tr>\n",
       "    <tr>\n",
       "      <th>1</th>\n",
       "      <td>2003-03-20</td>\n",
       "      <td>United States</td>\n",
       "      <td>11</td>\n",
       "    </tr>\n",
       "    <tr>\n",
       "      <th>2</th>\n",
       "      <td>2003-03-21</td>\n",
       "      <td>United States</td>\n",
       "      <td>13</td>\n",
       "    </tr>\n",
       "    <tr>\n",
       "      <th>3</th>\n",
       "      <td>2003-03-22</td>\n",
       "      <td>United States</td>\n",
       "      <td>22</td>\n",
       "    </tr>\n",
       "    <tr>\n",
       "      <th>4</th>\n",
       "      <td>2003-03-24</td>\n",
       "      <td>United States</td>\n",
       "      <td>37</td>\n",
       "    </tr>\n",
       "    <tr>\n",
       "      <th>...</th>\n",
       "      <td>...</td>\n",
       "      <td>...</td>\n",
       "      <td>...</td>\n",
       "    </tr>\n",
       "    <tr>\n",
       "      <th>89</th>\n",
       "      <td>2003-07-07</td>\n",
       "      <td>United States</td>\n",
       "      <td>73</td>\n",
       "    </tr>\n",
       "    <tr>\n",
       "      <th>90</th>\n",
       "      <td>2003-07-08</td>\n",
       "      <td>United States</td>\n",
       "      <td>74</td>\n",
       "    </tr>\n",
       "    <tr>\n",
       "      <th>91</th>\n",
       "      <td>2003-07-09</td>\n",
       "      <td>United States</td>\n",
       "      <td>75</td>\n",
       "    </tr>\n",
       "    <tr>\n",
       "      <th>92</th>\n",
       "      <td>2003-07-10</td>\n",
       "      <td>United States</td>\n",
       "      <td>75</td>\n",
       "    </tr>\n",
       "    <tr>\n",
       "      <th>93</th>\n",
       "      <td>2003-07-11</td>\n",
       "      <td>United States</td>\n",
       "      <td>75</td>\n",
       "    </tr>\n",
       "  </tbody>\n",
       "</table>\n",
       "<p>94 rows × 3 columns</p>\n",
       "</div>"
      ],
      "text/plain": [
       "          Date        Country  Confirmed\n",
       "0   2003-03-19  United States         11\n",
       "1   2003-03-20  United States         11\n",
       "2   2003-03-21  United States         13\n",
       "3   2003-03-22  United States         22\n",
       "4   2003-03-24  United States         37\n",
       "..         ...            ...        ...\n",
       "89  2003-07-07  United States         73\n",
       "90  2003-07-08  United States         74\n",
       "91  2003-07-09  United States         75\n",
       "92  2003-07-10  United States         75\n",
       "93  2003-07-11  United States         75\n",
       "\n",
       "[94 rows x 3 columns]"
      ]
     },
     "execution_count": 6,
     "metadata": {},
     "output_type": "execute_result"
    }
   ],
   "source": [
    "US"
   ]
  },
  {
   "cell_type": "code",
   "execution_count": 7,
   "metadata": {},
   "outputs": [
    {
     "data": {
      "image/png": "[encoded data removed]",
      "text/plain": [
       "<Figure size 432x288 with 1 Axes>"
      ]
     },
     "metadata": {
      "needs_background": "light"
     },
     "output_type": "display_data"
    }
   ],
   "source": [
    "plt.plot(US.index, US['Confirmed'], 'b', linewidth = 2, label=\"US\")\n",
    "plt.plot(china.index, china['Confirmed'], 'r', linewidth = 2, label=\"China\")\n",
    "plt.plot(italy.index, italy['Confirmed'], 'g', linewidth = 2, label=\"Italy\")\n",
    "plt.title(\"SARS\")\n",
    "plt.xlabel(\"Days after the 2th confirmed case\")\n",
    "plt.ylabel(\"Confirmed Cases\")\n",
    "plt.legend()\n",
    "plt.show()"
   ]
  },
  {
   "cell_type": "markdown",
   "metadata": {},
   "source": [
    "# Predict China"
   ]
  },
  {
   "cell_type": "code",
   "execution_count": 8,
   "metadata": {},
   "outputs": [],
   "source": [
    "china = china[[\"Date\", \"Confirmed\"]]"
   ]
  },
  {
   "cell_type": "code",
   "execution_count": 9,
   "metadata": {},
   "outputs": [],
   "source": [
    "china.Date = pd.to_datetime(china.Date)"
   ]
  },
  {
   "cell_type": "code",
   "execution_count": 10,
   "metadata": {},
   "outputs": [],
   "source": [
    "china = china.set_index(\"Date\")"
   ]
  },
  {
   "cell_type": "code",
   "execution_count": 11,
   "metadata": {},
   "outputs": [],
   "source": [
    "train_data = china[:len(china)-3]\n",
    "test_data = china[len(china)-3:]"
   ]
  },
  {
   "cell_type": "code",
   "execution_count": 12,
   "metadata": {},
   "outputs": [],
   "source": [
    "scaler = MinMaxScaler()\n",
    "scaler.fit(train_data)\n",
    "scaled_train_data = scaler.transform(train_data)\n",
    "scaled_test_data = scaler.transform(test_data)"
   ]
  },
  {
   "cell_type": "code",
   "execution_count": 13,
   "metadata": {},
   "outputs": [],
   "source": [
    "n_input = 3\n",
    "n_features= 1\n",
    "generator = TimeseriesGenerator(scaled_train_data, scaled_train_data, length=n_input, batch_size=1)"
   ]
  },
  {
   "cell_type": "code",
   "execution_count": 14,
   "metadata": {},
   "outputs": [
    {
     "name": "stdout",
     "output_type": "stream",
     "text": [
      "WARNING:tensorflow:From /usr/local/anaconda3/lib/python3.7/site-packages/tensorflow/python/ops/resource_variable_ops.py:435: colocate_with (from tensorflow.python.framework.ops) is deprecated and will be removed in a future version.\n",
      "Instructions for updating:\n",
      "Colocations handled automatically by placer.\n"
     ]
    }
   ],
   "source": [
    "lstm_model = Sequential()\n",
    "lstm_model.add(LSTM(200, activation='relu', input_shape=(n_input, n_features)))\n",
    "lstm_model.add(Dense(1))\n",
    "lstm_model.compile(optimizer='adam', loss='mse')"
   ]
  },
  {
   "cell_type": "code",
   "execution_count": 15,
   "metadata": {},
   "outputs": [
    {
     "name": "stdout",
     "output_type": "stream",
     "text": [
      "Model: \"sequential_1\"\n",
      "_________________________________________________________________\n",
      "Layer (type)                 Output Shape              Param #   \n",
      "=================================================================\n",
      "lstm_1 (LSTM)                (None, 200)               161600    \n",
      "_________________________________________________________________\n",
      "dense_1 (Dense)              (None, 1)                 201       \n",
      "=================================================================\n",
      "Total params: 161,801\n",
      "Trainable params: 161,801\n",
      "Non-trainable params: 0\n",
      "_________________________________________________________________\n"
     ]
    }
   ],
   "source": [
    "lstm_model.summary()"
   ]
  },
  {
   "cell_type": "code",
   "execution_count": 16,
   "metadata": {},
   "outputs": [
    {
     "name": "stdout",
     "output_type": "stream",
     "text": [
      "WARNING:tensorflow:From /usr/local/anaconda3/lib/python3.7/site-packages/tensorflow/python/ops/math_ops.py:3066: to_int32 (from tensorflow.python.ops.math_ops) is deprecated and will be removed in a future version.\n",
      "Instructions for updating:\n",
      "Use tf.cast instead.\n",
      "Epoch 1/20\n",
      "83/83 [==============================] - 1s 7ms/step - loss: 0.1360\n",
      "Epoch 2/20\n",
      "83/83 [==============================] - 0s 3ms/step - loss: 0.0047\n",
      "Epoch 3/20\n",
      "83/83 [==============================] - 0s 5ms/step - loss: 0.0027\n",
      "Epoch 4/20\n",
      "83/83 [==============================] - 0s 4ms/step - loss: 0.0022\n",
      "Epoch 5/20\n",
      "83/83 [==============================] - 0s 4ms/step - loss: 0.0021\n",
      "Epoch 6/20\n",
      "83/83 [==============================] - 0s 5ms/step - loss: 0.0021\n",
      "Epoch 7/20\n",
      "83/83 [==============================] - 0s 4ms/step - loss: 0.0020\n",
      "Epoch 8/20\n",
      "83/83 [==============================] - 0s 5ms/step - loss: 0.0020\n",
      "Epoch 9/20\n",
      "83/83 [==============================] - 0s 4ms/step - loss: 0.0020\n",
      "Epoch 10/20\n",
      "83/83 [==============================] - 0s 4ms/step - loss: 0.0021\n",
      "Epoch 11/20\n",
      "83/83 [==============================] - 0s 4ms/step - loss: 0.0018\n",
      "Epoch 12/20\n",
      "83/83 [==============================] - 0s 4ms/step - loss: 0.0021\n",
      "Epoch 13/20\n",
      "83/83 [==============================] - 0s 5ms/step - loss: 0.0020\n",
      "Epoch 14/20\n",
      "83/83 [==============================] - 0s 4ms/step - loss: 0.0016\n",
      "Epoch 15/20\n",
      "83/83 [==============================] - 0s 5ms/step - loss: 0.0019\n",
      "Epoch 16/20\n",
      "83/83 [==============================] - 0s 4ms/step - loss: 0.0018\n",
      "Epoch 17/20\n",
      "83/83 [==============================] - 0s 5ms/step - loss: 0.0018\n",
      "Epoch 18/20\n",
      "83/83 [==============================] - 0s 4ms/step - loss: 0.0019\n",
      "Epoch 19/20\n",
      "83/83 [==============================] - 0s 5ms/step - loss: 0.0018\n",
      "Epoch 20/20\n",
      "83/83 [==============================] - 0s 4ms/step - loss: 0.0017\n"
     ]
    },
    {
     "data": {
      "text/plain": [
       "<keras.callbacks.callbacks.History at 0x12d9456d8>"
      ]
     },
     "execution_count": 16,
     "metadata": {},
     "output_type": "execute_result"
    }
   ],
   "source": [
    "lstm_model.fit_generator(generator,epochs=20)"
   ]
  },
  {
   "cell_type": "code",
   "execution_count": 17,
   "metadata": {},
   "outputs": [
    {
     "data": {
      "image/png": "[encoded data removed]",
      "text/plain": [
       "<Figure size 864x288 with 1 Axes>"
      ]
     },
     "metadata": {
      "needs_background": "light"
     },
     "output_type": "display_data"
    }
   ],
   "source": [
    "losses_lstm = lstm_model.history.history['loss']\n",
    "plt.figure(figsize=(12,4))\n",
    "plt.xlabel(\"Epochs\")\n",
    "plt.ylabel(\"Loss\")\n",
    "plt.xticks(np.arange(0,21,1))\n",
    "plt.plot(range(len(losses_lstm)),losses_lstm);"
   ]
  },
  {
   "cell_type": "code",
   "execution_count": 18,
   "metadata": {},
   "outputs": [],
   "source": [
    "lstm_predictions_scaled = list()\n",
    "\n",
    "batch = scaled_train_data[-n_input:]\n",
    "current_batch = batch.reshape((1, n_input, n_features))\n",
    "\n",
    "for i in range(len(test_data)):   \n",
    "    lstm_pred = lstm_model.predict(current_batch)[0]\n",
    "    lstm_predictions_scaled.append(lstm_pred) \n",
    "    current_batch = np.append(current_batch[:,1:,:],[[lstm_pred]],axis=1)"
   ]
  },
  {
   "cell_type": "code",
   "execution_count": 19,
   "metadata": {},
   "outputs": [
    {
     "data": {
      "text/plain": [
       "[array([1.0240514], dtype=float32),\n",
       " array([1.0290735], dtype=float32),\n",
       " array([1.0369458], dtype=float32)]"
      ]
     },
     "execution_count": 19,
     "metadata": {},
     "output_type": "execute_result"
    }
   ],
   "source": [
    "lstm_predictions_scaled"
   ]
  },
  {
   "cell_type": "code",
   "execution_count": 20,
   "metadata": {},
   "outputs": [
    {
     "data": {
      "text/plain": [
       "array([[5455.67887044],\n",
       "       [5482.13000226],\n",
       "       [5523.59363317]])"
      ]
     },
     "execution_count": 20,
     "metadata": {},
     "output_type": "execute_result"
    }
   ],
   "source": [
    "lstm_predictions = scaler.inverse_transform(lstm_predictions_scaled)\n",
    "lstm_predictions"
   ]
  },
  {
   "cell_type": "code",
   "execution_count": 21,
   "metadata": {},
   "outputs": [
    {
     "data": {
      "text/html": [
       "<div>\n",
       "<style scoped>\n",
       "    .dataframe tbody tr th:only-of-type {\n",
       "        vertical-align: middle;\n",
       "    }\n",
       "\n",
       "    .dataframe tbody tr th {\n",
       "        vertical-align: top;\n",
       "    }\n",
       "\n",
       "    .dataframe thead th {\n",
       "        text-align: right;\n",
       "    }\n",
       "</style>\n",
       "<table border=\"1\" class=\"dataframe\">\n",
       "  <thead>\n",
       "    <tr style=\"text-align: right;\">\n",
       "      <th></th>\n",
       "      <th>Confirmed</th>\n",
       "      <th>LSTM_Predictions</th>\n",
       "    </tr>\n",
       "    <tr>\n",
       "      <th>Date</th>\n",
       "      <th></th>\n",
       "      <th></th>\n",
       "    </tr>\n",
       "  </thead>\n",
       "  <tbody>\n",
       "    <tr>\n",
       "      <th>2003-07-09</th>\n",
       "      <td>5327</td>\n",
       "      <td>5455.678870</td>\n",
       "    </tr>\n",
       "    <tr>\n",
       "      <th>2003-07-10</th>\n",
       "      <td>5327</td>\n",
       "      <td>5482.130002</td>\n",
       "    </tr>\n",
       "    <tr>\n",
       "      <th>2003-07-11</th>\n",
       "      <td>5327</td>\n",
       "      <td>5523.593633</td>\n",
       "    </tr>\n",
       "  </tbody>\n",
       "</table>\n",
       "</div>"
      ],
      "text/plain": [
       "            Confirmed  LSTM_Predictions\n",
       "Date                                   \n",
       "2003-07-09       5327       5455.678870\n",
       "2003-07-10       5327       5482.130002\n",
       "2003-07-11       5327       5523.593633"
      ]
     },
     "execution_count": 21,
     "metadata": {},
     "output_type": "execute_result"
    }
   ],
   "source": [
    "test_data['LSTM_Predictions'] = lstm_predictions\n",
    "test_data"
   ]
  },
  {
   "cell_type": "code",
   "execution_count": 22,
   "metadata": {},
   "outputs": [
    {
     "data": {
      "image/png": "[encoded data removed]",
      "text/plain": [
       "<Figure size 1152x360 with 1 Axes>"
      ]
     },
     "metadata": {
      "needs_background": "light"
     },
     "output_type": "display_data"
    }
   ],
   "source": [
    "test_data['Confirmed'].plot(figsize = (16,5), legend=True)\n",
    "test_data['LSTM_Predictions'].plot(legend = True);"
   ]
  },
  {
   "cell_type": "code",
   "execution_count": 23,
   "metadata": {},
   "outputs": [
    {
     "name": "stdout",
     "output_type": "stream",
     "text": [
      "MSE Error: 26424.20863458368\n",
      "RMSE Error: 162.5552479453791\n",
      "Mean: 3854.9775280898875\n"
     ]
    }
   ],
   "source": [
    "lstm_rmse_error_china = rmse(test_data['Confirmed'], test_data[\"LSTM_Predictions\"])\n",
    "lstm_mse_error_china = lstm_rmse_error_china**2\n",
    "mean_value = china['Confirmed'].mean()\n",
    "\n",
    "print(f'MSE Error: {lstm_mse_error_china}\\nRMSE Error: {lstm_rmse_error_china}\\nMean: {mean_value}')"
   ]
  },
  {
   "cell_type": "markdown",
   "metadata": {},
   "source": [
    "# Predict US"
   ]
  },
  {
   "cell_type": "code",
   "execution_count": 24,
   "metadata": {},
   "outputs": [],
   "source": [
    "US = US[[\"Date\", \"Confirmed\"]]\n",
    "US.Date = pd.to_datetime(US.Date)\n",
    "US = US.set_index(\"Date\")\n",
    "train_data = US[:len(US)-3]\n",
    "test_data = US[len(US)-3:]"
   ]
  },
  {
   "cell_type": "code",
   "execution_count": 25,
   "metadata": {},
   "outputs": [],
   "source": [
    "scaler = MinMaxScaler()\n",
    "scaler.fit(train_data)\n",
    "scaled_train_data = scaler.transform(train_data)\n",
    "scaled_test_data = scaler.transform(test_data)"
   ]
  },
  {
   "cell_type": "code",
   "execution_count": 26,
   "metadata": {},
   "outputs": [],
   "source": [
    "n_input = 3\n",
    "n_features= 1\n",
    "generator = TimeseriesGenerator(scaled_train_data, scaled_train_data, length=n_input, batch_size=1)"
   ]
  },
  {
   "cell_type": "code",
   "execution_count": 27,
   "metadata": {},
   "outputs": [],
   "source": [
    "lstm_model = Sequential()\n",
    "lstm_model.add(LSTM(200, activation='relu', input_shape=(n_input, n_features)))\n",
    "lstm_model.add(Dense(1))\n",
    "lstm_model.compile(optimizer='adam', loss='mse')"
   ]
  },
  {
   "cell_type": "code",
   "execution_count": 28,
   "metadata": {},
   "outputs": [
    {
     "data": {
      "text/plain": [
       "<keras.callbacks.callbacks.History at 0x12e542588>"
      ]
     },
     "execution_count": 28,
     "metadata": {},
     "output_type": "execute_result"
    }
   ],
   "source": [
    "lstm_model.fit_generator(generator,epochs=20, verbose=0)"
   ]
  },
  {
   "cell_type": "code",
   "execution_count": 29,
   "metadata": {},
   "outputs": [
    {
     "data": {
      "image/png": "[encoded data removed]",
      "text/plain": [
       "<Figure size 864x288 with 1 Axes>"
      ]
     },
     "metadata": {
      "needs_background": "light"
     },
     "output_type": "display_data"
    }
   ],
   "source": [
    "losses_lstm = lstm_model.history.history['loss']\n",
    "plt.figure(figsize=(12,4))\n",
    "plt.xlabel(\"Epochs\")\n",
    "plt.ylabel(\"Loss\")\n",
    "plt.xticks(np.arange(0,21,1))\n",
    "plt.plot(range(len(losses_lstm)),losses_lstm);"
   ]
  },
  {
   "cell_type": "code",
   "execution_count": 30,
   "metadata": {},
   "outputs": [
    {
     "name": "stdout",
     "output_type": "stream",
     "text": [
      "[[80.83225834]\n",
      " [84.49884874]\n",
      " [88.93014106]]\n",
      "            Confirmed  LSTM_Predictions\n",
      "Date                                   \n",
      "2003-07-09         75         80.832258\n",
      "2003-07-10         75         84.498849\n",
      "2003-07-11         75         88.930141\n"
     ]
    }
   ],
   "source": [
    "lstm_predictions_scaled = list()\n",
    "\n",
    "batch = scaled_train_data[-n_input:]\n",
    "current_batch = batch.reshape((1, n_input, n_features))\n",
    "\n",
    "for i in range(len(test_data)):   \n",
    "    lstm_pred = lstm_model.predict(current_batch)[0]\n",
    "    lstm_predictions_scaled.append(lstm_pred) \n",
    "    current_batch = np.append(current_batch[:,1:,:],[[lstm_pred]],axis=1)\n",
    "\n",
    "    \n",
    "lstm_predictions = scaler.inverse_transform(lstm_predictions_scaled)\n",
    "print(lstm_predictions)\n",
    "test_data['LSTM_Predictions'] = lstm_predictions\n",
    "print(test_data)"
   ]
  },
  {
   "cell_type": "code",
   "execution_count": 31,
   "metadata": {},
   "outputs": [
    {
     "data": {
      "image/png": "[encoded data removed]",
      "text/plain": [
       "<Figure size 1152x360 with 1 Axes>"
      ]
     },
     "metadata": {
      "needs_background": "light"
     },
     "output_type": "display_data"
    }
   ],
   "source": [
    "test_data['Confirmed'].plot(figsize = (16,5), legend=True)\n",
    "test_data['LSTM_Predictions'].plot(legend = True);"
   ]
  },
  {
   "cell_type": "code",
   "execution_count": 32,
   "metadata": {},
   "outputs": [
    {
     "name": "stdout",
     "output_type": "stream",
     "text": [
      "MSE Error: 106.09739823232988\n",
      "RMSE Error: 10.300359131230808\n",
      "Mean: 76.65957446808511\n"
     ]
    }
   ],
   "source": [
    "lstm_rmse_error_us = rmse(test_data['Confirmed'], test_data[\"LSTM_Predictions\"])\n",
    "lstm_mse_error_us = lstm_rmse_error_us**2\n",
    "mean_value = US['Confirmed'].mean()\n",
    "\n",
    "print(f'MSE Error: {lstm_mse_error_us}\\nRMSE Error: {lstm_rmse_error_us}\\nMean: {mean_value}')"
   ]
  },
  {
   "cell_type": "markdown",
   "metadata": {},
   "source": [
    "---"
   ]
  },
  {
   "cell_type": "markdown",
   "metadata": {},
   "source": [
    "## Italy"
   ]
  },
  {
   "cell_type": "code",
   "execution_count": 33,
   "metadata": {},
   "outputs": [],
   "source": [
    "italy = italy[[\"Date\", \"Confirmed\"]]\n",
    "italy.Date = pd.to_datetime(italy.Date)\n",
    "italy= italy.set_index(\"Date\")\n",
    "\n",
    "train_data = italy[:len(italy)-3]\n",
    "test_data = italy[len(italy)-3:]"
   ]
  },
  {
   "cell_type": "code",
   "execution_count": 34,
   "metadata": {},
   "outputs": [],
   "source": [
    "scaler = MinMaxScaler()\n",
    "scaler.fit(train_data)\n",
    "scaled_train_data = scaler.transform(train_data)\n",
    "scaled_test_data = scaler.transform(test_data)"
   ]
  },
  {
   "cell_type": "code",
   "execution_count": 35,
   "metadata": {},
   "outputs": [],
   "source": [
    "n_input = 3\n",
    "n_features= 1\n",
    "generator = TimeseriesGenerator(scaled_train_data, scaled_train_data, length=n_input, batch_size=1)"
   ]
  },
  {
   "cell_type": "code",
   "execution_count": 36,
   "metadata": {},
   "outputs": [],
   "source": [
    "lstm_model = Sequential()\n",
    "lstm_model.add(LSTM(200, activation='relu', input_shape=(n_input, n_features)))\n",
    "lstm_model.add(Dense(1))\n",
    "lstm_model.compile(optimizer='adam', loss='mse')"
   ]
  },
  {
   "cell_type": "code",
   "execution_count": 37,
   "metadata": {},
   "outputs": [
    {
     "data": {
      "text/plain": [
       "<keras.callbacks.callbacks.History at 0x1327a0b00>"
      ]
     },
     "execution_count": 37,
     "metadata": {},
     "output_type": "execute_result"
    }
   ],
   "source": [
    "lstm_model.fit_generator(generator,epochs=20, verbose=0)"
   ]
  },
  {
   "cell_type": "code",
   "execution_count": 38,
   "metadata": {},
   "outputs": [
    {
     "data": {
      "image/png": "[encoded data removed]",
      "text/plain": [
       "<Figure size 864x288 with 1 Axes>"
      ]
     },
     "metadata": {
      "needs_background": "light"
     },
     "output_type": "display_data"
    }
   ],
   "source": [
    "losses_lstm = lstm_model.history.history['loss']\n",
    "plt.figure(figsize=(12,4))\n",
    "plt.xlabel(\"Epochs\")\n",
    "plt.ylabel(\"Loss\")\n",
    "plt.xticks(np.arange(0,21,1))\n",
    "plt.plot(range(len(losses_lstm)),losses_lstm);"
   ]
  },
  {
   "cell_type": "code",
   "execution_count": 39,
   "metadata": {},
   "outputs": [
    {
     "name": "stdout",
     "output_type": "stream",
     "text": [
      "[[4.39904988]\n",
      " [4.63670343]\n",
      " [4.9870314 ]]\n",
      "            Confirmed  LSTM_Predictions\n",
      "Date                                   \n",
      "2003-07-09          4          4.399050\n",
      "2003-07-10          4          4.636703\n",
      "2003-07-11          4          4.987031\n"
     ]
    },
    {
     "data": {
      "text/html": [
       "<div>\n",
       "<style scoped>\n",
       "    .dataframe tbody tr th:only-of-type {\n",
       "        vertical-align: middle;\n",
       "    }\n",
       "\n",
       "    .dataframe tbody tr th {\n",
       "        vertical-align: top;\n",
       "    }\n",
       "\n",
       "    .dataframe thead th {\n",
       "        text-align: right;\n",
       "    }\n",
       "</style>\n",
       "<table border=\"1\" class=\"dataframe\">\n",
       "  <thead>\n",
       "    <tr style=\"text-align: right;\">\n",
       "      <th></th>\n",
       "      <th>Confirmed</th>\n",
       "      <th>LSTM_Predictions</th>\n",
       "    </tr>\n",
       "    <tr>\n",
       "      <th>Date</th>\n",
       "      <th></th>\n",
       "      <th></th>\n",
       "    </tr>\n",
       "  </thead>\n",
       "  <tbody>\n",
       "    <tr>\n",
       "      <th>2003-07-09</th>\n",
       "      <td>4</td>\n",
       "      <td>4.399050</td>\n",
       "    </tr>\n",
       "    <tr>\n",
       "      <th>2003-07-10</th>\n",
       "      <td>4</td>\n",
       "      <td>4.636703</td>\n",
       "    </tr>\n",
       "    <tr>\n",
       "      <th>2003-07-11</th>\n",
       "      <td>4</td>\n",
       "      <td>4.987031</td>\n",
       "    </tr>\n",
       "  </tbody>\n",
       "</table>\n",
       "</div>"
      ],
      "text/plain": [
       "            Confirmed  LSTM_Predictions\n",
       "Date                                   \n",
       "2003-07-09          4          4.399050\n",
       "2003-07-10          4          4.636703\n",
       "2003-07-11          4          4.987031"
      ]
     },
     "execution_count": 39,
     "metadata": {},
     "output_type": "execute_result"
    }
   ],
   "source": [
    "lstm_predictions_scaled = list()\n",
    "\n",
    "batch = scaled_train_data[-n_input:]\n",
    "current_batch = batch.reshape((1, n_input, n_features))\n",
    "\n",
    "for i in range(len(test_data)):   \n",
    "    lstm_pred = lstm_model.predict(current_batch)[0]\n",
    "    lstm_predictions_scaled.append(lstm_pred) \n",
    "    current_batch = np.append(current_batch[:,1:,:],[[lstm_pred]],axis=1)\n",
    "\n",
    "    \n",
    "lstm_predictions = scaler.inverse_transform(lstm_predictions_scaled)\n",
    "print(lstm_predictions)\n",
    "test_data['LSTM_Predictions'] = lstm_predictions\n",
    "print(test_data)\n",
    "test_data"
   ]
  },
  {
   "cell_type": "code",
   "execution_count": 40,
   "metadata": {},
   "outputs": [
    {
     "data": {
      "image/png": "[encoded data removed]",
      "text/plain": [
       "<Figure size 1152x360 with 1 Axes>"
      ]
     },
     "metadata": {
      "needs_background": "light"
     },
     "output_type": "display_data"
    }
   ],
   "source": [
    "test_data['Confirmed'].plot(figsize = (16,5), legend=True)\n",
    "test_data['LSTM_Predictions'].plot(legend = True);"
   ]
  },
  {
   "cell_type": "code",
   "execution_count": 41,
   "metadata": {},
   "outputs": [
    {
     "name": "stdout",
     "output_type": "stream",
     "text": [
      "MSE Error: 0.5129543500117465\n",
      "RMSE Error: 0.7162083146764958\n",
      "Mean: 6.690476190476191\n"
     ]
    }
   ],
   "source": [
    "lstm_rmse_error_italy = rmse(test_data['Confirmed'], test_data[\"LSTM_Predictions\"])\n",
    "lstm_mse_error_italy = lstm_rmse_error_italy**2\n",
    "mean_value = italy['Confirmed'].mean()\n",
    "\n",
    "print(f'MSE Error: {lstm_mse_error_italy}\\nRMSE Error: {lstm_rmse_error_italy}\\nMean: {mean_value}')"
   ]
  },
  {
   "cell_type": "code",
   "execution_count": 42,
   "metadata": {},
   "outputs": [
    {
     "name": "stdout",
     "output_type": "stream",
     "text": [
      "Model                       MSE        RMSE\n",
      "-----------------  ------------  ----------\n",
      "China LSTM Errors  26424.2       162.555\n",
      "US LSTM Errors       106.097      10.3004\n",
      "Italy LSTM Errors      0.512954    0.716208\n"
     ]
    }
   ],
   "source": [
    "print(tabulate([\n",
    "    ['China LSTM Errors', lstm_mse_error_china, lstm_rmse_error_china], \n",
    "    ['US LSTM Errors', lstm_mse_error_us, lstm_rmse_error_us],\n",
    "    ['Italy LSTM Errors', lstm_mse_error_italy, lstm_rmse_error_italy]], \n",
    "    \n",
    "    headers=['Model', 'MSE', \"RMSE\", \"Mean\"]))\n",
    "\n",
    "\n"
   ]
  },
  {
   "cell_type": "code",
   "execution_count": null,
   "metadata": {},
   "outputs": [],
   "source": []
  }
 ],
 "metadata": {
  "kernelspec": {
   "display_name": "Python 3",
   "language": "python",
   "name": "python3"
  },
  "language_info": {
   "codemirror_mode": {
    "name": "ipython",
    "version": 3
   },
   "file_extension": ".py",
   "mimetype": "text/x-python",
   "name": "python",
   "nbconvert_exporter": "python",
   "pygments_lexer": "ipython3",
   "version": "3.7.1"
  }
 },
 "nbformat": 4,
 "nbformat_minor": 2
}
