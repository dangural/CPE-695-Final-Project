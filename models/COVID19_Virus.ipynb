{
 "cells": [
  {
   "cell_type": "code",
   "execution_count": 1,
   "metadata": {},
   "outputs": [
    {
     "name": "stderr",
     "output_type": "stream",
     "text": [
      "Using TensorFlow backend.\n"
     ]
    }
   ],
   "source": [
    "import warnings \n",
    "warnings.filterwarnings('ignore') # feel free to comment this out if you want to see warnings \n",
    "\n",
    "import csv \n",
    "import pandas as pd\n",
    "import datetime\n",
    "import matplotlib.pyplot as plt\n",
    "from sklearn.model_selection import train_test_split\n",
    "from sklearn.preprocessing import MinMaxScaler\n",
    "from keras.preprocessing.sequence import TimeseriesGenerator\n",
    "\n",
    "from keras.models import Sequential\n",
    "from keras.layers import Dense, LSTM, Input, Flatten\n",
    "\n",
    "\n",
    "from statsmodels.tools.eval_measures import rmse\n",
    "\n",
    "import numpy as np\n",
    "from tabulate import tabulate"
   ]
  },
  {
   "cell_type": "code",
   "execution_count": 2,
   "metadata": {},
   "outputs": [],
   "source": [
    "covid = pd.read_csv('../data/corona-virus-report/covid_19_clean_complete.csv')"
   ]
  },
  {
   "cell_type": "markdown",
   "metadata": {},
   "source": [
    "We want to see what our data looks like:"
   ]
  },
  {
   "cell_type": "code",
   "execution_count": 3,
   "metadata": {},
   "outputs": [
    {
     "data": {
      "text/html": [
       "<div>\n",
       "<style scoped>\n",
       "    .dataframe tbody tr th:only-of-type {\n",
       "        vertical-align: middle;\n",
       "    }\n",
       "\n",
       "    .dataframe tbody tr th {\n",
       "        vertical-align: top;\n",
       "    }\n",
       "\n",
       "    .dataframe thead th {\n",
       "        text-align: right;\n",
       "    }\n",
       "</style>\n",
       "<table border=\"1\" class=\"dataframe\">\n",
       "  <thead>\n",
       "    <tr style=\"text-align: right;\">\n",
       "      <th></th>\n",
       "      <th>Province/State</th>\n",
       "      <th>Country/Region</th>\n",
       "      <th>Lat</th>\n",
       "      <th>Long</th>\n",
       "      <th>Date</th>\n",
       "      <th>Confirmed</th>\n",
       "      <th>Deaths</th>\n",
       "      <th>Recovered</th>\n",
       "    </tr>\n",
       "  </thead>\n",
       "  <tbody>\n",
       "    <tr>\n",
       "      <th>0</th>\n",
       "      <td>NaN</td>\n",
       "      <td>Thailand</td>\n",
       "      <td>15.0000</td>\n",
       "      <td>101.0000</td>\n",
       "      <td>1/22/20</td>\n",
       "      <td>2.0</td>\n",
       "      <td>0.0</td>\n",
       "      <td>0.0</td>\n",
       "    </tr>\n",
       "    <tr>\n",
       "      <th>1</th>\n",
       "      <td>NaN</td>\n",
       "      <td>Japan</td>\n",
       "      <td>36.0000</td>\n",
       "      <td>138.0000</td>\n",
       "      <td>1/22/20</td>\n",
       "      <td>2.0</td>\n",
       "      <td>0.0</td>\n",
       "      <td>0.0</td>\n",
       "    </tr>\n",
       "    <tr>\n",
       "      <th>2</th>\n",
       "      <td>NaN</td>\n",
       "      <td>Singapore</td>\n",
       "      <td>1.2833</td>\n",
       "      <td>103.8333</td>\n",
       "      <td>1/22/20</td>\n",
       "      <td>0.0</td>\n",
       "      <td>0.0</td>\n",
       "      <td>0.0</td>\n",
       "    </tr>\n",
       "    <tr>\n",
       "      <th>3</th>\n",
       "      <td>NaN</td>\n",
       "      <td>Nepal</td>\n",
       "      <td>28.1667</td>\n",
       "      <td>84.2500</td>\n",
       "      <td>1/22/20</td>\n",
       "      <td>0.0</td>\n",
       "      <td>0.0</td>\n",
       "      <td>0.0</td>\n",
       "    </tr>\n",
       "    <tr>\n",
       "      <th>4</th>\n",
       "      <td>NaN</td>\n",
       "      <td>Malaysia</td>\n",
       "      <td>2.5000</td>\n",
       "      <td>112.5000</td>\n",
       "      <td>1/22/20</td>\n",
       "      <td>0.0</td>\n",
       "      <td>0.0</td>\n",
       "      <td>0.0</td>\n",
       "    </tr>\n",
       "    <tr>\n",
       "      <th>5</th>\n",
       "      <td>British Columbia</td>\n",
       "      <td>Canada</td>\n",
       "      <td>49.2827</td>\n",
       "      <td>-123.1207</td>\n",
       "      <td>1/22/20</td>\n",
       "      <td>0.0</td>\n",
       "      <td>0.0</td>\n",
       "      <td>0.0</td>\n",
       "    </tr>\n",
       "    <tr>\n",
       "      <th>6</th>\n",
       "      <td>New South Wales</td>\n",
       "      <td>Australia</td>\n",
       "      <td>-33.8688</td>\n",
       "      <td>151.2093</td>\n",
       "      <td>1/22/20</td>\n",
       "      <td>0.0</td>\n",
       "      <td>0.0</td>\n",
       "      <td>0.0</td>\n",
       "    </tr>\n",
       "    <tr>\n",
       "      <th>7</th>\n",
       "      <td>Victoria</td>\n",
       "      <td>Australia</td>\n",
       "      <td>-37.8136</td>\n",
       "      <td>144.9631</td>\n",
       "      <td>1/22/20</td>\n",
       "      <td>0.0</td>\n",
       "      <td>0.0</td>\n",
       "      <td>0.0</td>\n",
       "    </tr>\n",
       "    <tr>\n",
       "      <th>8</th>\n",
       "      <td>Queensland</td>\n",
       "      <td>Australia</td>\n",
       "      <td>-28.0167</td>\n",
       "      <td>153.4000</td>\n",
       "      <td>1/22/20</td>\n",
       "      <td>0.0</td>\n",
       "      <td>0.0</td>\n",
       "      <td>0.0</td>\n",
       "    </tr>\n",
       "    <tr>\n",
       "      <th>9</th>\n",
       "      <td>NaN</td>\n",
       "      <td>Cambodia</td>\n",
       "      <td>11.5500</td>\n",
       "      <td>104.9167</td>\n",
       "      <td>1/22/20</td>\n",
       "      <td>0.0</td>\n",
       "      <td>0.0</td>\n",
       "      <td>0.0</td>\n",
       "    </tr>\n",
       "    <tr>\n",
       "      <th>10</th>\n",
       "      <td>NaN</td>\n",
       "      <td>Sri Lanka</td>\n",
       "      <td>7.0000</td>\n",
       "      <td>81.0000</td>\n",
       "      <td>1/22/20</td>\n",
       "      <td>0.0</td>\n",
       "      <td>0.0</td>\n",
       "      <td>0.0</td>\n",
       "    </tr>\n",
       "    <tr>\n",
       "      <th>11</th>\n",
       "      <td>NaN</td>\n",
       "      <td>Germany</td>\n",
       "      <td>51.0000</td>\n",
       "      <td>9.0000</td>\n",
       "      <td>1/22/20</td>\n",
       "      <td>0.0</td>\n",
       "      <td>0.0</td>\n",
       "      <td>0.0</td>\n",
       "    </tr>\n",
       "    <tr>\n",
       "      <th>12</th>\n",
       "      <td>NaN</td>\n",
       "      <td>Finland</td>\n",
       "      <td>64.0000</td>\n",
       "      <td>26.0000</td>\n",
       "      <td>1/22/20</td>\n",
       "      <td>0.0</td>\n",
       "      <td>0.0</td>\n",
       "      <td>0.0</td>\n",
       "    </tr>\n",
       "    <tr>\n",
       "      <th>13</th>\n",
       "      <td>NaN</td>\n",
       "      <td>United Arab Emirates</td>\n",
       "      <td>24.0000</td>\n",
       "      <td>54.0000</td>\n",
       "      <td>1/22/20</td>\n",
       "      <td>0.0</td>\n",
       "      <td>0.0</td>\n",
       "      <td>0.0</td>\n",
       "    </tr>\n",
       "    <tr>\n",
       "      <th>14</th>\n",
       "      <td>NaN</td>\n",
       "      <td>Philippines</td>\n",
       "      <td>13.0000</td>\n",
       "      <td>122.0000</td>\n",
       "      <td>1/22/20</td>\n",
       "      <td>0.0</td>\n",
       "      <td>0.0</td>\n",
       "      <td>0.0</td>\n",
       "    </tr>\n",
       "  </tbody>\n",
       "</table>\n",
       "</div>"
      ],
      "text/plain": [
       "      Province/State        Country/Region      Lat      Long     Date  \\\n",
       "0                NaN              Thailand  15.0000  101.0000  1/22/20   \n",
       "1                NaN                 Japan  36.0000  138.0000  1/22/20   \n",
       "2                NaN             Singapore   1.2833  103.8333  1/22/20   \n",
       "3                NaN                 Nepal  28.1667   84.2500  1/22/20   \n",
       "4                NaN              Malaysia   2.5000  112.5000  1/22/20   \n",
       "5   British Columbia                Canada  49.2827 -123.1207  1/22/20   \n",
       "6    New South Wales             Australia -33.8688  151.2093  1/22/20   \n",
       "7           Victoria             Australia -37.8136  144.9631  1/22/20   \n",
       "8         Queensland             Australia -28.0167  153.4000  1/22/20   \n",
       "9                NaN              Cambodia  11.5500  104.9167  1/22/20   \n",
       "10               NaN             Sri Lanka   7.0000   81.0000  1/22/20   \n",
       "11               NaN               Germany  51.0000    9.0000  1/22/20   \n",
       "12               NaN               Finland  64.0000   26.0000  1/22/20   \n",
       "13               NaN  United Arab Emirates  24.0000   54.0000  1/22/20   \n",
       "14               NaN           Philippines  13.0000  122.0000  1/22/20   \n",
       "\n",
       "    Confirmed  Deaths  Recovered  \n",
       "0         2.0     0.0        0.0  \n",
       "1         2.0     0.0        0.0  \n",
       "2         0.0     0.0        0.0  \n",
       "3         0.0     0.0        0.0  \n",
       "4         0.0     0.0        0.0  \n",
       "5         0.0     0.0        0.0  \n",
       "6         0.0     0.0        0.0  \n",
       "7         0.0     0.0        0.0  \n",
       "8         0.0     0.0        0.0  \n",
       "9         0.0     0.0        0.0  \n",
       "10        0.0     0.0        0.0  \n",
       "11        0.0     0.0        0.0  \n",
       "12        0.0     0.0        0.0  \n",
       "13        0.0     0.0        0.0  \n",
       "14        0.0     0.0        0.0  "
      ]
     },
     "execution_count": 3,
     "metadata": {},
     "output_type": "execute_result"
    }
   ],
   "source": [
    "covid.head(15)"
   ]
  },
  {
   "cell_type": "markdown",
   "metadata": {},
   "source": [
    "### Pre-processing\n",
    "\n",
    "We want to isolate our data to find: Country, Date, and Confirmed Cases "
   ]
  },
  {
   "cell_type": "code",
   "execution_count": 4,
   "metadata": {},
   "outputs": [],
   "source": [
    "covid = covid[['Country/Region', 'Date', 'Confirmed']]"
   ]
  },
  {
   "cell_type": "markdown",
   "metadata": {},
   "source": [
    "Let's see how the US is doing "
   ]
  },
  {
   "cell_type": "code",
   "execution_count": 5,
   "metadata": {},
   "outputs": [
    {
     "data": {
      "text/html": [
       "<div>\n",
       "<style scoped>\n",
       "    .dataframe tbody tr th:only-of-type {\n",
       "        vertical-align: middle;\n",
       "    }\n",
       "\n",
       "    .dataframe tbody tr th {\n",
       "        vertical-align: top;\n",
       "    }\n",
       "\n",
       "    .dataframe thead th {\n",
       "        text-align: right;\n",
       "    }\n",
       "</style>\n",
       "<table border=\"1\" class=\"dataframe\">\n",
       "  <thead>\n",
       "    <tr style=\"text-align: right;\">\n",
       "      <th></th>\n",
       "      <th>Country/Region</th>\n",
       "      <th>Date</th>\n",
       "      <th>Confirmed</th>\n",
       "    </tr>\n",
       "  </thead>\n",
       "  <tbody>\n",
       "    <tr>\n",
       "      <th>98</th>\n",
       "      <td>US</td>\n",
       "      <td>1/22/20</td>\n",
       "      <td>0.0</td>\n",
       "    </tr>\n",
       "    <tr>\n",
       "      <th>99</th>\n",
       "      <td>US</td>\n",
       "      <td>1/22/20</td>\n",
       "      <td>0.0</td>\n",
       "    </tr>\n",
       "    <tr>\n",
       "      <th>100</th>\n",
       "      <td>US</td>\n",
       "      <td>1/22/20</td>\n",
       "      <td>0.0</td>\n",
       "    </tr>\n",
       "    <tr>\n",
       "      <th>101</th>\n",
       "      <td>US</td>\n",
       "      <td>1/22/20</td>\n",
       "      <td>0.0</td>\n",
       "    </tr>\n",
       "    <tr>\n",
       "      <th>102</th>\n",
       "      <td>US</td>\n",
       "      <td>1/22/20</td>\n",
       "      <td>0.0</td>\n",
       "    </tr>\n",
       "    <tr>\n",
       "      <th>...</th>\n",
       "      <td>...</td>\n",
       "      <td>...</td>\n",
       "      <td>...</td>\n",
       "    </tr>\n",
       "    <tr>\n",
       "      <th>19136</th>\n",
       "      <td>US</td>\n",
       "      <td>3/23/20</td>\n",
       "      <td>23.0</td>\n",
       "    </tr>\n",
       "    <tr>\n",
       "      <th>19150</th>\n",
       "      <td>US</td>\n",
       "      <td>3/23/20</td>\n",
       "      <td>27.0</td>\n",
       "    </tr>\n",
       "    <tr>\n",
       "      <th>19167</th>\n",
       "      <td>US</td>\n",
       "      <td>3/23/20</td>\n",
       "      <td>NaN</td>\n",
       "    </tr>\n",
       "    <tr>\n",
       "      <th>19210</th>\n",
       "      <td>US</td>\n",
       "      <td>3/23/20</td>\n",
       "      <td>6.0</td>\n",
       "    </tr>\n",
       "    <tr>\n",
       "      <th>19211</th>\n",
       "      <td>US</td>\n",
       "      <td>3/23/20</td>\n",
       "      <td>1.0</td>\n",
       "    </tr>\n",
       "  </tbody>\n",
       "</table>\n",
       "<p>3596 rows × 3 columns</p>\n",
       "</div>"
      ],
      "text/plain": [
       "      Country/Region     Date  Confirmed\n",
       "98                US  1/22/20        0.0\n",
       "99                US  1/22/20        0.0\n",
       "100               US  1/22/20        0.0\n",
       "101               US  1/22/20        0.0\n",
       "102               US  1/22/20        0.0\n",
       "...              ...      ...        ...\n",
       "19136             US  3/23/20       23.0\n",
       "19150             US  3/23/20       27.0\n",
       "19167             US  3/23/20        NaN\n",
       "19210             US  3/23/20        6.0\n",
       "19211             US  3/23/20        1.0\n",
       "\n",
       "[3596 rows x 3 columns]"
      ]
     },
     "execution_count": 5,
     "metadata": {},
     "output_type": "execute_result"
    }
   ],
   "source": [
    "US = covid.loc[covid['Country/Region'] == \"US\"]\n",
    "US"
   ]
  },
  {
   "cell_type": "markdown",
   "metadata": {},
   "source": [
    "We notice that by isolating rows with Country/Region == US, we will end up with multiple rows with the same date. This is because this dataset is reporting different states as well. What we want to do is sum up all \"Confirmed\" values based on grouped dates. \n",
    "\n",
    "Also we need to convert the Date column from str to datetime in order to sort "
   ]
  },
  {
   "cell_type": "code",
   "execution_count": 6,
   "metadata": {},
   "outputs": [],
   "source": [
    "US[['Date']] = US['Date'].apply(pd.to_datetime)"
   ]
  },
  {
   "cell_type": "code",
   "execution_count": 7,
   "metadata": {},
   "outputs": [],
   "source": [
    "col = [\"Country/Region\",\"Date\"]\n",
    "US = US.groupby(col, as_index=False).Confirmed.sum()"
   ]
  },
  {
   "cell_type": "code",
   "execution_count": 8,
   "metadata": {},
   "outputs": [],
   "source": [
    "US = US.sort_values(['Date'], ascending=[True])"
   ]
  },
  {
   "cell_type": "code",
   "execution_count": 9,
   "metadata": {},
   "outputs": [
    {
     "name": "stdout",
     "output_type": "stream",
     "text": [
      "   Country/Region       Date  Confirmed\n",
      "0              US 2020-01-22        0.0\n",
      "1              US 2020-01-23        0.0\n",
      "2              US 2020-01-24        0.0\n",
      "3              US 2020-01-25        0.0\n",
      "4              US 2020-01-26        0.0\n",
      "5              US 2020-01-27        0.0\n",
      "6              US 2020-01-28        0.0\n",
      "7              US 2020-01-29        0.0\n",
      "8              US 2020-01-30        0.0\n",
      "9              US 2020-01-31        0.0\n",
      "10             US 2020-02-01        0.0\n",
      "11             US 2020-02-02        0.0\n",
      "12             US 2020-02-03        0.0\n",
      "13             US 2020-02-04        0.0\n",
      "14             US 2020-02-05        0.0\n",
      "15             US 2020-02-06        0.0\n",
      "16             US 2020-02-07        0.0\n",
      "17             US 2020-02-08        0.0\n",
      "18             US 2020-02-09        0.0\n",
      "19             US 2020-02-10        0.0\n",
      "20             US 2020-02-11        0.0\n",
      "21             US 2020-02-12        0.0\n",
      "22             US 2020-02-13        0.0\n",
      "23             US 2020-02-14        0.0\n",
      "24             US 2020-02-15        0.0\n",
      "25             US 2020-02-16        0.0\n",
      "26             US 2020-02-17        0.0\n",
      "27             US 2020-02-18        0.0\n",
      "28             US 2020-02-19        0.0\n",
      "29             US 2020-02-20        0.0\n",
      "30             US 2020-02-21        0.0\n",
      "31             US 2020-02-22        0.0\n",
      "32             US 2020-02-23        0.0\n",
      "33             US 2020-02-24       36.0\n",
      "34             US 2020-02-25       36.0\n",
      "35             US 2020-02-26       42.0\n",
      "36             US 2020-02-27       42.0\n",
      "37             US 2020-02-28       44.0\n",
      "38             US 2020-02-29       44.0\n",
      "39             US 2020-03-01       44.0\n",
      "40             US 2020-03-02       45.0\n",
      "41             US 2020-03-03       45.0\n",
      "42             US 2020-03-04       45.0\n",
      "43             US 2020-03-05       45.0\n",
      "44             US 2020-03-06       45.0\n",
      "45             US 2020-03-07       66.0\n",
      "46             US 2020-03-08       66.0\n",
      "47             US 2020-03-09       66.0\n",
      "48             US 2020-03-10      959.0\n",
      "49             US 2020-03-11     1281.0\n",
      "50             US 2020-03-12     1663.0\n",
      "51             US 2020-03-13     2179.0\n",
      "52             US 2020-03-14     2727.0\n",
      "53             US 2020-03-15     3499.0\n",
      "54             US 2020-03-16     4632.0\n",
      "55             US 2020-03-17     6421.0\n",
      "56             US 2020-03-18     7783.0\n",
      "57             US 2020-03-19    13677.0\n",
      "58             US 2020-03-20    19100.0\n",
      "59             US 2020-03-21    25489.0\n",
      "60             US 2020-03-22    33272.0\n",
      "61             US 2020-03-23    33276.0\n"
     ]
    }
   ],
   "source": [
    "with pd.option_context('display.max_rows', None, 'display.max_columns', None):\n",
    "    print(US)"
   ]
  },
  {
   "cell_type": "markdown",
   "metadata": {},
   "source": [
    "Since not all countries will \"line\" up with each other in terms of dates, let's set a mark where we only start looking after the 10th or so confirmed case "
   ]
  },
  {
   "cell_type": "code",
   "execution_count": 10,
   "metadata": {},
   "outputs": [
    {
     "data": {
      "text/html": [
       "<div>\n",
       "<style scoped>\n",
       "    .dataframe tbody tr th:only-of-type {\n",
       "        vertical-align: middle;\n",
       "    }\n",
       "\n",
       "    .dataframe tbody tr th {\n",
       "        vertical-align: top;\n",
       "    }\n",
       "\n",
       "    .dataframe thead th {\n",
       "        text-align: right;\n",
       "    }\n",
       "</style>\n",
       "<table border=\"1\" class=\"dataframe\">\n",
       "  <thead>\n",
       "    <tr style=\"text-align: right;\">\n",
       "      <th></th>\n",
       "      <th>Country/Region</th>\n",
       "      <th>Date</th>\n",
       "      <th>Confirmed</th>\n",
       "    </tr>\n",
       "  </thead>\n",
       "  <tbody>\n",
       "    <tr>\n",
       "      <th>33</th>\n",
       "      <td>US</td>\n",
       "      <td>2020-02-24</td>\n",
       "      <td>36.0</td>\n",
       "    </tr>\n",
       "    <tr>\n",
       "      <th>34</th>\n",
       "      <td>US</td>\n",
       "      <td>2020-02-25</td>\n",
       "      <td>36.0</td>\n",
       "    </tr>\n",
       "    <tr>\n",
       "      <th>35</th>\n",
       "      <td>US</td>\n",
       "      <td>2020-02-26</td>\n",
       "      <td>42.0</td>\n",
       "    </tr>\n",
       "    <tr>\n",
       "      <th>36</th>\n",
       "      <td>US</td>\n",
       "      <td>2020-02-27</td>\n",
       "      <td>42.0</td>\n",
       "    </tr>\n",
       "    <tr>\n",
       "      <th>37</th>\n",
       "      <td>US</td>\n",
       "      <td>2020-02-28</td>\n",
       "      <td>44.0</td>\n",
       "    </tr>\n",
       "    <tr>\n",
       "      <th>38</th>\n",
       "      <td>US</td>\n",
       "      <td>2020-02-29</td>\n",
       "      <td>44.0</td>\n",
       "    </tr>\n",
       "    <tr>\n",
       "      <th>39</th>\n",
       "      <td>US</td>\n",
       "      <td>2020-03-01</td>\n",
       "      <td>44.0</td>\n",
       "    </tr>\n",
       "    <tr>\n",
       "      <th>40</th>\n",
       "      <td>US</td>\n",
       "      <td>2020-03-02</td>\n",
       "      <td>45.0</td>\n",
       "    </tr>\n",
       "    <tr>\n",
       "      <th>41</th>\n",
       "      <td>US</td>\n",
       "      <td>2020-03-03</td>\n",
       "      <td>45.0</td>\n",
       "    </tr>\n",
       "    <tr>\n",
       "      <th>42</th>\n",
       "      <td>US</td>\n",
       "      <td>2020-03-04</td>\n",
       "      <td>45.0</td>\n",
       "    </tr>\n",
       "    <tr>\n",
       "      <th>43</th>\n",
       "      <td>US</td>\n",
       "      <td>2020-03-05</td>\n",
       "      <td>45.0</td>\n",
       "    </tr>\n",
       "    <tr>\n",
       "      <th>44</th>\n",
       "      <td>US</td>\n",
       "      <td>2020-03-06</td>\n",
       "      <td>45.0</td>\n",
       "    </tr>\n",
       "    <tr>\n",
       "      <th>45</th>\n",
       "      <td>US</td>\n",
       "      <td>2020-03-07</td>\n",
       "      <td>66.0</td>\n",
       "    </tr>\n",
       "    <tr>\n",
       "      <th>46</th>\n",
       "      <td>US</td>\n",
       "      <td>2020-03-08</td>\n",
       "      <td>66.0</td>\n",
       "    </tr>\n",
       "    <tr>\n",
       "      <th>47</th>\n",
       "      <td>US</td>\n",
       "      <td>2020-03-09</td>\n",
       "      <td>66.0</td>\n",
       "    </tr>\n",
       "    <tr>\n",
       "      <th>48</th>\n",
       "      <td>US</td>\n",
       "      <td>2020-03-10</td>\n",
       "      <td>959.0</td>\n",
       "    </tr>\n",
       "    <tr>\n",
       "      <th>49</th>\n",
       "      <td>US</td>\n",
       "      <td>2020-03-11</td>\n",
       "      <td>1281.0</td>\n",
       "    </tr>\n",
       "    <tr>\n",
       "      <th>50</th>\n",
       "      <td>US</td>\n",
       "      <td>2020-03-12</td>\n",
       "      <td>1663.0</td>\n",
       "    </tr>\n",
       "    <tr>\n",
       "      <th>51</th>\n",
       "      <td>US</td>\n",
       "      <td>2020-03-13</td>\n",
       "      <td>2179.0</td>\n",
       "    </tr>\n",
       "    <tr>\n",
       "      <th>52</th>\n",
       "      <td>US</td>\n",
       "      <td>2020-03-14</td>\n",
       "      <td>2727.0</td>\n",
       "    </tr>\n",
       "    <tr>\n",
       "      <th>53</th>\n",
       "      <td>US</td>\n",
       "      <td>2020-03-15</td>\n",
       "      <td>3499.0</td>\n",
       "    </tr>\n",
       "    <tr>\n",
       "      <th>54</th>\n",
       "      <td>US</td>\n",
       "      <td>2020-03-16</td>\n",
       "      <td>4632.0</td>\n",
       "    </tr>\n",
       "    <tr>\n",
       "      <th>55</th>\n",
       "      <td>US</td>\n",
       "      <td>2020-03-17</td>\n",
       "      <td>6421.0</td>\n",
       "    </tr>\n",
       "    <tr>\n",
       "      <th>56</th>\n",
       "      <td>US</td>\n",
       "      <td>2020-03-18</td>\n",
       "      <td>7783.0</td>\n",
       "    </tr>\n",
       "    <tr>\n",
       "      <th>57</th>\n",
       "      <td>US</td>\n",
       "      <td>2020-03-19</td>\n",
       "      <td>13677.0</td>\n",
       "    </tr>\n",
       "    <tr>\n",
       "      <th>58</th>\n",
       "      <td>US</td>\n",
       "      <td>2020-03-20</td>\n",
       "      <td>19100.0</td>\n",
       "    </tr>\n",
       "    <tr>\n",
       "      <th>59</th>\n",
       "      <td>US</td>\n",
       "      <td>2020-03-21</td>\n",
       "      <td>25489.0</td>\n",
       "    </tr>\n",
       "    <tr>\n",
       "      <th>60</th>\n",
       "      <td>US</td>\n",
       "      <td>2020-03-22</td>\n",
       "      <td>33272.0</td>\n",
       "    </tr>\n",
       "    <tr>\n",
       "      <th>61</th>\n",
       "      <td>US</td>\n",
       "      <td>2020-03-23</td>\n",
       "      <td>33276.0</td>\n",
       "    </tr>\n",
       "  </tbody>\n",
       "</table>\n",
       "</div>"
      ],
      "text/plain": [
       "   Country/Region       Date  Confirmed\n",
       "33             US 2020-02-24       36.0\n",
       "34             US 2020-02-25       36.0\n",
       "35             US 2020-02-26       42.0\n",
       "36             US 2020-02-27       42.0\n",
       "37             US 2020-02-28       44.0\n",
       "38             US 2020-02-29       44.0\n",
       "39             US 2020-03-01       44.0\n",
       "40             US 2020-03-02       45.0\n",
       "41             US 2020-03-03       45.0\n",
       "42             US 2020-03-04       45.0\n",
       "43             US 2020-03-05       45.0\n",
       "44             US 2020-03-06       45.0\n",
       "45             US 2020-03-07       66.0\n",
       "46             US 2020-03-08       66.0\n",
       "47             US 2020-03-09       66.0\n",
       "48             US 2020-03-10      959.0\n",
       "49             US 2020-03-11     1281.0\n",
       "50             US 2020-03-12     1663.0\n",
       "51             US 2020-03-13     2179.0\n",
       "52             US 2020-03-14     2727.0\n",
       "53             US 2020-03-15     3499.0\n",
       "54             US 2020-03-16     4632.0\n",
       "55             US 2020-03-17     6421.0\n",
       "56             US 2020-03-18     7783.0\n",
       "57             US 2020-03-19    13677.0\n",
       "58             US 2020-03-20    19100.0\n",
       "59             US 2020-03-21    25489.0\n",
       "60             US 2020-03-22    33272.0\n",
       "61             US 2020-03-23    33276.0"
      ]
     },
     "execution_count": 10,
     "metadata": {},
     "output_type": "execute_result"
    }
   ],
   "source": [
    "US = US.loc[US[\"Confirmed\"] > 10.0] \n",
    "US"
   ]
  },
  {
   "cell_type": "markdown",
   "metadata": {},
   "source": [
    "Now we should reset the index, so that it now counts the days after the first 10th confirmed case. This will help lining up all countries together "
   ]
  },
  {
   "cell_type": "code",
   "execution_count": 11,
   "metadata": {},
   "outputs": [
    {
     "data": {
      "text/html": [
       "<div>\n",
       "<style scoped>\n",
       "    .dataframe tbody tr th:only-of-type {\n",
       "        vertical-align: middle;\n",
       "    }\n",
       "\n",
       "    .dataframe tbody tr th {\n",
       "        vertical-align: top;\n",
       "    }\n",
       "\n",
       "    .dataframe thead th {\n",
       "        text-align: right;\n",
       "    }\n",
       "</style>\n",
       "<table border=\"1\" class=\"dataframe\">\n",
       "  <thead>\n",
       "    <tr style=\"text-align: right;\">\n",
       "      <th></th>\n",
       "      <th>Country/Region</th>\n",
       "      <th>Date</th>\n",
       "      <th>Confirmed</th>\n",
       "    </tr>\n",
       "  </thead>\n",
       "  <tbody>\n",
       "    <tr>\n",
       "      <th>0</th>\n",
       "      <td>US</td>\n",
       "      <td>2020-02-24</td>\n",
       "      <td>36.0</td>\n",
       "    </tr>\n",
       "    <tr>\n",
       "      <th>1</th>\n",
       "      <td>US</td>\n",
       "      <td>2020-02-25</td>\n",
       "      <td>36.0</td>\n",
       "    </tr>\n",
       "    <tr>\n",
       "      <th>2</th>\n",
       "      <td>US</td>\n",
       "      <td>2020-02-26</td>\n",
       "      <td>42.0</td>\n",
       "    </tr>\n",
       "    <tr>\n",
       "      <th>3</th>\n",
       "      <td>US</td>\n",
       "      <td>2020-02-27</td>\n",
       "      <td>42.0</td>\n",
       "    </tr>\n",
       "    <tr>\n",
       "      <th>4</th>\n",
       "      <td>US</td>\n",
       "      <td>2020-02-28</td>\n",
       "      <td>44.0</td>\n",
       "    </tr>\n",
       "    <tr>\n",
       "      <th>5</th>\n",
       "      <td>US</td>\n",
       "      <td>2020-02-29</td>\n",
       "      <td>44.0</td>\n",
       "    </tr>\n",
       "    <tr>\n",
       "      <th>6</th>\n",
       "      <td>US</td>\n",
       "      <td>2020-03-01</td>\n",
       "      <td>44.0</td>\n",
       "    </tr>\n",
       "    <tr>\n",
       "      <th>7</th>\n",
       "      <td>US</td>\n",
       "      <td>2020-03-02</td>\n",
       "      <td>45.0</td>\n",
       "    </tr>\n",
       "    <tr>\n",
       "      <th>8</th>\n",
       "      <td>US</td>\n",
       "      <td>2020-03-03</td>\n",
       "      <td>45.0</td>\n",
       "    </tr>\n",
       "    <tr>\n",
       "      <th>9</th>\n",
       "      <td>US</td>\n",
       "      <td>2020-03-04</td>\n",
       "      <td>45.0</td>\n",
       "    </tr>\n",
       "    <tr>\n",
       "      <th>10</th>\n",
       "      <td>US</td>\n",
       "      <td>2020-03-05</td>\n",
       "      <td>45.0</td>\n",
       "    </tr>\n",
       "    <tr>\n",
       "      <th>11</th>\n",
       "      <td>US</td>\n",
       "      <td>2020-03-06</td>\n",
       "      <td>45.0</td>\n",
       "    </tr>\n",
       "    <tr>\n",
       "      <th>12</th>\n",
       "      <td>US</td>\n",
       "      <td>2020-03-07</td>\n",
       "      <td>66.0</td>\n",
       "    </tr>\n",
       "    <tr>\n",
       "      <th>13</th>\n",
       "      <td>US</td>\n",
       "      <td>2020-03-08</td>\n",
       "      <td>66.0</td>\n",
       "    </tr>\n",
       "    <tr>\n",
       "      <th>14</th>\n",
       "      <td>US</td>\n",
       "      <td>2020-03-09</td>\n",
       "      <td>66.0</td>\n",
       "    </tr>\n",
       "    <tr>\n",
       "      <th>15</th>\n",
       "      <td>US</td>\n",
       "      <td>2020-03-10</td>\n",
       "      <td>959.0</td>\n",
       "    </tr>\n",
       "    <tr>\n",
       "      <th>16</th>\n",
       "      <td>US</td>\n",
       "      <td>2020-03-11</td>\n",
       "      <td>1281.0</td>\n",
       "    </tr>\n",
       "    <tr>\n",
       "      <th>17</th>\n",
       "      <td>US</td>\n",
       "      <td>2020-03-12</td>\n",
       "      <td>1663.0</td>\n",
       "    </tr>\n",
       "    <tr>\n",
       "      <th>18</th>\n",
       "      <td>US</td>\n",
       "      <td>2020-03-13</td>\n",
       "      <td>2179.0</td>\n",
       "    </tr>\n",
       "    <tr>\n",
       "      <th>19</th>\n",
       "      <td>US</td>\n",
       "      <td>2020-03-14</td>\n",
       "      <td>2727.0</td>\n",
       "    </tr>\n",
       "    <tr>\n",
       "      <th>20</th>\n",
       "      <td>US</td>\n",
       "      <td>2020-03-15</td>\n",
       "      <td>3499.0</td>\n",
       "    </tr>\n",
       "    <tr>\n",
       "      <th>21</th>\n",
       "      <td>US</td>\n",
       "      <td>2020-03-16</td>\n",
       "      <td>4632.0</td>\n",
       "    </tr>\n",
       "    <tr>\n",
       "      <th>22</th>\n",
       "      <td>US</td>\n",
       "      <td>2020-03-17</td>\n",
       "      <td>6421.0</td>\n",
       "    </tr>\n",
       "    <tr>\n",
       "      <th>23</th>\n",
       "      <td>US</td>\n",
       "      <td>2020-03-18</td>\n",
       "      <td>7783.0</td>\n",
       "    </tr>\n",
       "    <tr>\n",
       "      <th>24</th>\n",
       "      <td>US</td>\n",
       "      <td>2020-03-19</td>\n",
       "      <td>13677.0</td>\n",
       "    </tr>\n",
       "    <tr>\n",
       "      <th>25</th>\n",
       "      <td>US</td>\n",
       "      <td>2020-03-20</td>\n",
       "      <td>19100.0</td>\n",
       "    </tr>\n",
       "    <tr>\n",
       "      <th>26</th>\n",
       "      <td>US</td>\n",
       "      <td>2020-03-21</td>\n",
       "      <td>25489.0</td>\n",
       "    </tr>\n",
       "    <tr>\n",
       "      <th>27</th>\n",
       "      <td>US</td>\n",
       "      <td>2020-03-22</td>\n",
       "      <td>33272.0</td>\n",
       "    </tr>\n",
       "    <tr>\n",
       "      <th>28</th>\n",
       "      <td>US</td>\n",
       "      <td>2020-03-23</td>\n",
       "      <td>33276.0</td>\n",
       "    </tr>\n",
       "  </tbody>\n",
       "</table>\n",
       "</div>"
      ],
      "text/plain": [
       "   Country/Region       Date  Confirmed\n",
       "0              US 2020-02-24       36.0\n",
       "1              US 2020-02-25       36.0\n",
       "2              US 2020-02-26       42.0\n",
       "3              US 2020-02-27       42.0\n",
       "4              US 2020-02-28       44.0\n",
       "5              US 2020-02-29       44.0\n",
       "6              US 2020-03-01       44.0\n",
       "7              US 2020-03-02       45.0\n",
       "8              US 2020-03-03       45.0\n",
       "9              US 2020-03-04       45.0\n",
       "10             US 2020-03-05       45.0\n",
       "11             US 2020-03-06       45.0\n",
       "12             US 2020-03-07       66.0\n",
       "13             US 2020-03-08       66.0\n",
       "14             US 2020-03-09       66.0\n",
       "15             US 2020-03-10      959.0\n",
       "16             US 2020-03-11     1281.0\n",
       "17             US 2020-03-12     1663.0\n",
       "18             US 2020-03-13     2179.0\n",
       "19             US 2020-03-14     2727.0\n",
       "20             US 2020-03-15     3499.0\n",
       "21             US 2020-03-16     4632.0\n",
       "22             US 2020-03-17     6421.0\n",
       "23             US 2020-03-18     7783.0\n",
       "24             US 2020-03-19    13677.0\n",
       "25             US 2020-03-20    19100.0\n",
       "26             US 2020-03-21    25489.0\n",
       "27             US 2020-03-22    33272.0\n",
       "28             US 2020-03-23    33276.0"
      ]
     },
     "execution_count": 11,
     "metadata": {},
     "output_type": "execute_result"
    }
   ],
   "source": [
    "US = US.reset_index(drop=True)\n",
    "US"
   ]
  },
  {
   "cell_type": "code",
   "execution_count": 12,
   "metadata": {},
   "outputs": [
    {
     "data": {
      "image/png": "[encoded data removed]",
      "text/plain": [
       "<Figure size 432x288 with 1 Axes>"
      ]
     },
     "metadata": {
      "needs_background": "light"
     },
     "output_type": "display_data"
    }
   ],
   "source": [
    "plt.plot(US.index, US['Confirmed'], linewidth = 2)\n",
    "plt.title(\"COVID-19: US Edition\")\n",
    "plt.xlabel(\"Days after the 10th confirmed case\")\n",
    "plt.ylabel(\"Confirmed Cases\")\n",
    "plt.show()"
   ]
  },
  {
   "cell_type": "markdown",
   "metadata": {},
   "source": [
    "We should focus on 3 main countries for now "
   ]
  },
  {
   "cell_type": "code",
   "execution_count": 13,
   "metadata": {},
   "outputs": [],
   "source": [
    "all_countries = list(covid[\"Country/Region\"].unique())"
   ]
  },
  {
   "cell_type": "code",
   "execution_count": 14,
   "metadata": {},
   "outputs": [],
   "source": [
    "china = covid.loc[covid['Country/Region'] == \"China\"]\n",
    "china[['Date']] = china['Date'].apply(pd.to_datetime)\n",
    "china = china.sort_values(['Date'], ascending=[True])\n",
    "col = [\"Country/Region\",\"Date\"]\n",
    "china = china.groupby(col, as_index=False).Confirmed.sum()\n",
    "china = china.loc[china[\"Confirmed\"] > 10.0] \n",
    "china = china.reset_index(drop=True)\n",
    "\n",
    "\n",
    "italy = covid.loc[covid['Country/Region'] == \"Italy\"]\n",
    "italy[['Date']] = italy['Date'].apply(pd.to_datetime)\n",
    "italy = italy.sort_values(['Date'], ascending=[True])\n",
    "col = [\"Country/Region\",\"Date\"]\n",
    "italy = italy.groupby(col, as_index=False).Confirmed.sum()\n",
    "italy = italy.loc[italy[\"Confirmed\"] > 10.0] \n",
    "italy = italy.reset_index(drop=True)"
   ]
  },
  {
   "cell_type": "code",
   "execution_count": 15,
   "metadata": {},
   "outputs": [
    {
     "data": {
      "image/png": "[encoded data removed]",
      "text/plain": [
       "<Figure size 432x288 with 1 Axes>"
      ]
     },
     "metadata": {
      "needs_background": "light"
     },
     "output_type": "display_data"
    }
   ],
   "source": [
    "plt.plot(china.index, china['Confirmed'], 'r', linewidth = 2, label=\"China\")\n",
    "plt.plot(US.index, US['Confirmed'],'b',linewidth = 2, label=\"US\")\n",
    "plt.plot(italy.index, italy['Confirmed'],'g',linewidth = 2, label=\"Italy\")\n",
    "plt.title(\"COVID-19: US, China, Italy Edition\")\n",
    "plt.xlabel(\"Days after the 10th confirmed case\")\n",
    "plt.ylabel(\"Confirmed Cases\")\n",
    "plt.legend()\n",
    "plt.show()"
   ]
  },
  {
   "cell_type": "markdown",
   "metadata": {},
   "source": [
    "Moving forward, you can call \"US\", \"Italy\", or \"China\" to work for either country"
   ]
  },
  {
   "cell_type": "markdown",
   "metadata": {},
   "source": [
    "---"
   ]
  },
  {
   "cell_type": "markdown",
   "metadata": {},
   "source": [
    "# Predict China"
   ]
  },
  {
   "cell_type": "code",
   "execution_count": 16,
   "metadata": {},
   "outputs": [],
   "source": [
    "china = china[[\"Date\", \"Confirmed\"]]"
   ]
  },
  {
   "cell_type": "code",
   "execution_count": 17,
   "metadata": {},
   "outputs": [],
   "source": [
    "china.Date = pd.to_datetime(china.Date)"
   ]
  },
  {
   "cell_type": "code",
   "execution_count": 18,
   "metadata": {},
   "outputs": [],
   "source": [
    "china = china.set_index(\"Date\")"
   ]
  },
  {
   "cell_type": "code",
   "execution_count": 19,
   "metadata": {},
   "outputs": [],
   "source": [
    "train_data = china[:len(china)-3]\n",
    "test_data = china[len(china)-3:]"
   ]
  },
  {
   "cell_type": "code",
   "execution_count": 20,
   "metadata": {},
   "outputs": [],
   "source": [
    "scaler = MinMaxScaler()\n",
    "scaler.fit(train_data)\n",
    "scaled_train_data = scaler.transform(train_data)\n",
    "scaled_test_data = scaler.transform(test_data)"
   ]
  },
  {
   "cell_type": "code",
   "execution_count": 21,
   "metadata": {},
   "outputs": [],
   "source": [
    "n_input = 3\n",
    "n_features= 1\n",
    "generator = TimeseriesGenerator(scaled_train_data, scaled_train_data, length=n_input, batch_size=1)"
   ]
  },
  {
   "cell_type": "code",
   "execution_count": 22,
   "metadata": {},
   "outputs": [
    {
     "name": "stdout",
     "output_type": "stream",
     "text": [
      "WARNING:tensorflow:From /usr/local/anaconda3/lib/python3.7/site-packages/tensorflow/python/ops/resource_variable_ops.py:435: colocate_with (from tensorflow.python.framework.ops) is deprecated and will be removed in a future version.\n",
      "Instructions for updating:\n",
      "Colocations handled automatically by placer.\n"
     ]
    }
   ],
   "source": [
    "lstm_model = Sequential()\n",
    "lstm_model.add(LSTM(200, activation='relu', input_shape=(n_input, n_features)))\n",
    "lstm_model.add(Dense(1))\n",
    "lstm_model.compile(optimizer='adam', loss='mse')"
   ]
  },
  {
   "cell_type": "code",
   "execution_count": 23,
   "metadata": {},
   "outputs": [
    {
     "name": "stdout",
     "output_type": "stream",
     "text": [
      "Model: \"sequential_1\"\n",
      "_________________________________________________________________\n",
      "Layer (type)                 Output Shape              Param #   \n",
      "=================================================================\n",
      "lstm_1 (LSTM)                (None, 200)               161600    \n",
      "_________________________________________________________________\n",
      "dense_1 (Dense)              (None, 1)                 201       \n",
      "=================================================================\n",
      "Total params: 161,801\n",
      "Trainable params: 161,801\n",
      "Non-trainable params: 0\n",
      "_________________________________________________________________\n"
     ]
    }
   ],
   "source": [
    "lstm_model.summary()"
   ]
  },
  {
   "cell_type": "code",
   "execution_count": 24,
   "metadata": {},
   "outputs": [
    {
     "name": "stdout",
     "output_type": "stream",
     "text": [
      "WARNING:tensorflow:From /usr/local/anaconda3/lib/python3.7/site-packages/tensorflow/python/ops/math_ops.py:3066: to_int32 (from tensorflow.python.ops.math_ops) is deprecated and will be removed in a future version.\n",
      "Instructions for updating:\n",
      "Use tf.cast instead.\n",
      "Epoch 1/20\n",
      "56/56 [==============================] - 0s 9ms/step - loss: 0.2259\n",
      "Epoch 2/20\n",
      "56/56 [==============================] - 0s 4ms/step - loss: 0.0084\n",
      "Epoch 3/20\n",
      "56/56 [==============================] - 0s 5ms/step - loss: 0.0027\n",
      "Epoch 4/20\n",
      "56/56 [==============================] - 0s 4ms/step - loss: 0.0019\n",
      "Epoch 5/20\n",
      "56/56 [==============================] - 0s 5ms/step - loss: 0.0015\n",
      "Epoch 6/20\n",
      "56/56 [==============================] - 0s 7ms/step - loss: 0.0014\n",
      "Epoch 7/20\n",
      "56/56 [==============================] - 0s 6ms/step - loss: 0.0012\n",
      "Epoch 8/20\n",
      "56/56 [==============================] - 0s 6ms/step - loss: 0.0013\n",
      "Epoch 9/20\n",
      "56/56 [==============================] - 0s 5ms/step - loss: 0.0012\n",
      "Epoch 10/20\n",
      "56/56 [==============================] - 0s 5ms/step - loss: 0.0012\n",
      "Epoch 11/20\n",
      "56/56 [==============================] - 0s 5ms/step - loss: 0.0011\n",
      "Epoch 12/20\n",
      "56/56 [==============================] - 0s 6ms/step - loss: 0.0010\n",
      "Epoch 13/20\n",
      "56/56 [==============================] - 0s 7ms/step - loss: 0.0012\n",
      "Epoch 14/20\n",
      "56/56 [==============================] - 0s 6ms/step - loss: 9.7859e-04\n",
      "Epoch 15/20\n",
      "56/56 [==============================] - 0s 6ms/step - loss: 0.0011\n",
      "Epoch 16/20\n",
      "56/56 [==============================] - 0s 8ms/step - loss: 0.0012\n",
      "Epoch 17/20\n",
      "56/56 [==============================] - 0s 7ms/step - loss: 9.9595e-04\n",
      "Epoch 18/20\n",
      "56/56 [==============================] - 0s 7ms/step - loss: 9.1836e-04\n",
      "Epoch 19/20\n",
      "56/56 [==============================] - 0s 6ms/step - loss: 0.0016\n",
      "Epoch 20/20\n",
      "56/56 [==============================] - 0s 6ms/step - loss: 0.0011\n"
     ]
    },
    {
     "data": {
      "text/plain": [
       "<keras.callbacks.callbacks.History at 0x130690b70>"
      ]
     },
     "execution_count": 24,
     "metadata": {},
     "output_type": "execute_result"
    }
   ],
   "source": [
    "lstm_model.fit_generator(generator,epochs=20)"
   ]
  },
  {
   "cell_type": "code",
   "execution_count": 25,
   "metadata": {},
   "outputs": [
    {
     "data": {
      "image/png": "[encoded data removed]",
      "text/plain": [
       "<Figure size 864x288 with 1 Axes>"
      ]
     },
     "metadata": {
      "needs_background": "light"
     },
     "output_type": "display_data"
    }
   ],
   "source": [
    "losses_lstm = lstm_model.history.history['loss']\n",
    "plt.figure(figsize=(12,4))\n",
    "plt.xlabel(\"Epochs\")\n",
    "plt.ylabel(\"Loss\")\n",
    "plt.xticks(np.arange(0,21,1))\n",
    "plt.plot(range(len(losses_lstm)),losses_lstm);"
   ]
  },
  {
   "cell_type": "code",
   "execution_count": 26,
   "metadata": {},
   "outputs": [],
   "source": [
    "lstm_predictions_scaled = list()\n",
    "\n",
    "batch = scaled_train_data[-n_input:]\n",
    "current_batch = batch.reshape((1, n_input, n_features))\n",
    "\n",
    "for i in range(len(test_data)):   \n",
    "    lstm_pred = lstm_model.predict(current_batch)[0]\n",
    "    lstm_predictions_scaled.append(lstm_pred) \n",
    "    current_batch = np.append(current_batch[:,1:,:],[[lstm_pred]],axis=1)"
   ]
  },
  {
   "cell_type": "code",
   "execution_count": 27,
   "metadata": {},
   "outputs": [
    {
     "data": {
      "text/plain": [
       "[array([0.97436225], dtype=float32),\n",
       " array([0.9704759], dtype=float32),\n",
       " array([0.9642021], dtype=float32)]"
      ]
     },
     "execution_count": 27,
     "metadata": {},
     "output_type": "execute_result"
    }
   ],
   "source": [
    "lstm_predictions_scaled"
   ]
  },
  {
   "cell_type": "code",
   "execution_count": 28,
   "metadata": {},
   "outputs": [
    {
     "data": {
      "text/plain": [
       "array([[79180.98263383],\n",
       "       [78867.34705782],\n",
       "       [78361.03835833]])"
      ]
     },
     "execution_count": 28,
     "metadata": {},
     "output_type": "execute_result"
    }
   ],
   "source": [
    "lstm_predictions = scaler.inverse_transform(lstm_predictions_scaled)\n",
    "lstm_predictions"
   ]
  },
  {
   "cell_type": "code",
   "execution_count": 29,
   "metadata": {},
   "outputs": [
    {
     "data": {
      "text/html": [
       "<div>\n",
       "<style scoped>\n",
       "    .dataframe tbody tr th:only-of-type {\n",
       "        vertical-align: middle;\n",
       "    }\n",
       "\n",
       "    .dataframe tbody tr th {\n",
       "        vertical-align: top;\n",
       "    }\n",
       "\n",
       "    .dataframe thead th {\n",
       "        text-align: right;\n",
       "    }\n",
       "</style>\n",
       "<table border=\"1\" class=\"dataframe\">\n",
       "  <thead>\n",
       "    <tr style=\"text-align: right;\">\n",
       "      <th></th>\n",
       "      <th>Confirmed</th>\n",
       "      <th>LSTM_Predictions</th>\n",
       "    </tr>\n",
       "    <tr>\n",
       "      <th>Date</th>\n",
       "      <th></th>\n",
       "      <th></th>\n",
       "    </tr>\n",
       "  </thead>\n",
       "  <tbody>\n",
       "    <tr>\n",
       "      <th>2020-03-21</th>\n",
       "      <td>81305.0</td>\n",
       "      <td>79180.982634</td>\n",
       "    </tr>\n",
       "    <tr>\n",
       "      <th>2020-03-22</th>\n",
       "      <td>81397.0</td>\n",
       "      <td>78867.347058</td>\n",
       "    </tr>\n",
       "    <tr>\n",
       "      <th>2020-03-23</th>\n",
       "      <td>81439.0</td>\n",
       "      <td>78361.038358</td>\n",
       "    </tr>\n",
       "  </tbody>\n",
       "</table>\n",
       "</div>"
      ],
      "text/plain": [
       "            Confirmed  LSTM_Predictions\n",
       "Date                                   \n",
       "2020-03-21    81305.0      79180.982634\n",
       "2020-03-22    81397.0      78867.347058\n",
       "2020-03-23    81439.0      78361.038358"
      ]
     },
     "execution_count": 29,
     "metadata": {},
     "output_type": "execute_result"
    }
   ],
   "source": [
    "test_data['LSTM_Predictions'] = lstm_predictions\n",
    "test_data"
   ]
  },
  {
   "cell_type": "code",
   "execution_count": 30,
   "metadata": {},
   "outputs": [
    {
     "data": {
      "image/png": "[encoded data removed]",
      "text/plain": [
       "<Figure size 1152x360 with 1 Axes>"
      ]
     },
     "metadata": {
      "needs_background": "light"
     },
     "output_type": "display_data"
    }
   ],
   "source": [
    "test_data['Confirmed'].plot(figsize = (16,5), legend=True)\n",
    "test_data['LSTM_Predictions'].plot(legend = True);"
   ]
  },
  {
   "cell_type": "code",
   "execution_count": 31,
   "metadata": {},
   "outputs": [
    {
     "name": "stdout",
     "output_type": "stream",
     "text": [
      "MSE Error: 6794813.882422013\n",
      "RMSE Error: 2606.6863797591786\n",
      "Mean: 56954.33870967742\n"
     ]
    }
   ],
   "source": [
    "lstm_rmse_error_china = rmse(test_data['Confirmed'], test_data[\"LSTM_Predictions\"])\n",
    "lstm_mse_error_china = lstm_rmse_error_china**2\n",
    "mean_value = china['Confirmed'].mean()\n",
    "\n",
    "print(f'MSE Error: {lstm_mse_error_china}\\nRMSE Error: {lstm_rmse_error_china}\\nMean: {mean_value}')"
   ]
  },
  {
   "cell_type": "markdown",
   "metadata": {},
   "source": [
    "# Predict US"
   ]
  },
  {
   "cell_type": "code",
   "execution_count": 32,
   "metadata": {},
   "outputs": [],
   "source": [
    "US = US[[\"Date\", \"Confirmed\"]]\n",
    "US.Date = pd.to_datetime(US.Date)\n",
    "US = US.set_index(\"Date\")\n",
    "train_data = US[:len(US)-3]\n",
    "test_data = US[len(US)-3:]"
   ]
  },
  {
   "cell_type": "code",
   "execution_count": 33,
   "metadata": {},
   "outputs": [],
   "source": [
    "scaler = MinMaxScaler()\n",
    "scaler.fit(train_data)\n",
    "scaled_train_data = scaler.transform(train_data)\n",
    "scaled_test_data = scaler.transform(test_data)"
   ]
  },
  {
   "cell_type": "code",
   "execution_count": 34,
   "metadata": {},
   "outputs": [],
   "source": [
    "n_input = 3\n",
    "n_features= 1\n",
    "generator = TimeseriesGenerator(scaled_train_data, scaled_train_data, length=n_input, batch_size=1)"
   ]
  },
  {
   "cell_type": "code",
   "execution_count": 35,
   "metadata": {},
   "outputs": [],
   "source": [
    "lstm_model = Sequential()\n",
    "lstm_model.add(LSTM(200, activation='relu', input_shape=(n_input, n_features)))\n",
    "lstm_model.add(Dense(1))\n",
    "lstm_model.compile(optimizer='adam', loss='mse')"
   ]
  },
  {
   "cell_type": "code",
   "execution_count": 36,
   "metadata": {},
   "outputs": [
    {
     "data": {
      "text/plain": [
       "<keras.callbacks.callbacks.History at 0x13426aeb8>"
      ]
     },
     "execution_count": 36,
     "metadata": {},
     "output_type": "execute_result"
    }
   ],
   "source": [
    "lstm_model.fit_generator(generator,epochs=20, verbose=0)"
   ]
  },
  {
   "cell_type": "code",
   "execution_count": 37,
   "metadata": {},
   "outputs": [
    {
     "data": {
      "image/png": "[encoded data removed]",
      "text/plain": [
       "<Figure size 864x288 with 1 Axes>"
      ]
     },
     "metadata": {
      "needs_background": "light"
     },
     "output_type": "display_data"
    }
   ],
   "source": [
    "losses_lstm = lstm_model.history.history['loss']\n",
    "plt.figure(figsize=(12,4))\n",
    "plt.xlabel(\"Epochs\")\n",
    "plt.ylabel(\"Loss\")\n",
    "plt.xticks(np.arange(0,21,1))\n",
    "plt.plot(range(len(losses_lstm)),losses_lstm);"
   ]
  },
  {
   "cell_type": "code",
   "execution_count": 38,
   "metadata": {},
   "outputs": [
    {
     "name": "stdout",
     "output_type": "stream",
     "text": [
      "[[26370.77985954]\n",
      " [40756.77970505]\n",
      " [63665.87434387]]\n",
      "            Confirmed  LSTM_Predictions\n",
      "Date                                   \n",
      "2020-03-21    25489.0      26370.779860\n",
      "2020-03-22    33272.0      40756.779705\n",
      "2020-03-23    33276.0      63665.874344\n"
     ]
    }
   ],
   "source": [
    "lstm_predictions_scaled = list()\n",
    "\n",
    "batch = scaled_train_data[-n_input:]\n",
    "current_batch = batch.reshape((1, n_input, n_features))\n",
    "\n",
    "for i in range(len(test_data)):   \n",
    "    lstm_pred = lstm_model.predict(current_batch)[0]\n",
    "    lstm_predictions_scaled.append(lstm_pred) \n",
    "    current_batch = np.append(current_batch[:,1:,:],[[lstm_pred]],axis=1)\n",
    "\n",
    "    \n",
    "lstm_predictions = scaler.inverse_transform(lstm_predictions_scaled)\n",
    "print(lstm_predictions)\n",
    "test_data['LSTM_Predictions'] = lstm_predictions\n",
    "print(test_data)"
   ]
  },
  {
   "cell_type": "code",
   "execution_count": 39,
   "metadata": {},
   "outputs": [
    {
     "data": {
      "image/png": "[encoded data removed]",
      "text/plain": [
       "<Figure size 1152x360 with 1 Axes>"
      ]
     },
     "metadata": {
      "needs_background": "light"
     },
     "output_type": "display_data"
    }
   ],
   "source": [
    "test_data['Confirmed'].plot(figsize = (16,5), legend=True)\n",
    "test_data['LSTM_Predictions'].plot(legend = True);"
   ]
  },
  {
   "cell_type": "code",
   "execution_count": 40,
   "metadata": {},
   "outputs": [
    {
     "name": "stdout",
     "output_type": "stream",
     "text": [
      "MSE Error: 326781308.53004056\n",
      "RMSE Error: 18077.093475723374\n",
      "Mean: 5402.379310344828\n"
     ]
    }
   ],
   "source": [
    "lstm_rmse_error_us = rmse(test_data['Confirmed'], test_data[\"LSTM_Predictions\"])\n",
    "lstm_mse_error_us = lstm_rmse_error_us**2\n",
    "mean_value = US['Confirmed'].mean()\n",
    "\n",
    "print(f'MSE Error: {lstm_mse_error_us}\\nRMSE Error: {lstm_rmse_error_us}\\nMean: {mean_value}')"
   ]
  },
  {
   "cell_type": "markdown",
   "metadata": {},
   "source": [
    "---"
   ]
  },
  {
   "cell_type": "markdown",
   "metadata": {},
   "source": [
    "## Italy"
   ]
  },
  {
   "cell_type": "code",
   "execution_count": 41,
   "metadata": {},
   "outputs": [],
   "source": [
    "italy = italy[[\"Date\", \"Confirmed\"]]\n",
    "italy.Date = pd.to_datetime(italy.Date)\n",
    "italy= italy.set_index(\"Date\")\n",
    "\n",
    "train_data = italy[:len(italy)-3]\n",
    "test_data = italy[len(italy)-3:]"
   ]
  },
  {
   "cell_type": "code",
   "execution_count": 42,
   "metadata": {},
   "outputs": [],
   "source": [
    "scaler = MinMaxScaler()\n",
    "scaler.fit(train_data)\n",
    "scaled_train_data = scaler.transform(train_data)\n",
    "scaled_test_data = scaler.transform(test_data)"
   ]
  },
  {
   "cell_type": "code",
   "execution_count": 43,
   "metadata": {},
   "outputs": [],
   "source": [
    "n_input = 3\n",
    "n_features= 1\n",
    "generator = TimeseriesGenerator(scaled_train_data, scaled_train_data, length=n_input, batch_size=1)"
   ]
  },
  {
   "cell_type": "code",
   "execution_count": 44,
   "metadata": {},
   "outputs": [],
   "source": [
    "lstm_model = Sequential()\n",
    "lstm_model.add(LSTM(200, activation='relu', input_shape=(n_input, n_features)))\n",
    "lstm_model.add(Dense(1))\n",
    "lstm_model.compile(optimizer='adam', loss='mse')"
   ]
  },
  {
   "cell_type": "code",
   "execution_count": 45,
   "metadata": {},
   "outputs": [
    {
     "data": {
      "text/plain": [
       "<keras.callbacks.callbacks.History at 0x135235b70>"
      ]
     },
     "execution_count": 45,
     "metadata": {},
     "output_type": "execute_result"
    }
   ],
   "source": [
    "lstm_model.fit_generator(generator,epochs=20, verbose=0)"
   ]
  },
  {
   "cell_type": "code",
   "execution_count": 46,
   "metadata": {},
   "outputs": [
    {
     "data": {
      "image/png": "[encoded data removed]",
      "text/plain": [
       "<Figure size 864x288 with 1 Axes>"
      ]
     },
     "metadata": {
      "needs_background": "light"
     },
     "output_type": "display_data"
    }
   ],
   "source": [
    "losses_lstm = lstm_model.history.history['loss']\n",
    "plt.figure(figsize=(12,4))\n",
    "plt.xlabel(\"Epochs\")\n",
    "plt.ylabel(\"Loss\")\n",
    "plt.xticks(np.arange(0,21,1))\n",
    "plt.plot(range(len(losses_lstm)),losses_lstm);"
   ]
  },
  {
   "cell_type": "code",
   "execution_count": 47,
   "metadata": {},
   "outputs": [
    {
     "name": "stdout",
     "output_type": "stream",
     "text": [
      "[[53363.3274709 ]\n",
      " [61175.42231202]\n",
      " [70441.01353967]]\n",
      "            Confirmed  LSTM_Predictions\n",
      "Date                                   \n",
      "2020-03-21    53578.0      53363.327471\n",
      "2020-03-22    59138.0      61175.422312\n",
      "2020-03-23    59138.0      70441.013540\n"
     ]
    },
    {
     "data": {
      "text/html": [
       "<div>\n",
       "<style scoped>\n",
       "    .dataframe tbody tr th:only-of-type {\n",
       "        vertical-align: middle;\n",
       "    }\n",
       "\n",
       "    .dataframe tbody tr th {\n",
       "        vertical-align: top;\n",
       "    }\n",
       "\n",
       "    .dataframe thead th {\n",
       "        text-align: right;\n",
       "    }\n",
       "</style>\n",
       "<table border=\"1\" class=\"dataframe\">\n",
       "  <thead>\n",
       "    <tr style=\"text-align: right;\">\n",
       "      <th></th>\n",
       "      <th>Confirmed</th>\n",
       "      <th>LSTM_Predictions</th>\n",
       "    </tr>\n",
       "    <tr>\n",
       "      <th>Date</th>\n",
       "      <th></th>\n",
       "      <th></th>\n",
       "    </tr>\n",
       "  </thead>\n",
       "  <tbody>\n",
       "    <tr>\n",
       "      <th>2020-03-21</th>\n",
       "      <td>53578.0</td>\n",
       "      <td>53363.327471</td>\n",
       "    </tr>\n",
       "    <tr>\n",
       "      <th>2020-03-22</th>\n",
       "      <td>59138.0</td>\n",
       "      <td>61175.422312</td>\n",
       "    </tr>\n",
       "    <tr>\n",
       "      <th>2020-03-23</th>\n",
       "      <td>59138.0</td>\n",
       "      <td>70441.013540</td>\n",
       "    </tr>\n",
       "  </tbody>\n",
       "</table>\n",
       "</div>"
      ],
      "text/plain": [
       "            Confirmed  LSTM_Predictions\n",
       "Date                                   \n",
       "2020-03-21    53578.0      53363.327471\n",
       "2020-03-22    59138.0      61175.422312\n",
       "2020-03-23    59138.0      70441.013540"
      ]
     },
     "execution_count": 47,
     "metadata": {},
     "output_type": "execute_result"
    }
   ],
   "source": [
    "lstm_predictions_scaled = list()\n",
    "\n",
    "batch = scaled_train_data[-n_input:]\n",
    "current_batch = batch.reshape((1, n_input, n_features))\n",
    "\n",
    "for i in range(len(test_data)):   \n",
    "    lstm_pred = lstm_model.predict(current_batch)[0]\n",
    "    lstm_predictions_scaled.append(lstm_pred) \n",
    "    current_batch = np.append(current_batch[:,1:,:],[[lstm_pred]],axis=1)\n",
    "\n",
    "    \n",
    "lstm_predictions = scaler.inverse_transform(lstm_predictions_scaled)\n",
    "print(lstm_predictions)\n",
    "test_data['LSTM_Predictions'] = lstm_predictions\n",
    "print(test_data)\n",
    "test_data"
   ]
  },
  {
   "cell_type": "code",
   "execution_count": 48,
   "metadata": {},
   "outputs": [
    {
     "data": {
      "image/png": "[encoded data removed]",
      "text/plain": [
       "<Figure size 1152x360 with 1 Axes>"
      ]
     },
     "metadata": {
      "needs_background": "light"
     },
     "output_type": "display_data"
    }
   ],
   "source": [
    "test_data['Confirmed'].plot(figsize = (16,5), legend=True)\n",
    "test_data['LSTM_Predictions'].plot(legend = True);"
   ]
  },
  {
   "cell_type": "code",
   "execution_count": 49,
   "metadata": {},
   "outputs": [
    {
     "name": "stdout",
     "output_type": "stream",
     "text": [
      "MSE Error: 43985096.35009314\n",
      "RMSE Error: 6632.126080684318\n",
      "Mean: 15559.46875\n"
     ]
    }
   ],
   "source": [
    "lstm_rmse_error_italy = rmse(test_data['Confirmed'], test_data[\"LSTM_Predictions\"])\n",
    "lstm_mse_error_italy = lstm_rmse_error_italy**2\n",
    "mean_value = italy['Confirmed'].mean()\n",
    "\n",
    "print(f'MSE Error: {lstm_mse_error_italy}\\nRMSE Error: {lstm_rmse_error_italy}\\nMean: {mean_value}')"
   ]
  },
  {
   "cell_type": "code",
   "execution_count": 50,
   "metadata": {},
   "outputs": [
    {
     "name": "stdout",
     "output_type": "stream",
     "text": [
      "Model                      MSE      RMSE\n",
      "-----------------  -----------  --------\n",
      "China LSTM Errors  6.79481e+06   2606.69\n",
      "US LSTM Errors     3.26781e+08  18077.1\n",
      "Italy LSTM Errors  4.39851e+07   6632.13\n"
     ]
    }
   ],
   "source": [
    "print(tabulate([\n",
    "    ['China LSTM Errors', lstm_mse_error_china, lstm_rmse_error_china], \n",
    "    ['US LSTM Errors', lstm_mse_error_us, lstm_rmse_error_us],\n",
    "    ['Italy LSTM Errors', lstm_mse_error_italy, lstm_rmse_error_italy]], \n",
    "    \n",
    "    headers=['Model', 'MSE', \"RMSE\", \"Mean\"]))\n",
    "\n",
    "\n"
   ]
  }
 ],
 "metadata": {
  "kernelspec": {
   "display_name": "Python 3",
   "language": "python",
   "name": "python3"
  },
  "language_info": {
   "codemirror_mode": {
    "name": "ipython",
    "version": 3
   },
   "file_extension": ".py",
   "mimetype": "text/x-python",
   "name": "python",
   "nbconvert_exporter": "python",
   "pygments_lexer": "ipython3",
   "version": "3.7.1"
  }
 },
 "nbformat": 4,
 "nbformat_minor": 2
}
