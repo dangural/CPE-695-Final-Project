{
 "cells": [
  {
   "cell_type": "code",
   "execution_count": 1,
   "metadata": {},
   "outputs": [],
   "source": [
    "import pandas as pd \n",
    "import matplotlib.pyplot as plt\n",
    "import warnings \n",
    "import numpy as np\n",
    "warnings.filterwarnings('ignore')"
   ]
  },
  {
   "cell_type": "code",
   "execution_count": 2,
   "metadata": {},
   "outputs": [],
   "source": [
    "h1n1 = pd.read_csv('../data/h1n1.csv', encoding='unicode_escape')"
   ]
  },
  {
   "cell_type": "code",
   "execution_count": 3,
   "metadata": {},
   "outputs": [
    {
     "data": {
      "text/html": [
       "<div>\n",
       "<style scoped>\n",
       "    .dataframe tbody tr th:only-of-type {\n",
       "        vertical-align: middle;\n",
       "    }\n",
       "\n",
       "    .dataframe tbody tr th {\n",
       "        vertical-align: top;\n",
       "    }\n",
       "\n",
       "    .dataframe thead th {\n",
       "        text-align: right;\n",
       "    }\n",
       "</style>\n",
       "<table border=\"1\" class=\"dataframe\">\n",
       "  <thead>\n",
       "    <tr style=\"text-align: right;\">\n",
       "      <th></th>\n",
       "      <th>Country</th>\n",
       "      <th>Cases</th>\n",
       "      <th>Deaths</th>\n",
       "      <th>Time</th>\n",
       "    </tr>\n",
       "  </thead>\n",
       "  <tbody>\n",
       "    <tr>\n",
       "      <th>0</th>\n",
       "      <td>Algeria</td>\n",
       "      <td>5</td>\n",
       "      <td>0.0</td>\n",
       "      <td>7/6/09 09:00</td>\n",
       "    </tr>\n",
       "    <tr>\n",
       "      <th>1</th>\n",
       "      <td>Antigua and Barbuda</td>\n",
       "      <td>2</td>\n",
       "      <td>0.0</td>\n",
       "      <td>7/6/09 09:00</td>\n",
       "    </tr>\n",
       "    <tr>\n",
       "      <th>2</th>\n",
       "      <td>Argentina</td>\n",
       "      <td>2485</td>\n",
       "      <td>60.0</td>\n",
       "      <td>7/6/09 09:00</td>\n",
       "    </tr>\n",
       "    <tr>\n",
       "      <th>3</th>\n",
       "      <td>Australia</td>\n",
       "      <td>5298</td>\n",
       "      <td>10.0</td>\n",
       "      <td>7/6/09 09:00</td>\n",
       "    </tr>\n",
       "    <tr>\n",
       "      <th>4</th>\n",
       "      <td>Austria</td>\n",
       "      <td>19</td>\n",
       "      <td>0.0</td>\n",
       "      <td>7/6/09 09:00</td>\n",
       "    </tr>\n",
       "    <tr>\n",
       "      <th>5</th>\n",
       "      <td>Bahamas</td>\n",
       "      <td>7</td>\n",
       "      <td>0.0</td>\n",
       "      <td>7/6/09 09:00</td>\n",
       "    </tr>\n",
       "    <tr>\n",
       "      <th>6</th>\n",
       "      <td>Bahrain</td>\n",
       "      <td>15</td>\n",
       "      <td>0.0</td>\n",
       "      <td>7/6/09 09:00</td>\n",
       "    </tr>\n",
       "    <tr>\n",
       "      <th>7</th>\n",
       "      <td>Bangladesh</td>\n",
       "      <td>18</td>\n",
       "      <td>0.0</td>\n",
       "      <td>7/6/09 09:00</td>\n",
       "    </tr>\n",
       "    <tr>\n",
       "      <th>8</th>\n",
       "      <td>Barbados</td>\n",
       "      <td>12</td>\n",
       "      <td>0.0</td>\n",
       "      <td>7/6/09 09:00</td>\n",
       "    </tr>\n",
       "    <tr>\n",
       "      <th>9</th>\n",
       "      <td>Belgium</td>\n",
       "      <td>54</td>\n",
       "      <td>0.0</td>\n",
       "      <td>7/6/09 09:00</td>\n",
       "    </tr>\n",
       "    <tr>\n",
       "      <th>10</th>\n",
       "      <td>Bermuda, UKOT</td>\n",
       "      <td>1</td>\n",
       "      <td>0.0</td>\n",
       "      <td>7/6/09 09:00</td>\n",
       "    </tr>\n",
       "    <tr>\n",
       "      <th>11</th>\n",
       "      <td>Bolivia</td>\n",
       "      <td>416</td>\n",
       "      <td>0.0</td>\n",
       "      <td>7/6/09 09:00</td>\n",
       "    </tr>\n",
       "    <tr>\n",
       "      <th>12</th>\n",
       "      <td>Bosnia and Hezegovina</td>\n",
       "      <td>1</td>\n",
       "      <td>0.0</td>\n",
       "      <td>7/6/09 09:00</td>\n",
       "    </tr>\n",
       "    <tr>\n",
       "      <th>13</th>\n",
       "      <td>Brazil</td>\n",
       "      <td>737</td>\n",
       "      <td>1.0</td>\n",
       "      <td>7/6/09 09:00</td>\n",
       "    </tr>\n",
       "    <tr>\n",
       "      <th>14</th>\n",
       "      <td>British Virgin Islands, UKOT</td>\n",
       "      <td>2</td>\n",
       "      <td>0.0</td>\n",
       "      <td>7/6/09 09:00</td>\n",
       "    </tr>\n",
       "  </tbody>\n",
       "</table>\n",
       "</div>"
      ],
      "text/plain": [
       "                         Country  Cases  Deaths          Time\n",
       "0                        Algeria      5     0.0  7/6/09 09:00\n",
       "1            Antigua and Barbuda      2     0.0  7/6/09 09:00\n",
       "2                      Argentina   2485    60.0  7/6/09 09:00\n",
       "3                      Australia   5298    10.0  7/6/09 09:00\n",
       "4                        Austria     19     0.0  7/6/09 09:00\n",
       "5                        Bahamas      7     0.0  7/6/09 09:00\n",
       "6                        Bahrain     15     0.0  7/6/09 09:00\n",
       "7                     Bangladesh     18     0.0  7/6/09 09:00\n",
       "8                       Barbados     12     0.0  7/6/09 09:00\n",
       "9                        Belgium     54     0.0  7/6/09 09:00\n",
       "10                 Bermuda, UKOT      1     0.0  7/6/09 09:00\n",
       "11                       Bolivia    416     0.0  7/6/09 09:00\n",
       "12         Bosnia and Hezegovina      1     0.0  7/6/09 09:00\n",
       "13                        Brazil    737     1.0  7/6/09 09:00\n",
       "14  British Virgin Islands, UKOT      2     0.0  7/6/09 09:00"
      ]
     },
     "execution_count": 3,
     "metadata": {},
     "output_type": "execute_result"
    }
   ],
   "source": [
    "h1n1.head(15)"
   ]
  },
  {
   "cell_type": "code",
   "execution_count": 4,
   "metadata": {},
   "outputs": [
    {
     "data": {
      "text/plain": [
       "['Algeria',\n",
       " 'Antigua and Barbuda',\n",
       " 'Argentina',\n",
       " 'Australia',\n",
       " 'Austria',\n",
       " 'Bahamas',\n",
       " 'Bahrain',\n",
       " 'Bangladesh',\n",
       " 'Barbados',\n",
       " 'Belgium',\n",
       " 'Bermuda, UKOT',\n",
       " 'Bolivia',\n",
       " 'Bosnia and Hezegovina',\n",
       " 'Brazil',\n",
       " 'British Virgin Islands, UKOT',\n",
       " 'Brunei Darussalam',\n",
       " 'Bulgaria',\n",
       " 'Cambodia',\n",
       " 'Canada',\n",
       " 'Cap Verde',\n",
       " 'Cayman Islands, UKOT',\n",
       " 'Chile',\n",
       " 'China',\n",
       " 'Colombia',\n",
       " 'Cook Island',\n",
       " 'Costa Rica',\n",
       " \"Cote d'Ivoire\",\n",
       " 'Croatia',\n",
       " 'Cuba',\n",
       " 'Cyprus',\n",
       " 'Czech Republic',\n",
       " 'Denmark',\n",
       " 'Dominica',\n",
       " 'Dominican Republic',\n",
       " 'Ecuador',\n",
       " 'Egypt',\n",
       " 'El Salvador',\n",
       " 'Estonia',\n",
       " 'Ethiopia',\n",
       " 'Fiji',\n",
       " 'Finland',\n",
       " 'France',\n",
       " '\\xa0\\xa0\\xa0\\xa0\\xa0French Polynesia, FOC',\n",
       " '\\xa0\\xa0\\xa0\\xa0\\xa0Guadaloupe, FOC',\n",
       " '\\xa0\\xa0\\xa0\\xa0\\xa0Martinique, FOC',\n",
       " '\\xa0\\xa0\\xa0\\xa0\\xa0New Caledonia, FOC',\n",
       " '\\xa0\\xa0\\xa0\\xa0\\xa0Saint Martin, FOC',\n",
       " 'Germany',\n",
       " 'Greece',\n",
       " 'Guatemala\\xa0',\n",
       " 'Guyana',\n",
       " 'Honduras',\n",
       " 'Hungary',\n",
       " 'Iceland',\n",
       " 'India',\n",
       " 'Indonesia',\n",
       " 'Iran, Islamic Republic',\n",
       " 'Iraq',\n",
       " 'Ireland',\n",
       " 'Israel',\n",
       " 'Italy',\n",
       " 'Jamaica',\n",
       " 'Japan',\n",
       " 'Jordan',\n",
       " 'Kenya',\n",
       " 'Korea, Republic of',\n",
       " 'Kuwait',\n",
       " 'Laos',\n",
       " 'Latvia',\n",
       " 'Lebanon',\n",
       " 'Libya',\n",
       " 'Lithuania',\n",
       " 'Luxembourg',\n",
       " 'Malaysia',\n",
       " 'Malta',\n",
       " 'Mauritius',\n",
       " 'Mexico',\n",
       " 'Montenegro',\n",
       " 'Morocco',\n",
       " 'Myanmar',\n",
       " 'Nepal',\n",
       " 'Netherlands',\n",
       " '\\xa0\\xa0\\xa0\\xa0\\xa0Netherlands, Aruba',\n",
       " '\\xa0\\xa0\\xa0\\xa0\\xa0Netherlands Antilles, Curaçao',\n",
       " '\\xa0\\xa0\\xa0\\xa0\\xa0Netherlands Antilles, Sint Maarten',\n",
       " 'New Zealand',\n",
       " 'Nicaragua',\n",
       " 'Norway',\n",
       " 'Oman',\n",
       " 'Palau',\n",
       " 'Panama',\n",
       " 'Papua New Guinea',\n",
       " 'Paraguay',\n",
       " 'Peru',\n",
       " 'Philippines',\n",
       " 'Poland',\n",
       " 'Portugal',\n",
       " 'Qatar',\n",
       " 'Romania',\n",
       " 'Russia',\n",
       " 'Saint Lucia',\n",
       " 'Samoa',\n",
       " 'Saudi Arabia',\n",
       " 'Serbia',\n",
       " 'Singapore',\n",
       " 'Slovakia',\n",
       " 'Slovenia',\n",
       " 'South Africa',\n",
       " 'Spain',\n",
       " 'Sri Lanka',\n",
       " 'Suriname',\n",
       " 'Sweden',\n",
       " 'Switzerland',\n",
       " 'Syria',\n",
       " 'Thailand',\n",
       " 'The former Yugoslav Republic of Macedonia',\n",
       " 'Trinidad and Tobago',\n",
       " 'Tunisia',\n",
       " 'Turkey',\n",
       " 'Uganda',\n",
       " 'Ukraine',\n",
       " 'United Arab Emirates',\n",
       " 'United Kingdom',\n",
       " '\\xa0\\xa0\\xa0\\xa0\\xa0Guernsey, Crown Dependency',\n",
       " '\\xa0\\xa0\\xa0\\xa0\\xa0Isle of Man, Crown Dependency',\n",
       " '\\xa0\\xa0\\xa0\\xa0\\xa0Jersey, Crown Dependency',\n",
       " 'United States of America',\n",
       " '\\xa0\\xa0\\xa0\\xa0\\xa0Puerto Rico',\n",
       " '\\xa0\\xa0\\xa0\\xa0\\xa0Virgin Islands',\n",
       " 'Uruguay',\n",
       " 'Vanuatu',\n",
       " 'Venezuela',\n",
       " 'Viet Nam',\n",
       " 'West Bank and Gaza Strip',\n",
       " 'Yemen',\n",
       " 'Grand Total',\n",
       " 'Costa Rica*',\n",
       " '\\xa0\\xa0\\xa0\\xa0French Polynesia, FOC',\n",
       " '\\xa0\\xa0\\xa0\\xa0Martinique, FOC',\n",
       " '\\xa0\\xa0\\xa0\\xa0France, New Caledonia, FOC',\n",
       " 'Iran',\n",
       " 'Monaco',\n",
       " '\\xa0\\xa0\\xa0\\xa0\\xa0Netherlands Antilles, Curaçao *',\n",
       " 'Morocco *',\n",
       " '\\xa0\\xa0\\xa0\\xa0\\xa0Netherlands Antilles, Curaçao **',\n",
       " 'France, French Polynesia, FOC',\n",
       " 'France, Martinique, FOC',\n",
       " 'Guatemala',\n",
       " 'Netherlands, Curacao, OT',\n",
       " 'United Kingdom, Isle of Man, Crown Dependency',\n",
       " 'United Kingdom, Jersey, Crown Dependency',\n",
       " 'United States of America*']"
      ]
     },
     "execution_count": 4,
     "metadata": {},
     "output_type": "execute_result"
    }
   ],
   "source": [
    "countries = list(h1n1['Country'].unique())\n",
    "countries"
   ]
  },
  {
   "cell_type": "markdown",
   "metadata": {},
   "source": [
    "Highest confirmed cases are belgium, germany and portugal. So let's look at those "
   ]
  },
  {
   "cell_type": "code",
   "execution_count": 5,
   "metadata": {},
   "outputs": [],
   "source": [
    "belgium= h1n1.loc[h1n1[\"Country\"] == \"Belgium\"]\n",
    "belgium = belgium.loc[belgium[\"Cases\"] > 2]\n",
    "belgium = belgium.reset_index(drop=True)\n",
    "\n",
    "\n",
    "germany= h1n1.loc[h1n1[\"Country\"] == \"Germany\"]\n",
    "germany = germany.loc[germany[\"Cases\"] > 2]\n",
    "germany = germany.reset_index(drop=True)\n",
    "\n",
    "portugal= h1n1.loc[h1n1[\"Country\"] == \"Portugal\"]\n",
    "portugal = portugal.loc[portugal[\"Cases\"] > 2]\n",
    "portugal = portugal.reset_index(drop=True)"
   ]
  },
  {
   "cell_type": "code",
   "execution_count": 6,
   "metadata": {},
   "outputs": [
    {
     "data": {
      "image/png": "[encoded data removed]",
      "text/plain": [
       "<Figure size 432x288 with 1 Axes>"
      ]
     },
     "metadata": {
      "needs_background": "light"
     },
     "output_type": "display_data"
    }
   ],
   "source": [
    "plt.plot(belgium.index, belgium['Cases'], 'r', linewidth = 2, label=\"Belgium\")\n",
    "plt.plot(germany.index, germany['Cases'],'b',linewidth = 2, label=\"Germany\")\n",
    "plt.plot(portugal.index, portugal['Cases'],'g',linewidth = 2, label=\"portugal\")\n",
    "plt.title(\"H1N1: Belgium, Germany, and Portugal Edition\")\n",
    "plt.xlabel(\"Days after the 2 confirmed case\")\n",
    "plt.ylabel(\"Confirmed Cases\")\n",
    "plt.legend()\n",
    "plt.show()"
   ]
  },
  {
   "cell_type": "code",
   "execution_count": 7,
   "metadata": {},
   "outputs": [],
   "source": [
    "#Order the dataframes by date\n",
    "\n",
    "belgium[['Date', 'Time']] = belgium.Time.str.split(' ', expand=True)\n",
    "belgium['Date'] = pd.to_datetime(belgium.Date)\n",
    "belgium.sort_values(by='Date', ascending=True)\n",
    "belgium = belgium.drop('Time', axis=1)\n",
    "belgium = belgium.drop('Country', axis=1)\n",
    "belgium = belgium.drop('Deaths', axis=1)\n",
    "belgium = belgium.set_index(\"Date\")\n",
    "\n",
    "germany[['Date', 'Time']] = germany.Time.str.split(' ', expand=True)\n",
    "germany['Date'] = pd.to_datetime(germany.Date)\n",
    "germany.sort_values(by='Date', ascending=True)\n",
    "germany = germany.drop('Time', axis=1)\n",
    "germany = germany.drop('Country', axis=1)\n",
    "germany = germany.drop('Deaths', axis=1)\n",
    "germany = germany.set_index(\"Date\")\n",
    "\n",
    "portugal[['Date', 'Time']] = portugal.Time.str.split(' ', expand=True)\n",
    "portugal['Date'] = pd.to_datetime(portugal.Date)\n",
    "portugal.sort_values(by='Date', ascending=True)\n",
    "portugal = portugal.drop('Time', axis=1)\n",
    "portugal = portugal.drop('Country', axis=1)\n",
    "portugal = portugal.drop('Deaths', axis=1)\n",
    "portugal = portugal.set_index(\"Date\")"
   ]
  },
  {
   "cell_type": "code",
   "execution_count": 8,
   "metadata": {},
   "outputs": [
    {
     "name": "stderr",
     "output_type": "stream",
     "text": [
      "Using TensorFlow backend.\n"
     ]
    }
   ],
   "source": [
    "from sklearn.model_selection import train_test_split\n",
    "from sklearn.preprocessing import MinMaxScaler\n",
    "from keras.preprocessing.sequence import TimeseriesGenerator\n",
    "from keras.models import Sequential\n",
    "from keras.layers import Dense\n",
    "from keras.layers import LSTM"
   ]
  },
  {
   "cell_type": "code",
   "execution_count": 9,
   "metadata": {},
   "outputs": [],
   "source": [
    "def train_Country(country_data, n_input, n_features ):\n",
    "    train_data, test_data = train_test_split(country_data, test_size=0.2, shuffle=False)\n",
    "    \n",
    "    scaler = MinMaxScaler()\n",
    "    scaler.fit(train_data)\n",
    "    scaled_train_data = scaler.transform(train_data)\n",
    "    scaled_test_data = scaler.transform(test_data)\n",
    "    \n",
    "    generator = TimeseriesGenerator(scaled_train_data, scaled_train_data, length=n_input, batch_size=1)\n",
    "    \n",
    "    lstm_model = Sequential()\n",
    "    lstm_model.add(LSTM(200, activation='relu', input_shape=(n_input, n_features)))\n",
    "    lstm_model.add(Dense(1))\n",
    "    lstm_model.compile(optimizer='adam', loss='mse')\n",
    "\n",
    "    model_summary = lstm_model.summary()\n",
    "    \n",
    "    print('Model summary: ', model_summary)\n",
    "    \n",
    "    lstm_model.fit_generator(generator,epochs=20)\n",
    "    \n",
    "    losses_lstm = lstm_model.history.history['loss']\n",
    "    plt.figure(figsize=(12,4))\n",
    "    plt.xlabel(\"Epochs\")\n",
    "    plt.ylabel(\"Loss\")\n",
    "    plt.xticks(np.arange(0,21,1))\n",
    "    plt.plot(range(len(losses_lstm)),losses_lstm);\n",
    "    \n",
    "    lstm_predictions_scaled = list()\n",
    "\n",
    "    batch = scaled_train_data[-n_input:]\n",
    "    current_batch = batch.reshape((1, n_input, n_features))\n",
    "\n",
    "    for i in range(len(test_data)):   \n",
    "        lstm_pred = lstm_model.predict(current_batch)[0]\n",
    "        lstm_predictions_scaled.append(lstm_pred) \n",
    "        current_batch = np.append(current_batch[:,1:,:],[[lstm_pred]],axis=1)\n",
    "        \n",
    "    print('LSTM Predictions Scaled: ', lstm_predictions_scaled)\n",
    "    \n",
    "    lstm_predictions = scaler.inverse_transform(lstm_predictions_scaled)\n",
    "    print('LSTM Predictions: ', lstm_predictions)\n",
    "    \n",
    "    return [lstm_predictions, test_data]"
   ]
  },
  {
   "cell_type": "code",
   "execution_count": 10,
   "metadata": {},
   "outputs": [],
   "source": [
    "def plot_predictions_vs_real(predictions, test_data):\n",
    "    test_data['LSTM_Predictions'] = predictions\n",
    "    test_data['Cases'].plot(figsize = (16,5), legend=True)\n",
    "    test_data['LSTM_Predictions'].plot(legend = True);\n",
    "    \n",
    "    return"
   ]
  },
  {
   "cell_type": "code",
   "execution_count": 11,
   "metadata": {},
   "outputs": [],
   "source": [
    "n_input = 7\n",
    "n_features = 1"
   ]
  },
  {
   "cell_type": "markdown",
   "metadata": {},
   "source": [
    "# Belgium #"
   ]
  },
  {
   "cell_type": "code",
   "execution_count": 12,
   "metadata": {},
   "outputs": [
    {
     "name": "stdout",
     "output_type": "stream",
     "text": [
      "WARNING:tensorflow:From /Library/Frameworks/Python.framework/Versions/3.6/lib/python3.6/site-packages/tensorflow/python/ops/resource_variable_ops.py:435: colocate_with (from tensorflow.python.framework.ops) is deprecated and will be removed in a future version.\n",
      "Instructions for updating:\n",
      "Colocations handled automatically by placer.\n",
      "Model: \"sequential_1\"\n",
      "_________________________________________________________________\n",
      "Layer (type)                 Output Shape              Param #   \n",
      "=================================================================\n",
      "lstm_1 (LSTM)                (None, 200)               161600    \n",
      "_________________________________________________________________\n",
      "dense_1 (Dense)              (None, 1)                 201       \n",
      "=================================================================\n",
      "Total params: 161,801\n",
      "Trainable params: 161,801\n",
      "Non-trainable params: 0\n",
      "_________________________________________________________________\n",
      "Model summary:  None\n",
      "WARNING:tensorflow:From /Library/Frameworks/Python.framework/Versions/3.6/lib/python3.6/site-packages/tensorflow/python/ops/math_ops.py:3066: to_int32 (from tensorflow.python.ops.math_ops) is deprecated and will be removed in a future version.\n",
      "Instructions for updating:\n",
      "Use tf.cast instead.\n",
      "Epoch 1/20\n",
      "10/10 [==============================] - 1s 63ms/step - loss: 0.0026\n",
      "Epoch 2/20\n",
      "10/10 [==============================] - 0s 13ms/step - loss: 5.7419e-04\n",
      "Epoch 3/20\n",
      "10/10 [==============================] - 0s 13ms/step - loss: 4.6038e-04\n",
      "Epoch 4/20\n",
      "10/10 [==============================] - 0s 9ms/step - loss: 3.4543e-04\n",
      "Epoch 5/20\n",
      "10/10 [==============================] - 0s 12ms/step - loss: 4.6142e-04\n",
      "Epoch 6/20\n",
      "10/10 [==============================] - 0s 12ms/step - loss: 5.1332e-04\n",
      "Epoch 7/20\n",
      "10/10 [==============================] - 0s 16ms/step - loss: 4.3891e-04\n",
      "Epoch 8/20\n",
      "10/10 [==============================] - 0s 12ms/step - loss: 3.2414e-04\n",
      "Epoch 9/20\n",
      "10/10 [==============================] - 0s 11ms/step - loss: 3.7661e-04\n",
      "Epoch 10/20\n",
      "10/10 [==============================] - 0s 17ms/step - loss: 4.4761e-04\n",
      "Epoch 11/20\n",
      "10/10 [==============================] - 0s 14ms/step - loss: 3.2921e-04\n",
      "Epoch 12/20\n",
      "10/10 [==============================] - 0s 14ms/step - loss: 3.4349e-04\n",
      "Epoch 13/20\n",
      "10/10 [==============================] - 0s 8ms/step - loss: 4.4915e-04\n",
      "Epoch 14/20\n",
      "10/10 [==============================] - 0s 9ms/step - loss: 4.1918e-04\n",
      "Epoch 15/20\n",
      "10/10 [==============================] - 0s 13ms/step - loss: 2.9817e-04\n",
      "Epoch 16/20\n",
      "10/10 [==============================] - 0s 11ms/step - loss: 4.0045e-04\n",
      "Epoch 17/20\n",
      "10/10 [==============================] - 0s 11ms/step - loss: 3.8869e-04\n",
      "Epoch 18/20\n",
      "10/10 [==============================] - 0s 10ms/step - loss: 3.2707e-04\n",
      "Epoch 19/20\n",
      "10/10 [==============================] - 0s 17ms/step - loss: 4.3255e-04\n",
      "Epoch 20/20\n",
      "10/10 [==============================] - 0s 15ms/step - loss: 5.4985e-04\n",
      "LSTM Predictions Scaled:  [array([0.0102849], dtype=float32), array([0.0089159], dtype=float32), array([0.00773225], dtype=float32), array([0.00672285], dtype=float32), array([0.00587478], dtype=float32)]\n",
      "LSTM Predictions:  [[12.43196598]\n",
      " [12.37446793]\n",
      " [12.32475457]\n",
      " [12.28235961]\n",
      " [12.24674056]]\n"
     ]
    },
    {
     "data": {
      "image/png": "[encoded data removed]",
      "text/plain": [
       "<Figure size 864x288 with 1 Axes>"
      ]
     },
     "metadata": {
      "needs_background": "light"
     },
     "output_type": "display_data"
    }
   ],
   "source": [
    "belgium_lstm = train_Country(belgium, n_input, n_features)"
   ]
  },
  {
   "cell_type": "code",
   "execution_count": 13,
   "metadata": {},
   "outputs": [
    {
     "data": {
      "image/png": "[encoded data removed]",
      "text/plain": [
       "<Figure size 1152x360 with 1 Axes>"
      ]
     },
     "metadata": {
      "needs_background": "light"
     },
     "output_type": "display_data"
    }
   ],
   "source": [
    "plot_predictions_vs_real(belgium_lstm[0], belgium_lstm[1])"
   ]
  },
  {
   "cell_type": "markdown",
   "metadata": {},
   "source": [
    "# Germany #"
   ]
  },
  {
   "cell_type": "code",
   "execution_count": 14,
   "metadata": {},
   "outputs": [
    {
     "name": "stdout",
     "output_type": "stream",
     "text": [
      "Model: \"sequential_2\"\n",
      "_________________________________________________________________\n",
      "Layer (type)                 Output Shape              Param #   \n",
      "=================================================================\n",
      "lstm_2 (LSTM)                (None, 200)               161600    \n",
      "_________________________________________________________________\n",
      "dense_2 (Dense)              (None, 1)                 201       \n",
      "=================================================================\n",
      "Total params: 161,801\n",
      "Trainable params: 161,801\n",
      "Non-trainable params: 0\n",
      "_________________________________________________________________\n",
      "Model summary:  None\n",
      "Epoch 1/20\n",
      "10/10 [==============================] - 1s 53ms/step - loss: 0.0202\n",
      "Epoch 2/20\n",
      "10/10 [==============================] - 0s 8ms/step - loss: 0.0115\n",
      "Epoch 3/20\n",
      "10/10 [==============================] - 0s 11ms/step - loss: 0.0062\n",
      "Epoch 4/20\n",
      "10/10 [==============================] - 0s 17ms/step - loss: 0.0051\n",
      "Epoch 5/20\n",
      "10/10 [==============================] - 0s 12ms/step - loss: 0.0036\n",
      "Epoch 6/20\n",
      "10/10 [==============================] - 0s 10ms/step - loss: 0.0023\n",
      "Epoch 7/20\n",
      "10/10 [==============================] - 0s 12ms/step - loss: 0.0020\n",
      "Epoch 8/20\n",
      "10/10 [==============================] - 0s 13ms/step - loss: 0.0012\n",
      "Epoch 9/20\n",
      "10/10 [==============================] - 0s 9ms/step - loss: 0.0017\n",
      "Epoch 10/20\n",
      "10/10 [==============================] - 0s 11ms/step - loss: 0.0024\n",
      "Epoch 11/20\n",
      "10/10 [==============================] - 0s 18ms/step - loss: 0.0017\n",
      "Epoch 12/20\n",
      "10/10 [==============================] - 0s 14ms/step - loss: 0.0016\n",
      "Epoch 13/20\n",
      "10/10 [==============================] - 0s 10ms/step - loss: 0.0014\n",
      "Epoch 14/20\n",
      "10/10 [==============================] - 0s 12ms/step - loss: 0.0017\n",
      "Epoch 15/20\n",
      "10/10 [==============================] - 0s 16ms/step - loss: 0.0011\n",
      "Epoch 16/20\n",
      "10/10 [==============================] - 0s 15ms/step - loss: 0.0011\n",
      "Epoch 17/20\n",
      "10/10 [==============================] - 0s 15ms/step - loss: 0.0017\n",
      "Epoch 18/20\n",
      "10/10 [==============================] - 0s 9ms/step - loss: 0.0017\n",
      "Epoch 19/20\n",
      "10/10 [==============================] - 0s 13ms/step - loss: 0.0015\n",
      "Epoch 20/20\n",
      "10/10 [==============================] - 0s 11ms/step - loss: 8.8668e-04\n",
      "LSTM Predictions Scaled:  [array([-0.01639178], dtype=float32), array([-0.01983848], dtype=float32), array([-0.0223662], dtype=float32), array([-0.02381515], dtype=float32), array([-0.02463193], dtype=float32)]\n",
      "LSTM Predictions:  [[20.18111905]\n",
      " [18.53704313]\n",
      " [17.33132188]\n",
      " [16.64017283]\n",
      " [16.25056826]]\n"
     ]
    },
    {
     "data": {
      "image/png": "[encoded data removed]",
      "text/plain": [
       "<Figure size 864x288 with 1 Axes>"
      ]
     },
     "metadata": {
      "needs_background": "light"
     },
     "output_type": "display_data"
    }
   ],
   "source": [
    "germany_lstm = train_Country(germany, n_input, n_features)"
   ]
  },
  {
   "cell_type": "code",
   "execution_count": 15,
   "metadata": {},
   "outputs": [
    {
     "data": {
      "image/png": "[encoded data removed]",
      "text/plain": [
       "<Figure size 1152x360 with 1 Axes>"
      ]
     },
     "metadata": {
      "needs_background": "light"
     },
     "output_type": "display_data"
    }
   ],
   "source": [
    "plot_predictions_vs_real(germany_lstm[0], germany_lstm[1])"
   ]
  },
  {
   "cell_type": "markdown",
   "metadata": {},
   "source": [
    "# Portugal #"
   ]
  },
  {
   "cell_type": "code",
   "execution_count": 16,
   "metadata": {},
   "outputs": [
    {
     "name": "stdout",
     "output_type": "stream",
     "text": [
      "Model: \"sequential_3\"\n",
      "_________________________________________________________________\n",
      "Layer (type)                 Output Shape              Param #   \n",
      "=================================================================\n",
      "lstm_3 (LSTM)                (None, 200)               161600    \n",
      "_________________________________________________________________\n",
      "dense_3 (Dense)              (None, 1)                 201       \n",
      "=================================================================\n",
      "Total params: 161,801\n",
      "Trainable params: 161,801\n",
      "Non-trainable params: 0\n",
      "_________________________________________________________________\n",
      "Model summary:  None\n",
      "Epoch 1/20\n",
      "1/1 [==============================] - 0s 447ms/step - loss: 1.1090e-05\n",
      "Epoch 2/20\n",
      "1/1 [==============================] - 0s 15ms/step - loss: 1.9253e-04\n",
      "Epoch 3/20\n",
      "1/1 [==============================] - 0s 8ms/step - loss: 1.5173e-05\n",
      "Epoch 4/20\n",
      "1/1 [==============================] - 0s 7ms/step - loss: 4.0159e-05\n",
      "Epoch 5/20\n",
      "1/1 [==============================] - 0s 7ms/step - loss: 9.1720e-05\n",
      "Epoch 6/20\n",
      "1/1 [==============================] - 0s 6ms/step - loss: 5.3204e-05\n",
      "Epoch 7/20\n",
      "1/1 [==============================] - 0s 7ms/step - loss: 7.7264e-06\n",
      "Epoch 8/20\n",
      "1/1 [==============================] - 0s 11ms/step - loss: 3.5810e-06\n",
      "Epoch 9/20\n",
      "1/1 [==============================] - 0s 8ms/step - loss: 2.6632e-05\n",
      "Epoch 10/20\n",
      "1/1 [==============================] - 0s 22ms/step - loss: 3.9575e-05\n",
      "Epoch 11/20\n",
      "1/1 [==============================] - 0s 13ms/step - loss: 2.9500e-05\n",
      "Epoch 12/20\n",
      "1/1 [==============================] - 0s 6ms/step - loss: 1.0333e-05\n",
      "Epoch 13/20\n",
      "1/1 [==============================] - 0s 8ms/step - loss: 2.0090e-07\n",
      "Epoch 14/20\n",
      "1/1 [==============================] - 0s 8ms/step - loss: 4.4396e-06\n",
      "Epoch 15/20\n",
      "1/1 [==============================] - 0s 7ms/step - loss: 1.4664e-05\n",
      "Epoch 16/20\n",
      "1/1 [==============================] - 0s 8ms/step - loss: 1.9210e-05\n",
      "Epoch 17/20\n",
      "1/1 [==============================] - 0s 7ms/step - loss: 1.4458e-05\n",
      "Epoch 18/20\n",
      "1/1 [==============================] - 0s 6ms/step - loss: 5.6535e-06\n",
      "Epoch 19/20\n",
      "1/1 [==============================] - 0s 8ms/step - loss: 2.8417e-07\n",
      "Epoch 20/20\n",
      "1/1 [==============================] - 0s 13ms/step - loss: 1.5716e-06\n",
      "LSTM Predictions Scaled:  [array([-0.00252442], dtype=float32), array([-0.0022613], dtype=float32)]\n",
      "LSTM Predictions:  [[4.90659644]\n",
      " [4.91633192]]\n"
     ]
    },
    {
     "data": {
      "image/png": "[encoded data removed]",
      "text/plain": [
       "<Figure size 864x288 with 1 Axes>"
      ]
     },
     "metadata": {
      "needs_background": "light"
     },
     "output_type": "display_data"
    }
   ],
   "source": [
    "portugal_lstm = train_Country(portugal, n_input, n_features)"
   ]
  },
  {
   "cell_type": "code",
   "execution_count": 17,
   "metadata": {},
   "outputs": [
    {
     "data": {
      "image/png": "[encoded data removed]",
      "text/plain": [
       "<Figure size 1152x360 with 1 Axes>"
      ]
     },
     "metadata": {
      "needs_background": "light"
     },
     "output_type": "display_data"
    }
   ],
   "source": [
    "plot_predictions_vs_real(portugal_lstm[0], portugal_lstm[1])"
   ]
  }
 ],
 "metadata": {
  "kernelspec": {
   "display_name": "Python 3",
   "language": "python",
   "name": "python3"
  },
  "language_info": {
   "codemirror_mode": {
    "name": "ipython",
    "version": 3
   },
   "file_extension": ".py",
   "mimetype": "text/x-python",
   "name": "python",
   "nbconvert_exporter": "python",
   "pygments_lexer": "ipython3",
   "version": "3.6.5"
  }
 },
 "nbformat": 4,
 "nbformat_minor": 2
}
