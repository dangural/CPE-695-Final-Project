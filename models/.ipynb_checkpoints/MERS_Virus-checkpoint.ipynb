{
 "cells": [
  {
   "cell_type": "code",
   "execution_count": 1,
   "metadata": {},
   "outputs": [
    {
     "name": "stderr",
     "output_type": "stream",
     "text": [
      "Using TensorFlow backend.\n"
     ]
    }
   ],
   "source": [
    "import warnings \n",
    "warnings.filterwarnings('ignore') # feel free to comment this out if you want to see warnings \n",
    "\n",
    "import csv \n",
    "import pandas as pd\n",
    "import datetime\n",
    "import matplotlib.pyplot as plt\n",
    "from sklearn.model_selection import train_test_split\n",
    "from sklearn.preprocessing import MinMaxScaler\n",
    "from keras.preprocessing.sequence import TimeseriesGenerator\n",
    "\n",
    "from keras.models import Sequential\n",
    "from keras.layers import Dense, LSTM, Input, Flatten\n",
    "\n",
    "\n",
    "from statsmodels.tools.eval_measures import rmse\n",
    "\n",
    "import numpy as np\n"
   ]
  },
  {
   "cell_type": "code",
   "execution_count": 2,
   "metadata": {},
   "outputs": [],
   "source": [
    "mers = pd.read_csv('../data/mers-outbreak-dataset-20122019/weekly_clean.csv')\n"
   ]
  },
  {
   "cell_type": "code",
   "execution_count": 3,
   "metadata": {},
   "outputs": [
    {
     "data": {
      "text/html": [
       "<div>\n",
       "<style scoped>\n",
       "    .dataframe tbody tr th:only-of-type {\n",
       "        vertical-align: middle;\n",
       "    }\n",
       "\n",
       "    .dataframe tbody tr th {\n",
       "        vertical-align: top;\n",
       "    }\n",
       "\n",
       "    .dataframe thead th {\n",
       "        text-align: right;\n",
       "    }\n",
       "</style>\n",
       "<table border=\"1\" class=\"dataframe\">\n",
       "  <thead>\n",
       "    <tr style=\"text-align: right;\">\n",
       "      <th></th>\n",
       "      <th>Year</th>\n",
       "      <th>Week</th>\n",
       "      <th>Region</th>\n",
       "      <th>New Cases</th>\n",
       "    </tr>\n",
       "  </thead>\n",
       "  <tbody>\n",
       "    <tr>\n",
       "      <th>0</th>\n",
       "      <td>2012</td>\n",
       "      <td>12</td>\n",
       "      <td>Other Countries</td>\n",
       "      <td>1</td>\n",
       "    </tr>\n",
       "    <tr>\n",
       "      <th>1</th>\n",
       "      <td>2012</td>\n",
       "      <td>12</td>\n",
       "      <td>Republic of Korea</td>\n",
       "      <td>0</td>\n",
       "    </tr>\n",
       "    <tr>\n",
       "      <th>2</th>\n",
       "      <td>2012</td>\n",
       "      <td>12</td>\n",
       "      <td>Saudi Arabia</td>\n",
       "      <td>0</td>\n",
       "    </tr>\n",
       "    <tr>\n",
       "      <th>3</th>\n",
       "      <td>2012</td>\n",
       "      <td>13</td>\n",
       "      <td>Other Countries</td>\n",
       "      <td>0</td>\n",
       "    </tr>\n",
       "    <tr>\n",
       "      <th>4</th>\n",
       "      <td>2012</td>\n",
       "      <td>13</td>\n",
       "      <td>Republic of Korea</td>\n",
       "      <td>0</td>\n",
       "    </tr>\n",
       "    <tr>\n",
       "      <th>5</th>\n",
       "      <td>2012</td>\n",
       "      <td>13</td>\n",
       "      <td>Saudi Arabia</td>\n",
       "      <td>0</td>\n",
       "    </tr>\n",
       "    <tr>\n",
       "      <th>6</th>\n",
       "      <td>2012</td>\n",
       "      <td>14</td>\n",
       "      <td>Other Countries</td>\n",
       "      <td>1</td>\n",
       "    </tr>\n",
       "    <tr>\n",
       "      <th>7</th>\n",
       "      <td>2012</td>\n",
       "      <td>14</td>\n",
       "      <td>Republic of Korea</td>\n",
       "      <td>0</td>\n",
       "    </tr>\n",
       "    <tr>\n",
       "      <th>8</th>\n",
       "      <td>2012</td>\n",
       "      <td>14</td>\n",
       "      <td>Saudi Arabia</td>\n",
       "      <td>0</td>\n",
       "    </tr>\n",
       "    <tr>\n",
       "      <th>9</th>\n",
       "      <td>2012</td>\n",
       "      <td>15</td>\n",
       "      <td>Other Countries</td>\n",
       "      <td>0</td>\n",
       "    </tr>\n",
       "    <tr>\n",
       "      <th>10</th>\n",
       "      <td>2012</td>\n",
       "      <td>15</td>\n",
       "      <td>Republic of Korea</td>\n",
       "      <td>0</td>\n",
       "    </tr>\n",
       "    <tr>\n",
       "      <th>11</th>\n",
       "      <td>2012</td>\n",
       "      <td>15</td>\n",
       "      <td>Saudi Arabia</td>\n",
       "      <td>0</td>\n",
       "    </tr>\n",
       "    <tr>\n",
       "      <th>12</th>\n",
       "      <td>2012</td>\n",
       "      <td>16</td>\n",
       "      <td>Other Countries</td>\n",
       "      <td>0</td>\n",
       "    </tr>\n",
       "    <tr>\n",
       "      <th>13</th>\n",
       "      <td>2012</td>\n",
       "      <td>16</td>\n",
       "      <td>Republic of Korea</td>\n",
       "      <td>0</td>\n",
       "    </tr>\n",
       "    <tr>\n",
       "      <th>14</th>\n",
       "      <td>2012</td>\n",
       "      <td>16</td>\n",
       "      <td>Saudi Arabia</td>\n",
       "      <td>0</td>\n",
       "    </tr>\n",
       "  </tbody>\n",
       "</table>\n",
       "</div>"
      ],
      "text/plain": [
       "    Year  Week             Region  New Cases\n",
       "0   2012    12    Other Countries          1\n",
       "1   2012    12  Republic of Korea          0\n",
       "2   2012    12       Saudi Arabia          0\n",
       "3   2012    13    Other Countries          0\n",
       "4   2012    13  Republic of Korea          0\n",
       "5   2012    13       Saudi Arabia          0\n",
       "6   2012    14    Other Countries          1\n",
       "7   2012    14  Republic of Korea          0\n",
       "8   2012    14       Saudi Arabia          0\n",
       "9   2012    15    Other Countries          0\n",
       "10  2012    15  Republic of Korea          0\n",
       "11  2012    15       Saudi Arabia          0\n",
       "12  2012    16    Other Countries          0\n",
       "13  2012    16  Republic of Korea          0\n",
       "14  2012    16       Saudi Arabia          0"
      ]
     },
     "execution_count": 3,
     "metadata": {},
     "output_type": "execute_result"
    }
   ],
   "source": [
    "mers.head(15)"
   ]
  },
  {
   "cell_type": "markdown",
   "metadata": {},
   "source": [
    "What countries were impacted with mers? "
   ]
  },
  {
   "cell_type": "code",
   "execution_count": 4,
   "metadata": {},
   "outputs": [
    {
     "data": {
      "text/plain": [
       "['Other Countries', 'Republic of Korea', 'Saudi Arabia']"
      ]
     },
     "execution_count": 4,
     "metadata": {},
     "output_type": "execute_result"
    }
   ],
   "source": [
    "countries = list(mers[\"Region\"].unique())\n",
    "countries"
   ]
  },
  {
   "cell_type": "code",
   "execution_count": 5,
   "metadata": {},
   "outputs": [],
   "source": [
    "other = mers.loc[mers[\"Region\"] == \"Other Countries\"]\n",
    "other = other.reset_index(drop=True)\n",
    "\n",
    "korea = mers.loc[mers[\"Region\"] == \"Republic of Korea\"]\n",
    "korea = korea.reset_index(drop=True)\n",
    "\n",
    "sa = mers.loc[mers[\"Region\"] == \"Saudi Arabia\"]\n",
    "sa = sa.reset_index(drop=True)"
   ]
  },
  {
   "cell_type": "code",
   "execution_count": 6,
   "metadata": {},
   "outputs": [
    {
     "data": {
      "image/png": "[encoded data removed]",
      "text/plain": [
       "<Figure size 432x288 with 1 Axes>"
      ]
     },
     "metadata": {
      "needs_background": "light"
     },
     "output_type": "display_data"
    }
   ],
   "source": [
    "plt.plot(other.index, other['New Cases'], 'r', linewidth = 2, label=\"Other\")\n",
    "plt.plot(korea.index, korea['New Cases'],'b',linewidth = 2, label=\"Republic of Korea\")\n",
    "plt.plot(sa.index, sa['New Cases'],'g',linewidth = 2, label=\"Saudi Arabia\")\n",
    "plt.title(\"MERS: Korea, Saudi Arabia, and Others Edition\")\n",
    "plt.xlabel(\"Weeks after first confirmed case\")\n",
    "plt.ylabel(\"New Cases\")\n",
    "plt.legend()\n",
    "plt.show()"
   ]
  },
  {
   "cell_type": "code",
   "execution_count": 7,
   "metadata": {},
   "outputs": [],
   "source": [
    "sa.Year = pd.to_datetime(sa.Year.astype(str), format='%Y') + \\\n",
    "             pd.to_timedelta(sa.Week.mul(7).astype(str) + ' days')\n",
    "             \n",
    "korea.Year = pd.to_datetime(korea.Year.astype(str), format='%Y') + \\\n",
    "             pd.to_timedelta(korea.Week.mul(7).astype(str) + ' days')\n",
    "\n",
    "other.Year = pd.to_datetime(other.Year.astype(str), format='%Y') + \\\n",
    "             pd.to_timedelta(other.Week.mul(7).astype(str) + ' days')\n",
    "             \n",
    "\n",
    "sa = sa.drop([\"Week\"],axis=1)\n",
    "korea = korea.drop([\"Week\"],axis=1)\n",
    "other = other.drop([\"Week\"],axis=1)\n",
    "\n",
    "sa = sa.drop([\"Region\"],axis=1)\n",
    "korea = korea.drop([\"Region\"],axis=1)\n",
    "other = other.drop([\"Region\"],axis=1)\n",
    "\n",
    "sa = sa.set_index(\"Year\")\n",
    "korea = korea.set_index(\"Year\")\n",
    "other = other.set_index(\"Year\")\n",
    "\n",
    "\n",
    "train_data_sa = sa[:len(sa)-75]\n",
    "test_data_sa = sa[len(sa)-75:]\n",
    "train_data_korea = korea[:len(korea)-75]\n",
    "test_data_korea = korea[len(korea)-75:]\n",
    "train_data_other = other[:len(other)-75]\n",
    "test_data_other = other[len(other)-75:]\n"
   ]
  },
  {
   "cell_type": "code",
   "execution_count": 8,
   "metadata": {},
   "outputs": [
    {
     "name": "stdout",
     "output_type": "stream",
     "text": [
      "WARNING:tensorflow:From /Library/Frameworks/Python.framework/Versions/3.6/lib/python3.6/site-packages/tensorflow/python/ops/resource_variable_ops.py:435: colocate_with (from tensorflow.python.framework.ops) is deprecated and will be removed in a future version.\n",
      "Instructions for updating:\n",
      "Colocations handled automatically by placer.\n",
      "Model: \"sequential_1\"\n",
      "_________________________________________________________________\n",
      "Layer (type)                 Output Shape              Param #   \n",
      "=================================================================\n",
      "lstm_1 (LSTM)                (None, 200)               161600    \n",
      "_________________________________________________________________\n",
      "dense_1 (Dense)              (None, 1)                 201       \n",
      "=================================================================\n",
      "Total params: 161,801\n",
      "Trainable params: 161,801\n",
      "Non-trainable params: 0\n",
      "_________________________________________________________________\n",
      "WARNING:tensorflow:From /Library/Frameworks/Python.framework/Versions/3.6/lib/python3.6/site-packages/tensorflow/python/ops/math_ops.py:3066: to_int32 (from tensorflow.python.ops.math_ops) is deprecated and will be removed in a future version.\n",
      "Instructions for updating:\n",
      "Use tf.cast instead.\n",
      "Epoch 1/20\n",
      "294/294 [==============================] - 4s 14ms/step - loss: 0.0104\n",
      "Epoch 2/20\n",
      "294/294 [==============================] - 3s 9ms/step - loss: 0.0085\n",
      "Epoch 3/20\n",
      "294/294 [==============================] - 3s 9ms/step - loss: 0.0065\n",
      "Epoch 4/20\n",
      "294/294 [==============================] - 2s 8ms/step - loss: 0.0070\n",
      "Epoch 5/20\n",
      "294/294 [==============================] - 2s 8ms/step - loss: 0.0054\n",
      "Epoch 6/20\n",
      "294/294 [==============================] - 2s 7ms/step - loss: 0.0050\n",
      "Epoch 7/20\n",
      "294/294 [==============================] - 3s 9ms/step - loss: 0.0044\n",
      "Epoch 8/20\n",
      "294/294 [==============================] - 3s 9ms/step - loss: 0.0034\n",
      "Epoch 9/20\n",
      "294/294 [==============================] - 3s 9ms/step - loss: 0.0045\n",
      "Epoch 10/20\n",
      "294/294 [==============================] - 3s 10ms/step - loss: 0.0037\n",
      "Epoch 11/20\n",
      "294/294 [==============================] - 3s 12ms/step - loss: 0.0045\n",
      "Epoch 12/20\n",
      "294/294 [==============================] - 3s 10ms/step - loss: 0.0033\n",
      "Epoch 13/20\n",
      "294/294 [==============================] - 3s 9ms/step - loss: 0.0030\n",
      "Epoch 14/20\n",
      "294/294 [==============================] - 2s 8ms/step - loss: 0.0033\n",
      "Epoch 15/20\n",
      "294/294 [==============================] - 3s 9ms/step - loss: 0.0031\n",
      "Epoch 16/20\n",
      "294/294 [==============================] - 2s 8ms/step - loss: 0.0035\n",
      "Epoch 17/20\n",
      "294/294 [==============================] - 2s 8ms/step - loss: 0.0031\n",
      "Epoch 18/20\n",
      "294/294 [==============================] - 2s 8ms/step - loss: 0.0031\n",
      "Epoch 19/20\n",
      "294/294 [==============================] - 3s 9ms/step - loss: 0.0035\n",
      "Epoch 20/20\n",
      "294/294 [==============================] - 3s 11ms/step - loss: 0.0030\n"
     ]
    },
    {
     "data": {
      "text/plain": [
       "<keras.callbacks.callbacks.History at 0x132297da0>"
      ]
     },
     "execution_count": 8,
     "metadata": {},
     "output_type": "execute_result"
    }
   ],
   "source": [
    "scaler = MinMaxScaler()\n",
    "scaler.fit(train_data_sa)\n",
    "scaled_train_data = scaler.transform(train_data_sa)\n",
    "scaled_test_data = scaler.transform(test_data_sa)\n",
    "\n",
    "n_input = 7\n",
    "n_features= 1\n",
    "generator = TimeseriesGenerator(scaled_train_data, scaled_train_data, length=n_input, batch_size=1)\n",
    "\n",
    "\n",
    "lstm_model = Sequential()\n",
    "lstm_model.add(LSTM(200, activation='relu', input_shape=(n_input, n_features)))\n",
    "lstm_model.add(Dense(1))\n",
    "lstm_model.compile(optimizer='adam', loss='mse')\n",
    "\n",
    "lstm_model.summary()\n",
    "\n",
    "lstm_model.fit_generator(generator,epochs=20)\n"
   ]
  },
  {
   "cell_type": "code",
   "execution_count": 9,
   "metadata": {},
   "outputs": [
    {
     "data": {
      "image/png": "[encoded data removed]",
      "text/plain": [
       "<Figure size 864x288 with 1 Axes>"
      ]
     },
     "metadata": {
      "needs_background": "light"
     },
     "output_type": "display_data"
    }
   ],
   "source": [
    "losses_lstm = lstm_model.history.history['loss']\n",
    "plt.figure(figsize=(12,4))\n",
    "plt.xlabel(\"Epochs\")\n",
    "plt.ylabel(\"Loss\")\n",
    "plt.xticks(np.arange(0,21,1))\n",
    "plt.plot(range(len(losses_lstm)),losses_lstm);\n",
    "\n",
    "\n"
   ]
  },
  {
   "cell_type": "code",
   "execution_count": 10,
   "metadata": {},
   "outputs": [
    {
     "data": {
      "text/plain": [
       "[array([0.0802161], dtype=float32),\n",
       " array([0.08413479], dtype=float32),\n",
       " array([0.08494452], dtype=float32),\n",
       " array([0.08381815], dtype=float32),\n",
       " array([0.08118621], dtype=float32),\n",
       " array([0.0751201], dtype=float32),\n",
       " array([0.0647444], dtype=float32),\n",
       " array([0.05735666], dtype=float32),\n",
       " array([0.05251136], dtype=float32),\n",
       " array([0.0493799], dtype=float32),\n",
       " array([0.04785894], dtype=float32),\n",
       " array([0.04807957], dtype=float32),\n",
       " array([0.04999079], dtype=float32),\n",
       " array([0.05310396], dtype=float32),\n",
       " array([0.05679394], dtype=float32),\n",
       " array([0.06089997], dtype=float32),\n",
       " array([0.06483337], dtype=float32),\n",
       " array([0.06799123], dtype=float32),\n",
       " array([0.06987397], dtype=float32),\n",
       " array([0.07024631], dtype=float32),\n",
       " array([0.06900673], dtype=float32),\n",
       " array([0.06641214], dtype=float32),\n",
       " array([0.06303242], dtype=float32),\n",
       " array([0.05961585], dtype=float32),\n",
       " array([0.05670961], dtype=float32),\n",
       " array([0.05462388], dtype=float32),\n",
       " array([0.05352303], dtype=float32),\n",
       " array([0.05334969], dtype=float32),\n",
       " array([0.05411427], dtype=float32),\n",
       " array([0.05553298], dtype=float32),\n",
       " array([0.05741667], dtype=float32),\n",
       " array([0.05954359], dtype=float32),\n",
       " array([0.06158295], dtype=float32),\n",
       " array([0.06330157], dtype=float32),\n",
       " array([0.06440835], dtype=float32),\n",
       " array([0.06477681], dtype=float32),\n",
       " array([0.06434524], dtype=float32),\n",
       " array([0.06325667], dtype=float32),\n",
       " array([0.06172678], dtype=float32),\n",
       " array([0.06003927], dtype=float32),\n",
       " array([0.05848061], dtype=float32),\n",
       " array([0.05726497], dtype=float32),\n",
       " array([0.05652364], dtype=float32),\n",
       " array([0.0562875], dtype=float32),\n",
       " array([0.05653373], dtype=float32),\n",
       " array([0.05718254], dtype=float32),\n",
       " array([0.0581337], dtype=float32),\n",
       " array([0.05922708], dtype=float32),\n",
       " array([0.06032629], dtype=float32),\n",
       " array([0.06125659], dtype=float32),\n",
       " array([0.06189663], dtype=float32),\n",
       " array([0.0621751], dtype=float32),\n",
       " array([0.0620702], dtype=float32),\n",
       " array([0.0616172], dtype=float32),\n",
       " array([0.06089679], dtype=float32),\n",
       " array([0.06006472], dtype=float32),\n",
       " array([0.05923785], dtype=float32),\n",
       " array([0.05854072], dtype=float32),\n",
       " array([0.05805749], dtype=float32),\n",
       " array([0.05783841], dtype=float32),\n",
       " array([0.05789029], dtype=float32),\n",
       " array([0.0581776], dtype=float32),\n",
       " array([0.05865015], dtype=float32),\n",
       " array([0.05922443], dtype=float32),\n",
       " array([0.059814], dtype=float32),\n",
       " array([0.06034827], dtype=float32),\n",
       " array([0.06074218], dtype=float32),\n",
       " array([0.06094831], dtype=float32),\n",
       " array([0.06094946], dtype=float32),\n",
       " array([0.06075707], dtype=float32),\n",
       " array([0.06041247], dtype=float32),\n",
       " array([0.05998722], dtype=float32),\n",
       " array([0.05954201], dtype=float32),\n",
       " array([0.05913985], dtype=float32),\n",
       " array([0.05883836], dtype=float32)]"
      ]
     },
     "execution_count": 10,
     "metadata": {},
     "output_type": "execute_result"
    }
   ],
   "source": [
    "lstm_predictions_scaled = list()\n",
    "\n",
    "batch = scaled_train_data[-n_input:]\n",
    "current_batch = batch.reshape((1, n_input, n_features))\n",
    "\n",
    "for i in range(len(test_data_sa)):   \n",
    "    lstm_pred = lstm_model.predict(current_batch)[0]\n",
    "    lstm_predictions_scaled.append(lstm_pred) \n",
    "    current_batch = np.append(current_batch[:,1:,:],[[lstm_pred]],axis=1)\n",
    "\n",
    "lstm_predictions_scaled"
   ]
  },
  {
   "cell_type": "code",
   "execution_count": 11,
   "metadata": {},
   "outputs": [
    {
     "data": {
      "image/png": "[encoded data removed]",
      "text/plain": [
       "<Figure size 1152x360 with 1 Axes>"
      ]
     },
     "metadata": {
      "needs_background": "light"
     },
     "output_type": "display_data"
    }
   ],
   "source": [
    "lstm_predictions = scaler.inverse_transform(lstm_predictions_scaled)\n",
    "\n",
    "lstm_predictions\n",
    "\n",
    "test_data_sa['LSTM_Predictions'] = lstm_predictions\n",
    "test_data_sa\n",
    "\n",
    "\n",
    "test_data_sa['New Cases'].plot(figsize = (16,5), legend=True)\n",
    "test_data_sa['LSTM_Predictions'].plot(legend = True);\n"
   ]
  },
  {
   "cell_type": "code",
   "execution_count": 12,
   "metadata": {},
   "outputs": [],
   "source": [
    "lstm_rmse_error_sa = rmse(test_data_sa['New Cases'], test_data_sa[\"LSTM_Predictions\"])\n",
    "lstm_mse_error_sa = lstm_rmse_error_sa**2\n",
    "mean_value = sa['New Cases'].mean()"
   ]
  },
  {
   "cell_type": "code",
   "execution_count": 13,
   "metadata": {},
   "outputs": [
    {
     "name": "stdout",
     "output_type": "stream",
     "text": [
      "Model: \"sequential_2\"\n",
      "_________________________________________________________________\n",
      "Layer (type)                 Output Shape              Param #   \n",
      "=================================================================\n",
      "lstm_2 (LSTM)                (None, 200)               161600    \n",
      "_________________________________________________________________\n",
      "dense_2 (Dense)              (None, 1)                 201       \n",
      "=================================================================\n",
      "Total params: 161,801\n",
      "Trainable params: 161,801\n",
      "Non-trainable params: 0\n",
      "_________________________________________________________________\n",
      "Epoch 1/20\n",
      "294/294 [==============================] - 3s 11ms/step - loss: 0.0044\n",
      "Epoch 2/20\n",
      "294/294 [==============================] - 4s 14ms/step - loss: 0.0039\n",
      "Epoch 3/20\n",
      "294/294 [==============================] - 4s 13ms/step - loss: 0.0038\n",
      "Epoch 4/20\n",
      "294/294 [==============================] - 4s 14ms/step - loss: 0.0035\n",
      "Epoch 5/20\n",
      "294/294 [==============================] - 3s 10ms/step - loss: 0.0033\n",
      "Epoch 6/20\n",
      "294/294 [==============================] - 3s 11ms/step - loss: 0.0031\n",
      "Epoch 7/20\n",
      "294/294 [==============================] - 3s 9ms/step - loss: 0.0030\n",
      "Epoch 8/20\n",
      "294/294 [==============================] - 3s 10ms/step - loss: 0.0032\n",
      "Epoch 9/20\n",
      "294/294 [==============================] - 3s 10ms/step - loss: 0.0030\n",
      "Epoch 10/20\n",
      "294/294 [==============================] - 3s 10ms/step - loss: 0.0030\n",
      "Epoch 11/20\n",
      "294/294 [==============================] - 3s 10ms/step - loss: 0.0029\n",
      "Epoch 12/20\n",
      "294/294 [==============================] - 3s 11ms/step - loss: 0.0028\n",
      "Epoch 13/20\n",
      "294/294 [==============================] - 3s 10ms/step - loss: 0.0028\n",
      "Epoch 14/20\n",
      "294/294 [==============================] - 3s 10ms/step - loss: 0.0028\n",
      "Epoch 15/20\n",
      "294/294 [==============================] - 3s 11ms/step - loss: 0.0028\n",
      "Epoch 16/20\n",
      "294/294 [==============================] - 3s 11ms/step - loss: 0.0027\n",
      "Epoch 17/20\n",
      "294/294 [==============================] - 3s 10ms/step - loss: 0.0026\n",
      "Epoch 18/20\n",
      "294/294 [==============================] - 3s 11ms/step - loss: 0.0024\n",
      "Epoch 19/20\n",
      "294/294 [==============================] - 3s 9ms/step - loss: 0.0023\n",
      "Epoch 20/20\n",
      "294/294 [==============================] - 3s 12ms/step - loss: 0.0024\n"
     ]
    },
    {
     "data": {
      "text/plain": [
       "<keras.callbacks.callbacks.History at 0x1336ef550>"
      ]
     },
     "execution_count": 13,
     "metadata": {},
     "output_type": "execute_result"
    }
   ],
   "source": [
    "scaler = MinMaxScaler()\n",
    "scaler.fit(train_data_korea)\n",
    "scaled_train_data = scaler.transform(train_data_korea)\n",
    "scaled_test_data = scaler.transform(test_data_korea)\n",
    "\n",
    "n_input = 7\n",
    "n_features= 1\n",
    "generator = TimeseriesGenerator(scaled_train_data, scaled_train_data, length=n_input, batch_size=1)\n",
    "\n",
    "\n",
    "lstm_model = Sequential()\n",
    "lstm_model.add(LSTM(200, activation='relu', input_shape=(n_input, n_features)))\n",
    "lstm_model.add(Dense(1))\n",
    "lstm_model.compile(optimizer='adam', loss='mse')\n",
    "\n",
    "lstm_model.summary()\n",
    "\n",
    "lstm_model.fit_generator(generator,epochs=20)\n",
    "\n"
   ]
  },
  {
   "cell_type": "code",
   "execution_count": 14,
   "metadata": {},
   "outputs": [
    {
     "data": {
      "image/png": "[encoded data removed]",
      "text/plain": [
       "<Figure size 864x288 with 1 Axes>"
      ]
     },
     "metadata": {
      "needs_background": "light"
     },
     "output_type": "display_data"
    }
   ],
   "source": [
    "losses_lstm = lstm_model.history.history['loss']\n",
    "plt.figure(figsize=(12,4))\n",
    "plt.xlabel(\"Epochs\")\n",
    "plt.ylabel(\"Loss\")\n",
    "plt.xticks(np.arange(0,21,1))\n",
    "plt.plot(range(len(losses_lstm)),losses_lstm);\n",
    "\n",
    "\n"
   ]
  },
  {
   "cell_type": "code",
   "execution_count": 15,
   "metadata": {},
   "outputs": [
    {
     "data": {
      "image/png": "[encoded data removed]",
      "text/plain": [
       "<Figure size 1152x360 with 1 Axes>"
      ]
     },
     "metadata": {
      "needs_background": "light"
     },
     "output_type": "display_data"
    }
   ],
   "source": [
    "lstm_predictions_scaled = list()\n",
    "\n",
    "batch = scaled_train_data[-n_input:]\n",
    "current_batch = batch.reshape((1, n_input, n_features))\n",
    "\n",
    "for i in range(len(test_data_korea)):   \n",
    "    lstm_pred = lstm_model.predict(current_batch)[0]\n",
    "    lstm_predictions_scaled.append(lstm_pred) \n",
    "    current_batch = np.append(current_batch[:,1:,:],[[lstm_pred]],axis=1)\n",
    "\n",
    "lstm_predictions_scaled\n",
    "\n",
    "lstm_predictions = scaler.inverse_transform(lstm_predictions_scaled)\n",
    "\n",
    "lstm_predictions\n",
    "\n",
    "test_data_korea['LSTM_Predictions'] = lstm_predictions\n",
    "test_data_korea\n",
    "\n",
    "\n",
    "test_data_korea['New Cases'].plot(figsize = (16,5), legend=True)\n",
    "test_data_korea['LSTM_Predictions'].plot(legend = True);"
   ]
  },
  {
   "cell_type": "code",
   "execution_count": 16,
   "metadata": {},
   "outputs": [],
   "source": [
    "\n",
    "lstm_rmse_error_korea = rmse(test_data_korea['New Cases'], test_data_korea[\"LSTM_Predictions\"])\n",
    "lstm_mse_error_korea = lstm_rmse_error_korea**2\n",
    "mean_value = korea['New Cases'].mean()"
   ]
  },
  {
   "cell_type": "code",
   "execution_count": 17,
   "metadata": {},
   "outputs": [
    {
     "name": "stdout",
     "output_type": "stream",
     "text": [
      "Model: \"sequential_3\"\n",
      "_________________________________________________________________\n",
      "Layer (type)                 Output Shape              Param #   \n",
      "=================================================================\n",
      "lstm_3 (LSTM)                (None, 200)               161600    \n",
      "_________________________________________________________________\n",
      "dense_3 (Dense)              (None, 1)                 201       \n",
      "=================================================================\n",
      "Total params: 161,801\n",
      "Trainable params: 161,801\n",
      "Non-trainable params: 0\n",
      "_________________________________________________________________\n",
      "Epoch 1/20\n",
      "294/294 [==============================] - 3s 11ms/step - loss: 0.0077\n",
      "Epoch 2/20\n",
      "294/294 [==============================] - 2s 8ms/step - loss: 0.0069\n",
      "Epoch 3/20\n",
      "294/294 [==============================] - 3s 9ms/step - loss: 0.0064\n",
      "Epoch 4/20\n",
      "294/294 [==============================] - 3s 9ms/step - loss: 0.0058\n",
      "Epoch 5/20\n",
      "294/294 [==============================] - 3s 11ms/step - loss: 0.0059\n",
      "Epoch 6/20\n",
      "294/294 [==============================] - 3s 9ms/step - loss: 0.0051\n",
      "Epoch 7/20\n",
      "294/294 [==============================] - 3s 9ms/step - loss: 0.0064\n",
      "Epoch 8/20\n",
      "294/294 [==============================] - 2s 8ms/step - loss: 0.0052\n",
      "Epoch 9/20\n",
      "294/294 [==============================] - 3s 10ms/step - loss: 0.0052\n",
      "Epoch 10/20\n",
      "294/294 [==============================] - 3s 10ms/step - loss: 0.0055\n",
      "Epoch 11/20\n",
      "294/294 [==============================] - 3s 9ms/step - loss: 0.0047\n",
      "Epoch 12/20\n",
      "294/294 [==============================] - 3s 10ms/step - loss: 0.0046\n",
      "Epoch 13/20\n",
      "294/294 [==============================] - 2s 8ms/step - loss: 0.0043\n",
      "Epoch 14/20\n",
      "294/294 [==============================] - 3s 9ms/step - loss: 0.0049\n",
      "Epoch 15/20\n",
      "294/294 [==============================] - 3s 9ms/step - loss: 0.0045\n",
      "Epoch 16/20\n",
      "294/294 [==============================] - 3s 9ms/step - loss: 0.0041\n",
      "Epoch 17/20\n",
      "294/294 [==============================] - 3s 9ms/step - loss: 0.0033\n",
      "Epoch 18/20\n",
      "294/294 [==============================] - 3s 9ms/step - loss: 0.0047\n",
      "Epoch 19/20\n",
      "294/294 [==============================] - 3s 9ms/step - loss: 0.0035\n",
      "Epoch 20/20\n",
      "294/294 [==============================] - 3s 9ms/step - loss: 0.0035\n"
     ]
    },
    {
     "data": {
      "text/plain": [
       "<keras.callbacks.callbacks.History at 0x1335ba6d8>"
      ]
     },
     "execution_count": 17,
     "metadata": {},
     "output_type": "execute_result"
    }
   ],
   "source": [
    "scaler = MinMaxScaler()\n",
    "scaler.fit(train_data_other)\n",
    "scaled_train_data = scaler.transform(train_data_other)\n",
    "scaled_test_data = scaler.transform(test_data_other)\n",
    "\n",
    "\n",
    "\n",
    " \n",
    "\n",
    "n_input = 7\n",
    "n_features= 1\n",
    "generator = TimeseriesGenerator(scaled_train_data, scaled_train_data, length=n_input, batch_size=1)\n",
    "\n",
    "\n",
    "lstm_model = Sequential()\n",
    "lstm_model.add(LSTM(200, activation='relu', input_shape=(n_input, n_features)))\n",
    "lstm_model.add(Dense(1))\n",
    "lstm_model.compile(optimizer='adam', loss='mse')\n",
    "\n",
    "lstm_model.summary()\n",
    "\n",
    "lstm_model.fit_generator(generator,epochs=20)\n",
    "\n",
    "\n"
   ]
  },
  {
   "cell_type": "code",
   "execution_count": 18,
   "metadata": {},
   "outputs": [
    {
     "data": {
      "image/png": "[encoded data removed]",
      "text/plain": [
       "<Figure size 864x288 with 1 Axes>"
      ]
     },
     "metadata": {
      "needs_background": "light"
     },
     "output_type": "display_data"
    }
   ],
   "source": [
    "losses_lstm = lstm_model.history.history['loss']\n",
    "plt.figure(figsize=(12,4))\n",
    "plt.xlabel(\"Epochs\")\n",
    "plt.ylabel(\"Loss\")\n",
    "plt.xticks(np.arange(0,21,1))\n",
    "plt.plot(range(len(losses_lstm)),losses_lstm);\n",
    "\n",
    "\n"
   ]
  },
  {
   "cell_type": "code",
   "execution_count": 19,
   "metadata": {},
   "outputs": [
    {
     "data": {
      "text/plain": [
       "array([[0.47551729],\n",
       "       [0.48028916],\n",
       "       [0.483432  ],\n",
       "       [0.47157239],\n",
       "       [0.47512606],\n",
       "       [0.46357963],\n",
       "       [0.46867199],\n",
       "       [0.47456741],\n",
       "       [0.47457676],\n",
       "       [0.47447369],\n",
       "       [0.47430228],\n",
       "       [0.47436349],\n",
       "       [0.47433071],\n",
       "       [0.47449477],\n",
       "       [0.47459185],\n",
       "       [0.47459207],\n",
       "       [0.47459159],\n",
       "       [0.47459289],\n",
       "       [0.47459744],\n",
       "       [0.47460072],\n",
       "       [0.47460496],\n",
       "       [0.47460675],\n",
       "       [0.47460698],\n",
       "       [0.47460716],\n",
       "       [0.47460742],\n",
       "       [0.47460765],\n",
       "       [0.4746078 ],\n",
       "       [0.47460791],\n",
       "       [0.47460794],\n",
       "       [0.47460798],\n",
       "       [0.47460798],\n",
       "       [0.47460798],\n",
       "       [0.47460802],\n",
       "       [0.47460802],\n",
       "       [0.47460802],\n",
       "       [0.47460802],\n",
       "       [0.47460802],\n",
       "       [0.47460802],\n",
       "       [0.47460802],\n",
       "       [0.47460802],\n",
       "       [0.47460802],\n",
       "       [0.47460802],\n",
       "       [0.47460802],\n",
       "       [0.47460802],\n",
       "       [0.47460802],\n",
       "       [0.47460802],\n",
       "       [0.47460802],\n",
       "       [0.47460802],\n",
       "       [0.47460802],\n",
       "       [0.47460802],\n",
       "       [0.47460802],\n",
       "       [0.47460802],\n",
       "       [0.47460802],\n",
       "       [0.47460802],\n",
       "       [0.47460802],\n",
       "       [0.47460802],\n",
       "       [0.47460802],\n",
       "       [0.47460802],\n",
       "       [0.47460802],\n",
       "       [0.47460802],\n",
       "       [0.47460802],\n",
       "       [0.47460802],\n",
       "       [0.47460802],\n",
       "       [0.47460802],\n",
       "       [0.47460802],\n",
       "       [0.47460802],\n",
       "       [0.47460802],\n",
       "       [0.47460802],\n",
       "       [0.47460802],\n",
       "       [0.47460802],\n",
       "       [0.47460802],\n",
       "       [0.47460802],\n",
       "       [0.47460802],\n",
       "       [0.47460802],\n",
       "       [0.47460802]])"
      ]
     },
     "execution_count": 19,
     "metadata": {},
     "output_type": "execute_result"
    }
   ],
   "source": [
    "lstm_predictions_scaled = list()\n",
    "\n",
    "batch = scaled_train_data[-n_input:]\n",
    "current_batch = batch.reshape((1, n_input, n_features))\n",
    "\n",
    "for i in range(len(test_data_other)):   \n",
    "    lstm_pred = lstm_model.predict(current_batch)[0]\n",
    "    lstm_predictions_scaled.append(lstm_pred) \n",
    "    current_batch = np.append(current_batch[:,1:,:],[[lstm_pred]],axis=1)\n",
    "\n",
    "lstm_predictions_scaled\n",
    "\n",
    "lstm_predictions = scaler.inverse_transform(lstm_predictions_scaled)\n",
    "\n",
    "lstm_predictions\n",
    "\n",
    "\n"
   ]
  },
  {
   "cell_type": "code",
   "execution_count": 20,
   "metadata": {},
   "outputs": [
    {
     "data": {
      "image/png": "[encoded data removed]",
      "text/plain": [
       "<Figure size 1152x360 with 1 Axes>"
      ]
     },
     "metadata": {
      "needs_background": "light"
     },
     "output_type": "display_data"
    }
   ],
   "source": [
    "test_data_other['LSTM_Predictions'] = lstm_predictions\n",
    "test_data_other\n",
    "\n",
    "\n",
    "test_data_other['New Cases'].plot(figsize = (16,5), legend=True)\n",
    "test_data_other['LSTM_Predictions'].plot(legend = True);"
   ]
  },
  {
   "cell_type": "code",
   "execution_count": 21,
   "metadata": {},
   "outputs": [],
   "source": [
    "lstm_rmse_error_other = rmse(test_data_other['New Cases'], test_data_other[\"LSTM_Predictions\"])\n",
    "lstm_mse_error_other = lstm_rmse_error_other**2\n",
    "mean_value = other['New Cases'].mean()"
   ]
  },
  {
   "cell_type": "code",
   "execution_count": 22,
   "metadata": {},
   "outputs": [
    {
     "name": "stdout",
     "output_type": "stream",
     "text": [
      "Model                            MSE      RMSE\n",
      "------------------------  ----------  --------\n",
      "Korea LSTM Errors          0.0132744  0.115215\n",
      "Saudi Arabia LSTM Errors  24.5149     4.95126\n",
      "Other LSTM Errors          0.742677   0.861787\n"
     ]
    }
   ],
   "source": [
    "from tabulate import tabulate\n",
    "\n",
    "print(tabulate([\n",
    "    ['Korea LSTM Errors', lstm_mse_error_korea, lstm_rmse_error_korea], \n",
    "    ['Saudi Arabia LSTM Errors', lstm_mse_error_sa, lstm_rmse_error_sa],\n",
    "    ['Other LSTM Errors', lstm_mse_error_other, lstm_rmse_error_other]], \n",
    "    \n",
    "    headers=['Model', 'MSE', \"RMSE\", \"Mean\"]))\n",
    "\n",
    "\n"
   ]
  },
  {
   "cell_type": "code",
   "execution_count": null,
   "metadata": {},
   "outputs": [],
   "source": []
  }
 ],
 "metadata": {
  "kernelspec": {
   "display_name": "Python 3",
   "language": "python",
   "name": "python3"
  },
  "language_info": {
   "codemirror_mode": {
    "name": "ipython",
    "version": 3
   },
   "file_extension": ".py",
   "mimetype": "text/x-python",
   "name": "python",
   "nbconvert_exporter": "python",
   "pygments_lexer": "ipython3",
   "version": "3.6.5"
  }
 },
 "nbformat": 4,
 "nbformat_minor": 2
}
